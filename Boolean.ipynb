{
 "cells": [
  {
   "cell_type": "markdown",
   "id": "83075983-2a74-4133-909e-bc2aa08e62c5",
   "metadata": {},
   "source": [
    "# Boolean"
   ]
  },
  {
   "cell_type": "code",
   "execution_count": 42,
   "id": "7ba91e52-e09e-464b-b99a-e5e8fb99a5e8",
   "metadata": {},
   "outputs": [],
   "source": [
    " # Boolean, bir değişken tipidir ve mantıksal ifadeleri kontrol etmek için kullanılır."
   ]
  },
  {
   "cell_type": "code",
   "execution_count": 43,
   "id": "34fde422-a563-4078-b213-eefafb2b7a79",
   "metadata": {},
   "outputs": [],
   "source": [
    "listem = [5000,3000,41000,5002,1000,2000]"
   ]
  },
  {
   "cell_type": "code",
   "execution_count": 44,
   "id": "972cef90-44f3-43d8-ab41-f0fa07d93d91",
   "metadata": {},
   "outputs": [
    {
     "data": {
      "text/plain": [
       "6"
      ]
     },
     "execution_count": 44,
     "metadata": {},
     "output_type": "execute_result"
    }
   ],
   "source": [
    "len(listem) # listenin uzunluğunu bize verir"
   ]
  },
  {
   "cell_type": "code",
   "execution_count": 45,
   "id": "50408516-52f7-40a2-9983-46f8df8f3fb2",
   "metadata": {},
   "outputs": [
    {
     "data": {
      "text/plain": [
       "57002"
      ]
     },
     "execution_count": 45,
     "metadata": {},
     "output_type": "execute_result"
    }
   ],
   "source": [
    "sum(listem)  # Listedeki sayıların toplamını veren metod"
   ]
  },
  {
   "cell_type": "code",
   "execution_count": 46,
   "id": "e3746e9e-e155-4877-a7dd-80da85f68cd3",
   "metadata": {},
   "outputs": [],
   "source": [
    "ortalama = sum(listem) / len(listem)"
   ]
  },
  {
   "cell_type": "code",
   "execution_count": 47,
   "id": "5aea7093-651c-4de2-a511-51eb13f95e9c",
   "metadata": {},
   "outputs": [
    {
     "data": {
      "text/plain": [
       "9500.333333333334"
      ]
     },
     "execution_count": 47,
     "metadata": {},
     "output_type": "execute_result"
    }
   ],
   "source": [
    "ortalama"
   ]
  },
  {
   "cell_type": "code",
   "execution_count": 48,
   "id": "8b2a8e03-cf51-4aa8-bd15-24fae186481e",
   "metadata": {},
   "outputs": [
    {
     "data": {
      "text/plain": [
       "False"
      ]
     },
     "execution_count": 48,
     "metadata": {},
     "output_type": "execute_result"
    }
   ],
   "source": [
    "listem[3] > ortalama"
   ]
  },
  {
   "cell_type": "code",
   "execution_count": 49,
   "id": "a6928f4d-4ec5-4205-99d8-3f4ac21c42fc",
   "metadata": {},
   "outputs": [
    {
     "data": {
      "text/plain": [
       "True"
      ]
     },
     "execution_count": 49,
     "metadata": {},
     "output_type": "execute_result"
    }
   ],
   "source": [
    "listem[2] > ortalama"
   ]
  },
  {
   "cell_type": "code",
   "execution_count": null,
   "id": "84b70db8-7f16-44a8-9529-6cf0271bb82f",
   "metadata": {},
   "outputs": [],
   "source": [
    "kullanıcıMaas = int ( input(\"Maaş Bilgisini Girinzi : \" ))"
   ]
  },
  {
   "cell_type": "code",
   "execution_count": null,
   "id": "c44443b3-9172-47a7-8183-695b4b25016d",
   "metadata": {},
   "outputs": [],
   "source": [
    "ortalama > kullanıcıMaas"
   ]
  },
  {
   "cell_type": "code",
   "execution_count": null,
   "id": "0b32b6b0-d81e-4997-a703-607c0e19173d",
   "metadata": {},
   "outputs": [],
   "source": [
    "x = 10 \n",
    "y = 8 "
   ]
  },
  {
   "cell_type": "code",
   "execution_count": null,
   "id": "22f5c734-708d-4883-afbd-23d078b554ef",
   "metadata": {},
   "outputs": [],
   "source": [
    "x>y"
   ]
  },
  {
   "cell_type": "code",
   "execution_count": null,
   "id": "2a4e90be-895d-4c73-86ac-76a58957794f",
   "metadata": {},
   "outputs": [],
   "source": [
    "x<y"
   ]
  },
  {
   "cell_type": "code",
   "execution_count": null,
   "id": "be953199-ba73-4ae8-b91c-b99fc548147d",
   "metadata": {},
   "outputs": [],
   "source": [
    "x >= y "
   ]
  },
  {
   "cell_type": "code",
   "execution_count": null,
   "id": "1b7665c1-0c60-4ada-977a-86c2e7ad08ab",
   "metadata": {},
   "outputs": [],
   "source": [
    "x <= y"
   ]
  },
  {
   "cell_type": "code",
   "execution_count": null,
   "id": "07b2c34b-587c-4b57-aaf5-24682c11720e",
   "metadata": {},
   "outputs": [],
   "source": [
    "x == y "
   ]
  },
  {
   "cell_type": "code",
   "execution_count": null,
   "id": "ec377ff8-6a03-44c4-adb4-a4aa64363ec7",
   "metadata": {},
   "outputs": [],
   "source": [
    "x != y "
   ]
  },
  {
   "cell_type": "code",
   "execution_count": null,
   "id": "7976df46-6d6d-45d1-a3aa-313100ed7285",
   "metadata": {},
   "outputs": [],
   "source": [
    "3 > 1 and 3 > 2 "
   ]
  },
  {
   "cell_type": "code",
   "execution_count": null,
   "id": "e7430121-e9b7-409d-9bc2-b0d04f1097e9",
   "metadata": {},
   "outputs": [],
   "source": [
    "3 > 1 and 3<2 "
   ]
  },
  {
   "cell_type": "code",
   "execution_count": null,
   "id": "e6cd2ca3-89d7-47c1-9a67-03b5202b12c0",
   "metadata": {},
   "outputs": [],
   "source": [
    "3 > 1 or 3 < 2  "
   ]
  },
  {
   "cell_type": "code",
   "execution_count": null,
   "id": "108b378b-d3de-4718-99e6-2935336488b1",
   "metadata": {},
   "outputs": [],
   "source": [
    "5 == 5"
   ]
  },
  {
   "cell_type": "code",
   "execution_count": 41,
   "id": "aede9530-7670-4520-a616-a6f1b1061a40",
   "metadata": {},
   "outputs": [
    {
     "data": {
      "text/plain": [
       "False"
      ]
     },
     "execution_count": 41,
     "metadata": {},
     "output_type": "execute_result"
    }
   ],
   "source": [
    "not 5 == 5 "
   ]
  }
 ],
 "metadata": {
  "kernelspec": {
   "display_name": "Python 3 (ipykernel)",
   "language": "python",
   "name": "python3"
  },
  "language_info": {
   "codemirror_mode": {
    "name": "ipython",
    "version": 3
   },
   "file_extension": ".py",
   "mimetype": "text/x-python",
   "name": "python",
   "nbconvert_exporter": "python",
   "pygments_lexer": "ipython3",
   "version": "3.12.7"
  }
 },
 "nbformat": 4,
 "nbformat_minor": 5
}
