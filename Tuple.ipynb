{
 "cells": [
  {
   "cell_type": "markdown",
   "id": "d54aa0c9-1236-4032-90ff-0f4e935b9dc7",
   "metadata": {},
   "source": [
    "# Tuple"
   ]
  },
  {
   "cell_type": "markdown",
   "id": "b0ec9e79-3fc6-4a74-8656-738f24678cf0",
   "metadata": {},
   "source": [
    "Değiştirilemez (Immutable): İçeriği bir kez belirlendikten sonra değiştirilemez.\n",
    "Farklı veri tiplerini içerebilir: Bir tuple, sayı, metin, liste gibi farklı türdeki verileri aynı anda içerebilir.\n",
    "Tuple İçerisinde Aynı Elemanlar Bulunabilir:"
   ]
  },
  {
   "cell_type": "code",
   "execution_count": 5,
   "id": "ba994617-3bfd-4cc7-8913-629853e9221f",
   "metadata": {},
   "outputs": [],
   "source": [
    "benimListem = [1,2,\"A\",4.5]"
   ]
  },
  {
   "cell_type": "code",
   "execution_count": 6,
   "id": "edef0948-d773-47aa-a953-f21a6dcbc0a6",
   "metadata": {},
   "outputs": [],
   "source": [
    "benimListem[0] = 100"
   ]
  },
  {
   "cell_type": "code",
   "execution_count": 7,
   "id": "0be2f741-baed-4d0e-a641-caf8f9d541e3",
   "metadata": {},
   "outputs": [
    {
     "data": {
      "text/plain": [
       "[100, 2, 'A', 4.5]"
      ]
     },
     "execution_count": 7,
     "metadata": {},
     "output_type": "execute_result"
    }
   ],
   "source": [
    "benimListem"
   ]
  },
  {
   "cell_type": "code",
   "execution_count": 9,
   "id": "9f8180da-2e0b-48d5-8d79-04eafca11414",
   "metadata": {},
   "outputs": [],
   "source": [
    "benimTuple = (1,2,\"a\",4.5)"
   ]
  },
  {
   "cell_type": "code",
   "execution_count": 10,
   "id": "1d50caa3-3415-43db-a22a-bfcc1ba65634",
   "metadata": {},
   "outputs": [
    {
     "data": {
      "text/plain": [
       "1"
      ]
     },
     "execution_count": 10,
     "metadata": {},
     "output_type": "execute_result"
    }
   ],
   "source": [
    "benimTuple[0]"
   ]
  },
  {
   "cell_type": "code",
   "execution_count": 12,
   "id": "1b4ba87a-4d46-4917-9462-a91ea25016ab",
   "metadata": {},
   "outputs": [
    {
     "ename": "TypeError",
     "evalue": "'tuple' object does not support item assignment",
     "output_type": "error",
     "traceback": [
      "\u001b[1;31m---------------------------------------------------------------------------\u001b[0m",
      "\u001b[1;31mTypeError\u001b[0m                                 Traceback (most recent call last)",
      "Cell \u001b[1;32mIn[12], line 1\u001b[0m\n\u001b[1;32m----> 1\u001b[0m benimTuple[\u001b[38;5;241m2\u001b[39m] \u001b[38;5;241m=\u001b[39m \u001b[38;5;124m\"\u001b[39m\u001b[38;5;124mb\u001b[39m\u001b[38;5;124m\"\u001b[39m\n",
      "\u001b[1;31mTypeError\u001b[0m: 'tuple' object does not support item assignment"
     ]
    }
   ],
   "source": [
    "# benimTuple[2] = \"b\"   Tuple içindeki veriler değüişmez"
   ]
  },
  {
   "cell_type": "code",
   "execution_count": null,
   "id": "f1fb2ef8-e76c-485a-8fb6-c5a9cc53b488",
   "metadata": {},
   "outputs": [],
   "source": []
  }
 ],
 "metadata": {
  "kernelspec": {
   "display_name": "Python 3 (ipykernel)",
   "language": "python",
   "name": "python3"
  },
  "language_info": {
   "codemirror_mode": {
    "name": "ipython",
    "version": 3
   },
   "file_extension": ".py",
   "mimetype": "text/x-python",
   "name": "python",
   "nbconvert_exporter": "python",
   "pygments_lexer": "ipython3",
   "version": "3.12.7"
  }
 },
 "nbformat": 4,
 "nbformat_minor": 5
}
