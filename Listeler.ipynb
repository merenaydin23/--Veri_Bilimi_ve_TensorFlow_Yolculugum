{
 "cells": [
  {
   "cell_type": "code",
   "execution_count": 115,
   "id": "61aa4935-b923-4bfb-ad60-09621bde45d8",
   "metadata": {},
   "outputs": [],
   "source": [
    "benimAdım = \"Eren Aydın\""
   ]
  },
  {
   "cell_type": "code",
   "execution_count": 116,
   "id": "0a627382-37d1-42f1-8fd8-977e1672fb5c",
   "metadata": {},
   "outputs": [
    {
     "data": {
      "text/plain": [
       "'E'"
      ]
     },
     "execution_count": 116,
     "metadata": {},
     "output_type": "execute_result"
    }
   ],
   "source": [
    "benimAdım[0]"
   ]
  },
  {
   "cell_type": "code",
   "execution_count": 117,
   "id": "666cdda5-d313-4645-8ab1-7c58efad41d7",
   "metadata": {},
   "outputs": [],
   "source": [
    "# benimAdım[0] = \"b\"   ( Pythonda bir string değişkenin belirli indexi sadece değiştirilemez )"
   ]
  },
  {
   "cell_type": "code",
   "execution_count": 118,
   "id": "e59d5ad2-02d6-418f-b918-ecc591d1b207",
   "metadata": {},
   "outputs": [],
   "source": [
    "benimListem = [10,20,30,40,50 ]"
   ]
  },
  {
   "cell_type": "code",
   "execution_count": 119,
   "id": "667d6de2-f736-484c-9946-cc544ca67392",
   "metadata": {},
   "outputs": [
    {
     "data": {
      "text/plain": [
       "list"
      ]
     },
     "execution_count": 119,
     "metadata": {},
     "output_type": "execute_result"
    }
   ],
   "source": [
    "type(benimListem)"
   ]
  },
  {
   "cell_type": "code",
   "execution_count": 120,
   "id": "04811409-0137-4392-823c-626234bf5ea8",
   "metadata": {},
   "outputs": [],
   "source": [
    "benimNumaram = 41\n",
    "benimDiğerNumaram = 50 "
   ]
  },
  {
   "cell_type": "code",
   "execution_count": 121,
   "id": "ce9ea435-8e6e-4ab1-b745-d7e2396c0d24",
   "metadata": {},
   "outputs": [],
   "source": [
    "benimNumaraListem = [benimNumaram,benimDiğerNumaram ]"
   ]
  },
  {
   "cell_type": "code",
   "execution_count": 122,
   "id": "b2c39232-5283-49b0-851b-e9c975670ccd",
   "metadata": {},
   "outputs": [
    {
     "data": {
      "text/plain": [
       "50"
      ]
     },
     "execution_count": 122,
     "metadata": {},
     "output_type": "execute_result"
    }
   ],
   "source": [
    "benimNumaraListem[1]"
   ]
  },
  {
   "cell_type": "code",
   "execution_count": 123,
   "id": "7e840d76-8180-41e2-b222-627f185d348b",
   "metadata": {},
   "outputs": [
    {
     "data": {
      "text/plain": [
       "100"
      ]
     },
     "execution_count": 123,
     "metadata": {},
     "output_type": "execute_result"
    }
   ],
   "source": [
    "benimNumaraListem[1] = 100\n",
    "benimNumaraListem[1]   # Listelerde index değiştirebilir."
   ]
  },
  {
   "cell_type": "code",
   "execution_count": 124,
   "id": "82c70d95-65c4-4e6b-9ebc-adf2ffffb596",
   "metadata": {},
   "outputs": [
    {
     "data": {
      "text/plain": [
       "[41, 100]"
      ]
     },
     "execution_count": 124,
     "metadata": {},
     "output_type": "execute_result"
    }
   ],
   "source": [
    " benimNumaraListem"
   ]
  },
  {
   "cell_type": "code",
   "execution_count": 125,
   "id": "46fffa21-cd1b-4d36-8aeb-22ac957c0442",
   "metadata": {},
   "outputs": [],
   "source": [
    "benimNumaraListem.append(50)  # Listelerde yeni eleman eklemek için append metodu kullanılır "
   ]
  },
  {
   "cell_type": "code",
   "execution_count": 126,
   "id": "24bca20f-4d8a-48a6-a1b8-eacb86317d39",
   "metadata": {},
   "outputs": [
    {
     "data": {
      "text/plain": [
       "[41, 100, 50]"
      ]
     },
     "execution_count": 126,
     "metadata": {},
     "output_type": "execute_result"
    }
   ],
   "source": [
    "benimNumaraListem"
   ]
  },
  {
   "cell_type": "code",
   "execution_count": 127,
   "id": "e5d438e2-e81f-41a6-b612-61f72c1bf499",
   "metadata": {},
   "outputs": [
    {
     "data": {
      "text/plain": [
       "50"
      ]
     },
     "execution_count": 127,
     "metadata": {},
     "output_type": "execute_result"
    }
   ],
   "source": [
    "benimNumaraListem.pop() # Listenin sonundakki elemanı kaldırı"
   ]
  },
  {
   "cell_type": "code",
   "execution_count": 128,
   "id": "eef9fda0-a224-48dd-a1ba-c515dcc7390e",
   "metadata": {},
   "outputs": [
    {
     "data": {
      "text/plain": [
       "[41, 100]"
      ]
     },
     "execution_count": 128,
     "metadata": {},
     "output_type": "execute_result"
    }
   ],
   "source": [
    "benimNumaraListem"
   ]
  },
  {
   "cell_type": "code",
   "execution_count": 129,
   "id": "3071e692-dc14-4c66-af76-da99f6a8945d",
   "metadata": {},
   "outputs": [],
   "source": [
    "benimNumaraListem.reverse() # Listeyi ters çeviröe"
   ]
  },
  {
   "cell_type": "code",
   "execution_count": 130,
   "id": "bac82ca1-dd6e-4ef4-ba88-ad4cdc6ec0c9",
   "metadata": {},
   "outputs": [
    {
     "data": {
      "text/plain": [
       "[100, 41]"
      ]
     },
     "execution_count": 130,
     "metadata": {},
     "output_type": "execute_result"
    }
   ],
   "source": [
    "benimNumaraListem"
   ]
  },
  {
   "cell_type": "code",
   "execution_count": 131,
   "id": "414ee32f-f323-4aff-b750-bc3b25031ef2",
   "metadata": {},
   "outputs": [],
   "source": [
    "benimNumaraListem.remove(41) # istenilen elemanı çıkarır"
   ]
  },
  {
   "cell_type": "code",
   "execution_count": 132,
   "id": "13f8fa06-3489-4e42-9e1b-2593fdaaa771",
   "metadata": {},
   "outputs": [
    {
     "data": {
      "text/plain": [
       "[100]"
      ]
     },
     "execution_count": 132,
     "metadata": {},
     "output_type": "execute_result"
    }
   ],
   "source": [
    "benimNumaraListem"
   ]
  },
  {
   "cell_type": "code",
   "execution_count": 133,
   "id": "71226776-69fa-4d18-a272-35acb0eb3259",
   "metadata": {},
   "outputs": [
    {
     "data": {
      "text/plain": [
       "1"
      ]
     },
     "execution_count": 133,
     "metadata": {},
     "output_type": "execute_result"
    }
   ],
   "source": [
    "benimNumaraListem.count(100) # İstenilen elemandan kaç tane olduğunu sayar"
   ]
  },
  {
   "cell_type": "code",
   "execution_count": 134,
   "id": "1c878020-1280-4f53-bb38-504486df2617",
   "metadata": {},
   "outputs": [
    {
     "data": {
      "text/plain": [
       "0"
      ]
     },
     "execution_count": 134,
     "metadata": {},
     "output_type": "execute_result"
    }
   ],
   "source": [
    "benimNumaraListem.count(10)"
   ]
  },
  {
   "cell_type": "code",
   "execution_count": 135,
   "id": "367d20f2-50d2-4c36-a945-3cc6c2e172bf",
   "metadata": {},
   "outputs": [],
   "source": [
    "benimDiğerListem = [\"Eren\",\"Aydın\",\"Atlas\",\"Engin\"]\n",
    "benimStringListem = [\"Urfa\",\"Maraş\",\"Elazığ\"]"
   ]
  },
  {
   "cell_type": "code",
   "execution_count": 136,
   "id": "bc4e7b24-8b9f-42d8-b15a-90c48c16ce63",
   "metadata": {},
   "outputs": [
    {
     "data": {
      "text/plain": [
       "'Atlas'"
      ]
     },
     "execution_count": 136,
     "metadata": {},
     "output_type": "execute_result"
    }
   ],
   "source": [
    "benimDiğerListem[2]"
   ]
  },
  {
   "cell_type": "code",
   "execution_count": 137,
   "id": "7809f439-6b32-425f-ba86-fd5c9ea83fde",
   "metadata": {},
   "outputs": [],
   "source": [
    "benimToplamListem = benimDiğerListem+benimStringListem  # Listeler Birbirine eklenebilir"
   ]
  },
  {
   "cell_type": "code",
   "execution_count": 138,
   "id": "92a736f3-ba41-4d97-9384-49f500e9bd05",
   "metadata": {},
   "outputs": [
    {
     "data": {
      "text/plain": [
       "['Eren', 'Aydın', 'Atlas', 'Engin', 'Urfa', 'Maraş', 'Elazığ']"
      ]
     },
     "execution_count": 138,
     "metadata": {},
     "output_type": "execute_result"
    }
   ],
   "source": [
    "benimToplamListem"
   ]
  },
  {
   "cell_type": "code",
   "execution_count": 139,
   "id": "65d3c486-e79e-40ef-8d91-b3ed0674a86a",
   "metadata": {},
   "outputs": [
    {
     "data": {
      "text/plain": [
       "['Eren',\n",
       " 'Aydın',\n",
       " 'Atlas',\n",
       " 'Engin',\n",
       " 'Urfa',\n",
       " 'Maraş',\n",
       " 'Elazığ',\n",
       " 'Eren',\n",
       " 'Aydın',\n",
       " 'Atlas',\n",
       " 'Engin',\n",
       " 'Urfa',\n",
       " 'Maraş',\n",
       " 'Elazığ']"
      ]
     },
     "execution_count": 139,
     "metadata": {},
     "output_type": "execute_result"
    }
   ],
   "source": [
    "benimToplamListem*2  #Listeleri istediğimiz kadar yazdırabiliriz"
   ]
  },
  {
   "cell_type": "code",
   "execution_count": 140,
   "id": "d64beebe-8930-4c6b-8b4d-b2034548ecf1",
   "metadata": {},
   "outputs": [],
   "source": [
    "benimToplamListem.reverse()"
   ]
  },
  {
   "cell_type": "code",
   "execution_count": 141,
   "id": "cc18e6da-76f9-47f7-9c64-75a70761f2be",
   "metadata": {},
   "outputs": [
    {
     "data": {
      "text/plain": [
       "['Elazığ', 'Maraş', 'Urfa', 'Engin', 'Atlas', 'Aydın', 'Eren']"
      ]
     },
     "execution_count": 141,
     "metadata": {},
     "output_type": "execute_result"
    }
   ],
   "source": [
    "benimToplamListem"
   ]
  },
  {
   "cell_type": "code",
   "execution_count": 142,
   "id": "e30faa7d-1256-46a3-b3f7-1afdc7ba1a42",
   "metadata": {},
   "outputs": [],
   "source": [
    "karısıkListe = [1,2,3,4,5,\"Eren\",6] # Liste farklı değişken türleri içerebilir"
   ]
  },
  {
   "cell_type": "code",
   "execution_count": 143,
   "id": "b31516dc-f6df-44f5-b892-ab4a22ccad93",
   "metadata": {},
   "outputs": [
    {
     "data": {
      "text/plain": [
       "list"
      ]
     },
     "execution_count": 143,
     "metadata": {},
     "output_type": "execute_result"
    }
   ],
   "source": [
    "type(karısıkListe)"
   ]
  },
  {
   "cell_type": "code",
   "execution_count": 144,
   "id": "3fd75307-c866-4553-b60b-d6627acbb00c",
   "metadata": {},
   "outputs": [],
   "source": [
    "aranan = karısıkListe[0]"
   ]
  },
  {
   "cell_type": "code",
   "execution_count": 145,
   "id": "e29fa500-40cd-4d57-b47c-c97cd2ed2ff1",
   "metadata": {},
   "outputs": [
    {
     "data": {
      "text/plain": [
       "int"
      ]
     },
     "execution_count": 145,
     "metadata": {},
     "output_type": "execute_result"
    }
   ],
   "source": [
    "type(aranan)"
   ]
  },
  {
   "cell_type": "code",
   "execution_count": 146,
   "id": "ac6e9aa3-81b6-4e67-9cfb-0e4f0717e9ce",
   "metadata": {},
   "outputs": [
    {
     "data": {
      "text/plain": [
       "str"
      ]
     },
     "execution_count": 146,
     "metadata": {},
     "output_type": "execute_result"
    }
   ],
   "source": [
    "aranan = karısıkListe[5]\n",
    "type(aranan)"
   ]
  },
  {
   "cell_type": "code",
   "execution_count": 147,
   "id": "e9fa5cc6-4aa9-4e6f-a905-ccecb92f11f8",
   "metadata": {},
   "outputs": [],
   "source": [
    "nestedList = [1,5,\"Atıl\",4,[6,\"z\"]]  # Listeler iç içe geçebilir , bir listenin içine farklı liste eklenebilir"
   ]
  },
  {
   "cell_type": "code",
   "execution_count": 148,
   "id": "4fa9ff6b-9218-4606-a896-0627b07f952b",
   "metadata": {},
   "outputs": [
    {
     "data": {
      "text/plain": [
       "1"
      ]
     },
     "execution_count": 148,
     "metadata": {},
     "output_type": "execute_result"
    }
   ],
   "source": [
    "nestedList[0]"
   ]
  },
  {
   "cell_type": "code",
   "execution_count": 149,
   "id": "ec20bbcd-2245-43eb-b707-d9ecd978ba34",
   "metadata": {},
   "outputs": [
    {
     "data": {
      "text/plain": [
       "5"
      ]
     },
     "execution_count": 149,
     "metadata": {},
     "output_type": "execute_result"
    }
   ],
   "source": [
    "nestedList[1]"
   ]
  },
  {
   "cell_type": "code",
   "execution_count": 150,
   "id": "f3f1acb7-1e30-46e4-b43b-f03c049e3d2e",
   "metadata": {},
   "outputs": [
    {
     "data": {
      "text/plain": [
       "'Atıl'"
      ]
     },
     "execution_count": 150,
     "metadata": {},
     "output_type": "execute_result"
    }
   ],
   "source": [
    "nestedList[2]"
   ]
  },
  {
   "cell_type": "code",
   "execution_count": 151,
   "id": "c0fb5228-a03c-4853-99ea-7155ef3ba155",
   "metadata": {},
   "outputs": [
    {
     "data": {
      "text/plain": [
       "4"
      ]
     },
     "execution_count": 151,
     "metadata": {},
     "output_type": "execute_result"
    }
   ],
   "source": [
    "nestedList[3]"
   ]
  },
  {
   "cell_type": "code",
   "execution_count": 152,
   "id": "09ce3446-f341-4641-a1b0-84d2442ee35e",
   "metadata": {},
   "outputs": [
    {
     "data": {
      "text/plain": [
       "[6, 'z']"
      ]
     },
     "execution_count": 152,
     "metadata": {},
     "output_type": "execute_result"
    }
   ],
   "source": [
    "nestedList[4]"
   ]
  },
  {
   "cell_type": "code",
   "execution_count": 153,
   "id": "868d3fd7-50c2-405c-9275-5c6d8044bd16",
   "metadata": {},
   "outputs": [
    {
     "data": {
      "text/plain": [
       "list"
      ]
     },
     "execution_count": 153,
     "metadata": {},
     "output_type": "execute_result"
    }
   ],
   "source": [
    "type(nestedList[4])"
   ]
  },
  {
   "cell_type": "code",
   "execution_count": 154,
   "id": "66af3b97-f6e4-4513-afd4-16a68a342a9b",
   "metadata": {},
   "outputs": [
    {
     "data": {
      "text/plain": [
       "'z'"
      ]
     },
     "execution_count": 154,
     "metadata": {},
     "output_type": "execute_result"
    }
   ],
   "source": [
    "# nestedList in içindeki liste değişkenin içindeki string ifadeye erişme \n",
    "degistirme = nestedList[4][1]\n",
    "degistirme"
   ]
  },
  {
   "cell_type": "code",
   "execution_count": 155,
   "id": "fd35b9d0-e2b5-4546-9499-9a687c953f0e",
   "metadata": {},
   "outputs": [],
   "source": [
    "karmasıkListe = [[1, 2, 3, [\"a\", \"b\"], 50], 40, 20, [11, [\"z\", 5.5]], [3, [\"a\"]]]"
   ]
  },
  {
   "cell_type": "code",
   "execution_count": 156,
   "id": "e66b62eb-aacc-4e8b-8f3e-25e7da7e9115",
   "metadata": {},
   "outputs": [],
   "source": [
    "# bu satırda karmaşık listedeki string b ifadesine erişmeye çalışcaz\n",
    "aranan = karmasıkListe[0][3][1]"
   ]
  },
  {
   "cell_type": "code",
   "execution_count": 157,
   "id": "b0f38ac4-95d6-48cf-92de-f5d94d29de21",
   "metadata": {},
   "outputs": [
    {
     "data": {
      "text/plain": [
       "'b'"
      ]
     },
     "execution_count": 157,
     "metadata": {},
     "output_type": "execute_result"
    }
   ],
   "source": [
    "aranan"
   ]
  },
  {
   "cell_type": "code",
   "execution_count": 158,
   "id": "b371de38-4955-40e6-8f15-8dacbaca7692",
   "metadata": {},
   "outputs": [
    {
     "data": {
      "text/plain": [
       "[[1, 2, 3, ['a', 'b'], 50], 40, 20]"
      ]
     },
     "execution_count": 158,
     "metadata": {},
     "output_type": "execute_result"
    }
   ],
   "source": [
    "karmasıkListe[:3]"
   ]
  },
  {
   "cell_type": "code",
   "execution_count": 114,
   "id": "069f4713-6579-43f7-ac30-ee2590be3bc1",
   "metadata": {},
   "outputs": [
    {
     "data": {
      "text/plain": [
       "[[1, 2, 3, ['a', 'b'], 50], 20, [3, ['a']]]"
      ]
     },
     "execution_count": 114,
     "metadata": {},
     "output_type": "execute_result"
    }
   ],
   "source": [
    "karmasıkListe[::2]"
   ]
  }
 ],
 "metadata": {
  "kernelspec": {
   "display_name": "Python 3 (ipykernel)",
   "language": "python",
   "name": "python3"
  },
  "language_info": {
   "codemirror_mode": {
    "name": "ipython",
    "version": 3
   },
   "file_extension": ".py",
   "mimetype": "text/x-python",
   "name": "python",
   "nbconvert_exporter": "python",
   "pygments_lexer": "ipython3",
   "version": "3.12.7"
  }
 },
 "nbformat": 4,
 "nbformat_minor": 5
}
