{
 "cells": [
  {
   "cell_type": "code",
   "execution_count": 28,
   "id": "821673cf-860e-4b92-805c-20ad68519a7c",
   "metadata": {},
   "outputs": [],
   "source": [
    "benimListem = [1,2,3]"
   ]
  },
  {
   "cell_type": "code",
   "execution_count": 29,
   "id": "8037e48f-380e-4bc5-85eb-fefc26523d63",
   "metadata": {},
   "outputs": [
    {
     "data": {
      "text/plain": [
       "1"
      ]
     },
     "execution_count": 29,
     "metadata": {},
     "output_type": "execute_result"
    }
   ],
   "source": [
    "benimListem[0]"
   ]
  },
  {
   "cell_type": "markdown",
   "id": "8cfef2ac-72b5-4bcd-9407-6cf9b2a5a773",
   "metadata": {},
   "source": [
    "# Dictionary"
   ]
  },
  {
   "cell_type": "code",
   "execution_count": 30,
   "id": "2a5c85ff-7567-4d05-ae6b-d6e80371961b",
   "metadata": {},
   "outputs": [],
   "source": [
    "benimSözlük = {\"Anahtart Kelime\" : \"Deger\" }"
   ]
  },
  {
   "cell_type": "code",
   "execution_count": 31,
   "id": "11c30773-1827-4b02-b301-33e63009ce95",
   "metadata": {},
   "outputs": [
    {
     "data": {
      "text/plain": [
       "dict"
      ]
     },
     "execution_count": 31,
     "metadata": {},
     "output_type": "execute_result"
    }
   ],
   "source": [
    "type(benimSözlük)"
   ]
  },
  {
   "cell_type": "code",
   "execution_count": 32,
   "id": "2b1f00e9-1aaa-4fa4-a170-a1aa5f050654",
   "metadata": {},
   "outputs": [],
   "source": [
    "benimSözlük[\"Anahtart Kelime\"];"
   ]
  },
  {
   "cell_type": "code",
   "execution_count": 33,
   "id": "64ed3493-a709-4dab-8c69-d8ec18799808",
   "metadata": {},
   "outputs": [],
   "source": [
    "benimYemeklerim = [ \"Elma\" ,\"Karpuz\",\"Muz\"]"
   ]
  },
  {
   "cell_type": "code",
   "execution_count": 34,
   "id": "d5a793e3-fd9d-40e5-b5ac-0f87afa69c22",
   "metadata": {},
   "outputs": [],
   "source": [
    "benimKalorilerim = [100,200,230]"
   ]
  },
  {
   "cell_type": "code",
   "execution_count": 35,
   "id": "2f439113-6a89-4a4d-bfe1-3c963eb9944c",
   "metadata": {},
   "outputs": [],
   "source": [
    "benimYemekKaloriSozlugum = {\"Elma\":100,\"Karpuz\":152,\"Muz\":156}"
   ]
  },
  {
   "cell_type": "code",
   "execution_count": 36,
   "id": "17f1126d-e142-4e5f-8985-11daff72665f",
   "metadata": {},
   "outputs": [
    {
     "data": {
      "text/plain": [
       "152"
      ]
     },
     "execution_count": 36,
     "metadata": {},
     "output_type": "execute_result"
    }
   ],
   "source": [
    "benimYemekKaloriSozlugum[\"Karpuz\"]"
   ]
  },
  {
   "cell_type": "code",
   "execution_count": 40,
   "id": "376a67d1-b2bc-4144-9996-b83c4c81a047",
   "metadata": {},
   "outputs": [],
   "source": [
    "newDictionary = {\"Anahtar1\": 100, \"Anahtar2\": {10, 20, 30, 40, 4.5, \"Eren\"}, \"Anahtar3\": {\"Anahtar9\": 4},4:31}"
   ]
  },
  {
   "cell_type": "code",
   "execution_count": 41,
   "id": "e6993e54-f699-4e37-ad58-41eaff16f0fc",
   "metadata": {},
   "outputs": [
    {
     "data": {
      "text/plain": [
       "dict_keys(['Anahtar1', 'Anahtar2', 'Anahtar3', 4])"
      ]
     },
     "execution_count": 41,
     "metadata": {},
     "output_type": "execute_result"
    }
   ],
   "source": [
    " newDictionary.keys()  # keys metodu sadece anahtar kelimleri liste şeklinde bizlere verir"
   ]
  },
  {
   "cell_type": "code",
   "execution_count": 42,
   "id": "d49ba213-a3f9-417d-8e02-01b4160ef05a",
   "metadata": {},
   "outputs": [
    {
     "data": {
      "text/plain": [
       "dict_values([100, {'Eren', 4.5, 20, 40, 10, 30}, {'Anahtar9': 4}, 31])"
      ]
     },
     "execution_count": 42,
     "metadata": {},
     "output_type": "execute_result"
    }
   ],
   "source": [
    "  newDictionary.values() # sadece değerlerini öğrenmek istiyorsak values metodu kullanırız"
   ]
  },
  {
   "cell_type": "code",
   "execution_count": 59,
   "id": "0886575e-c7c1-45b4-9285-50eb9e2261ca",
   "metadata": {},
   "outputs": [],
   "source": [
    "dictionary = {100:[10,2030,11,\"Eren\"],200:[11,44,22]}"
   ]
  },
  {
   "cell_type": "code",
   "execution_count": 61,
   "id": "a82c107a-c916-45c5-8d8f-84b01d5dbf3d",
   "metadata": {},
   "outputs": [
    {
     "data": {
      "text/plain": [
       "'Eren'"
      ]
     },
     "execution_count": 61,
     "metadata": {},
     "output_type": "execute_result"
    }
   ],
   "source": [
    "dictionary[100][3] # söz<lük içindeki eren değişkenine erişmeye çalıştık"
   ]
  },
  {
   "cell_type": "code",
   "execution_count": null,
   "id": "5dd72a87-6fe3-44d5-bb88-13ccbe4275b0",
   "metadata": {},
   "outputs": [],
   "source": []
  }
 ],
 "metadata": {
  "kernelspec": {
   "display_name": "Python 3 (ipykernel)",
   "language": "python",
   "name": "python3"
  },
  "language_info": {
   "codemirror_mode": {
    "name": "ipython",
    "version": 3
   },
   "file_extension": ".py",
   "mimetype": "text/x-python",
   "name": "python",
   "nbconvert_exporter": "python",
   "pygments_lexer": "ipython3",
   "version": "3.12.7"
  }
 },
 "nbformat": 4,
 "nbformat_minor": 5
}
