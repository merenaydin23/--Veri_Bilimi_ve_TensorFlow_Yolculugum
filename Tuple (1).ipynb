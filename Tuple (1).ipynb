{
 "cells": [
  {
   "cell_type": "markdown",
   "id": "d54aa0c9-1236-4032-90ff-0f4e935b9dc7",
   "metadata": {},
   "source": [
    "# Tuple"
   ]
  },
  {
   "cell_type": "markdown",
   "id": "b0ec9e79-3fc6-4a74-8656-738f24678cf0",
   "metadata": {},
   "source": [
    "Değiştirilemez (Immutable): İçeriği bir kez belirlendikten sonra değiştirilemez.\n",
    "Farklı veri tiplerini içerebilir: Bir tuple, sayı, metin, liste gibi farklı türdeki verileri aynı anda içerebilir.\n",
    "Tuple İçerisinde Aynı Elemanlar Bulunabilir:"
   ]
  },
  {
   "cell_type": "code",
   "execution_count": 16,
   "id": "ba994617-3bfd-4cc7-8913-629853e9221f",
   "metadata": {},
   "outputs": [],
   "source": [
    "benimListem = [1,2,\"A\",4.5]"
   ]
  },
  {
   "cell_type": "code",
   "execution_count": 17,
   "id": "edef0948-d773-47aa-a953-f21a6dcbc0a6",
   "metadata": {},
   "outputs": [],
   "source": [
    "benimListem[0] = 100"
   ]
  },
  {
   "cell_type": "code",
   "execution_count": 18,
   "id": "0be2f741-baed-4d0e-a641-caf8f9d541e3",
   "metadata": {},
   "outputs": [
    {
     "data": {
      "text/plain": [
       "[100, 2, 'A', 4.5]"
      ]
     },
     "execution_count": 18,
     "metadata": {},
     "output_type": "execute_result"
    }
   ],
   "source": [
    "benimListem"
   ]
  },
  {
   "cell_type": "code",
   "execution_count": 19,
   "id": "9f8180da-2e0b-48d5-8d79-04eafca11414",
   "metadata": {},
   "outputs": [],
   "source": [
    "benimTuple = (1,2,\"a\",4.5)"
   ]
  },
  {
   "cell_type": "code",
   "execution_count": 20,
   "id": "1d50caa3-3415-43db-a22a-bfcc1ba65634",
   "metadata": {},
   "outputs": [
    {
     "data": {
      "text/plain": [
       "1"
      ]
     },
     "execution_count": 20,
     "metadata": {},
     "output_type": "execute_result"
    }
   ],
   "source": [
    "benimTuple[0]"
   ]
  },
  {
   "cell_type": "code",
   "execution_count": 21,
   "id": "1b4ba87a-4d46-4917-9462-a91ea25016ab",
   "metadata": {},
   "outputs": [],
   "source": [
    "# benimTuple[2] = \"b\"   Tuple içindeki veriler değüişmez"
   ]
  },
  {
   "cell_type": "code",
   "execution_count": 22,
   "id": "f1fb2ef8-e76c-485a-8fb6-c5a9cc53b488",
   "metadata": {},
   "outputs": [
    {
     "data": {
      "text/plain": [
       "1"
      ]
     },
     "execution_count": 22,
     "metadata": {},
     "output_type": "execute_result"
    }
   ],
   "source": [
    "benimTuple.count(\"a\")  # count metodu ile tuple içindekiş istenilen değişken sayısı getirilir"
   ]
  },
  {
   "cell_type": "code",
   "execution_count": 23,
   "id": "6676a7d0-7818-4197-81c7-6b11b56cedc4",
   "metadata": {},
   "outputs": [
    {
     "data": {
      "text/plain": [
       "3"
      ]
     },
     "execution_count": 23,
     "metadata": {},
     "output_type": "execute_result"
    }
   ],
   "source": [
    "benimTuple.index(4.5)  # bu fonksiyon istenilen değerin index numarasıuıı getirir"
   ]
  },
  {
   "cell_type": "code",
   "execution_count": null,
   "id": "58689dd1-68fa-40ce-b05e-449d08aa8a33",
   "metadata": {},
   "outputs": [],
   "source": []
  }
 ],
 "metadata": {
  "kernelspec": {
   "display_name": "Python 3 (ipykernel)",
   "language": "python",
   "name": "python3"
  },
  "language_info": {
   "codemirror_mode": {
    "name": "ipython",
    "version": 3
   },
   "file_extension": ".py",
   "mimetype": "text/x-python",
   "name": "python",
   "nbconvert_exporter": "python",
   "pygments_lexer": "ipython3",
   "version": "3.12.7"
  }
 },
 "nbformat": 4,
 "nbformat_minor": 5
}
