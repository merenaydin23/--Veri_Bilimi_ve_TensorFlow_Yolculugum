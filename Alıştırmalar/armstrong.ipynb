{
 "cells": [
  {
   "cell_type": "code",
   "execution_count": 36,
   "id": "ac8b763f-cc0f-4c9c-ab7b-c3db82c8f3ee",
   "metadata": {},
   "outputs": [
    {
     "name": "stdin",
     "output_type": "stream",
     "text": [
      "Armstrong sayısı kontrolü yapılmasını istediğiniz sayıyı giriniz: 27\n"
     ]
    }
   ],
   "source": [
    "sayi = int(input(\"Armstrong sayısı kontrolü yapılmasını istediğiniz sayıyı giriniz:\"))"
   ]
  },
  {
   "cell_type": "code",
   "execution_count": 37,
   "id": "7619c62c-4dc0-4110-936e-63a22f55a91b",
   "metadata": {},
   "outputs": [],
   "source": [
    "def armstrongMi(sayi):\n",
    "    copySayi = sayi\n",
    "    yeniSayi = 0\n",
    "\n",
    "    while copySayi != 0:\n",
    "        yeniSayi += (copySayi % 10) ** 3\n",
    "        copySayi //= 10   # Son basamağı çıkarır\n",
    "\n",
    "    if yeniSayi == sayi : \n",
    "        return True\n",
    "    else : \n",
    "        return False \n",
    "# Fonksiyon, sayının her basamağının küpünü toplayıp Armstrong sayısı olup olmadığını kontrol eder.\n"
   ]
  },
  {
   "cell_type": "code",
   "execution_count": 38,
   "id": "2cb92f28-60be-47ea-adab-c4d1d1a0b7f5",
   "metadata": {},
   "outputs": [
    {
     "name": "stdout",
     "output_type": "stream",
     "text": [
      "27 Armstrong değildir.\n"
     ]
    }
   ],
   "source": [
    "# Fonksiyonu çağırıp sonucu ekrana yazdırıyoruz.\n",
    "if armstrongMi(sayi):\n",
    "    print(str(sayi) + \" Armstrong sayısıdır.\")\n",
    "else:\n",
    "    print(str(sayi) + \" Armstrong değildir.\")\n"
   ]
  },
  {
   "cell_type": "code",
   "execution_count": null,
   "id": "74e5e93e-4d3b-4724-b373-61dbf28cd663",
   "metadata": {},
   "outputs": [],
   "source": []
  }
 ],
 "metadata": {
  "kernelspec": {
   "display_name": "Python 3 (ipykernel)",
   "language": "python",
   "name": "python3"
  },
  "language_info": {
   "codemirror_mode": {
    "name": "ipython",
    "version": 3
   },
   "file_extension": ".py",
   "mimetype": "text/x-python",
   "name": "python",
   "nbconvert_exporter": "python",
   "pygments_lexer": "ipython3",
   "version": "3.12.7"
  }
 },
 "nbformat": 4,
 "nbformat_minor": 5
}
