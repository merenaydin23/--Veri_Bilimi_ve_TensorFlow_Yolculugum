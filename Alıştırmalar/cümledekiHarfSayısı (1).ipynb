{
 "cells": [
  {
   "cell_type": "code",
   "execution_count": 46,
   "id": "062ea5be-daae-44d5-b1f8-4e5b2849426f",
   "metadata": {},
   "outputs": [
    {
     "name": "stdin",
     "text": [
      "Cümle giriniz:  weqfgvqwe45 445re \n"
     ]
    }
   ],
   "source": [
    "# Cümleyi al\n",
    "cümle = input(\"Cümle giriniz: \")"
   ]
  },
  {
   "cell_type": "code",
   "execution_count": 48,
   "id": "b275ef50-f3cb-4368-ab10-aa80f529087b",
   "metadata": {},
   "outputs": [
    {
     "ename": "IndentationError",
     "evalue": "unindent does not match any outer indentation level (<string>, line 10)",
     "output_type": "error",
     "traceback": [
      "\u001b[1;36m  File \u001b[1;32m<string>:10\u001b[1;36m\u001b[0m\n\u001b[1;33m    else :\u001b[0m\n\u001b[1;37m           ^\u001b[0m\n\u001b[1;31mIndentationError\u001b[0m\u001b[1;31m:\u001b[0m unindent does not match any outer indentation level\n"
     ]
    }
   ],
   "source": [
    "def harfSayacı(cümle):\n",
    "    \"\"\"\n",
    "    Cümledeki harflerin frekansını sayar, diğer karakterleri atar.\n",
    "    \"\"\"\n",
    "    harfSözlüğü = {}\n",
    "    for a in cümle:\n",
    "        if a.isalpha():  # Harf mi?\n",
    "            if a in harfSözlüğü:\n",
    "                harfSözlüğü[a] = harfSözlüğü[a] + 1 \n",
    "             else : \n",
    "                 harfSözlüğü[a] = 1\n",
    "    return harfSözlüğü"
   ]
  },
  {
   "cell_type": "code",
   "execution_count": 49,
   "id": "a56cc42c-0ea0-4456-9cde-5241ce64864c",
   "metadata": {},
   "outputs": [
    {
     "name": "stdout",
     "output_type": "stream",
     "text": [
      "Keliminizde bulunan karakterler ve kaç kez kullanıldığı aşağıda verilmiştir\n"
     ]
    }
   ],
   "source": [
    "print(\"Keliminizde bulunan karakterler ve kaç kez kullanıldığı aşağıda verilmiştir\")"
   ]
  },
  {
   "cell_type": "code",
   "execution_count": 50,
   "id": "cff5fcc6-7769-4649-be91-13a6479e3756",
   "metadata": {},
   "outputs": [
    {
     "name": "stdout",
     "output_type": "stream",
     "text": [
      "w harfinden : 2 kez kullanıldı.\n",
      "e harfinden : 3 kez kullanıldı.\n",
      "q harfinden : 2 kez kullanıldı.\n",
      "f harfinden : 1 kez kullanıldı.\n",
      "g harfinden : 1 kez kullanıldı.\n",
      "v harfinden : 1 kez kullanıldı.\n",
      "r harfinden : 1 kez kullanıldı.\n",
      "Harf dışındaki tüm karakterlerin elemsi yapılmıştır :)\n"
     ]
    }
   ],
   "source": [
    "# Harf frekanslarını al\n",
    "dictionary = harfSayacı(cümle)\n",
    "for a in dictionary:\n",
    "    print(a+\" harfinden : \"+str(dictionary[a])+\" kez kullanıldı.\" )\n",
    "print(\"Harf dışındaki tüm karakterlerin elemsi yapılmıştır :)\")"
   ]
  },
  {
   "cell_type": "code",
   "execution_count": null,
   "id": "c7c53ecc-ae78-4433-b8c8-b3b67548ed9b",
   "metadata": {},
   "outputs": [],
   "source": []
  }
 ],
 "metadata": {
  "kernelspec": {
   "display_name": "Python 3 (ipykernel)",
   "language": "python",
   "name": "python3"
  },
  "language_info": {
   "codemirror_mode": {
    "name": "ipython",
    "version": 3
   },
   "file_extension": ".py",
   "mimetype": "text/x-python",
   "name": "python",
   "nbconvert_exporter": "python",
   "pygments_lexer": "ipython3",
   "version": "3.12.7"
  }
 },
 "nbformat": 4,
 "nbformat_minor": 5
}
