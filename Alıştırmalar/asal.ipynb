{
 "cells": [
  {
   "cell_type": "code",
   "execution_count": 35,
   "id": "188a1f9a-1464-48cb-b1ae-87723652f5f9",
   "metadata": {},
   "outputs": [
    {
     "name": "stdin",
     "output_type": "stream",
     "text": [
      "Lütfen asal olup olmadığını kontrol etmek için bir sayı giriniz:  24\n"
     ]
    }
   ],
   "source": [
    "sayi = int(input(\"Lütfen asal olup olmadığını kontrol etmek için bir sayı giriniz: \"))"
   ]
  },
  {
   "cell_type": "code",
   "execution_count": 36,
   "id": "863e1373-e55a-40ea-af49-1e3e1b5d2b79",
   "metadata": {},
   "outputs": [],
   "source": [
    "def asalmi(sayi):\n",
    "    if sayi < 2:\n",
    "        return False\n",
    "    elif sayi == 2:\n",
    "        return True\n",
    "    else:\n",
    "        i = 2\n",
    "        while i != sayi:\n",
    "            if sayi % i == 0:\n",
    "                return False\n",
    "            elif i > sayi/2:\n",
    "                return False\n",
    "            i += 1 \n",
    "    return True\n"
   ]
  },
  {
   "cell_type": "code",
   "execution_count": 37,
   "id": "24d177f0-320a-4372-b9ec-5c9a10b7da8a",
   "metadata": {},
   "outputs": [
    {
     "name": "stdout",
     "output_type": "stream",
     "text": [
      "24 Asal değil\n"
     ]
    }
   ],
   "source": [
    "if asalmi(sayi):\n",
    "    print(str(sayi)+\" asaldır\")\n",
    "else : \n",
    "    print(str(sayi)+\" Asal değil\")"
   ]
  },
  {
   "cell_type": "code",
   "execution_count": null,
   "id": "0e3b0522-4569-4e5a-97f2-100a1940e62b",
   "metadata": {},
   "outputs": [],
   "source": []
  }
 ],
 "metadata": {
  "kernelspec": {
   "display_name": "Python 3 (ipykernel)",
   "language": "python",
   "name": "python3"
  },
  "language_info": {
   "codemirror_mode": {
    "name": "ipython",
    "version": 3
   },
   "file_extension": ".py",
   "mimetype": "text/x-python",
   "name": "python",
   "nbconvert_exporter": "python",
   "pygments_lexer": "ipython3",
   "version": "3.12.7"
  }
 },
 "nbformat": 4,
 "nbformat_minor": 5
}
