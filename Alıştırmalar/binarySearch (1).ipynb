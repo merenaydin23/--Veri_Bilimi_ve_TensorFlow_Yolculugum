{
 "cells": [
  {
   "cell_type": "code",
   "execution_count": 8,
   "id": "3edff5ce-f37f-4503-a7be-400418f56020",
   "metadata": {},
   "outputs": [],
   "source": [
    "import random\n"
   ]
  },
  {
   "cell_type": "code",
   "execution_count": 9,
   "id": "2235dc61-ed77-45d0-acc9-c3ea5fca31b7",
   "metadata": {},
   "outputs": [
    {
     "name": "stdin",
     "output_type": "stream",
     "text": [
      "Random oluşturacak listenin uzunluğunu giriniz:  8\n"
     ]
    }
   ],
   "source": [
    "# Kullanıcıdan pozitif bir sayı alınana kadar tekrar et\n",
    "while True:\n",
    "    # Kullanıcıdan listenin uzunluğunu girmesini istiyoruz\n",
    "    uzunluk = int(input(\"Random oluşturacak listenin uzunluğunu giriniz: \"))\n",
    "\n",
    "    # Eğer girilen uzunluk pozitif bir sayı ise, döngüden çıkıyoruz\n",
    "    if uzunluk > 0: \n",
    "        break\n",
    "    else:\n",
    "        # Girilen uzunluk pozitif değilse, kullanıcıya hata mesajı veriyoruz ve tekrar girmesini istiyoruz\n",
    "        print(\"Lütfen uzunluk değerini pozitif olacak şekilde tekrar giriniz. (Örneğin: 1, 5, 10 gibi sayılar)\")\n"
   ]
  },
  {
   "cell_type": "code",
   "execution_count": 10,
   "id": "41479a79-e3f9-4508-9eae-3cd799b95b86",
   "metadata": {},
   "outputs": [
    {
     "name": "stdout",
     "output_type": "stream",
     "text": [
      "Random liste: [100, 74, 43, 46, 69, 92, 38, 30]\n"
     ]
    }
   ],
   "source": [
    "# Random listeyi oluşturma\n",
    "def randomListe(uzunluk):\n",
    "    # Boş bir liste başlatıyoruz\n",
    "    liste = []\n",
    "    \n",
    "    # 'uzunluk' kadar döngü oluşturuyoruz\n",
    "    for _ in range(uzunluk):\n",
    "        # Her iterasyonda 1 ile 100 arasında rastgele bir sayı üretiyoruz\n",
    "        liste.append(random.randint(1, 100))  # 1 ile 100 arasında rastgele sayılar\n",
    "    return liste  # Oluşturulan listeyi geri döndürüyoruz\n",
    "\n",
    "# Kullanıcı tarafından girilen uzunluğa göre random listeyi oluşturuyoruz\n",
    "random_liste = randomListe(uzunluk)\n",
    "# Oluşturulan listeyi ekrana yazdırıyoruz\n",
    "print(\"Random liste:\", random_liste)\n"
   ]
  },
  {
   "cell_type": "code",
   "execution_count": 11,
   "id": "f3a71949-2b46-42c4-8acb-c42a06ef5f18",
   "metadata": {},
   "outputs": [],
   "source": [
    "# Dizi sıralama (Bubble Sort algoritması)\n",
    "def diziSıralama(liste):\n",
    "    temp = 0  # Geçici değişken, eleman takası için\n",
    "    for i in range(len(liste) - 1):  # Dış döngü (i kontrolü), her eleman için döngü\n",
    "        for j in range(i + 1, len(liste)):  # İç döngü (j kontrolü), karşılaştırma yapacak elemanları seç\n",
    "            if liste[i] > liste[j]:  # Eğer liste[i], liste[j]'den büyükse\n",
    "                # Elemanları takas et\n",
    "                temp = liste[i]\n",
    "                liste[i] = liste[j]\n",
    "                liste[j] = temp\n",
    "    return liste  # Sıralanmış listeyi döndür\n"
   ]
  },
  {
   "cell_type": "code",
   "execution_count": 12,
   "id": "d3f6fa2a-6d54-44a3-a023-0f4f69c0f44b",
   "metadata": {},
   "outputs": [],
   "source": [
    "sıralı_liste = diziSıralama(random_liste)"
   ]
  },
  {
   "cell_type": "code",
   "execution_count": 13,
   "id": "b5e88ed0-dc1f-4c60-b4ef-26b2b38893a7",
   "metadata": {},
   "outputs": [
    {
     "name": "stdout",
     "output_type": "stream",
     "text": [
      "Sıralı Liste: [30, 38, 43, 46, 69, 74, 92, 100]\n"
     ]
    }
   ],
   "source": [
    "print(\"Sıralı Liste:\", sıralı_liste)\n"
   ]
  },
  {
   "cell_type": "code",
   "execution_count": 14,
   "id": "dbe3d641-3df9-4330-b679-d2d69ecc94fa",
   "metadata": {},
   "outputs": [],
   "source": [
    "# Binary Search (İkili Arama)\n",
    "def binarySearch(sıralıListe, aranan):\n",
    "    # Arama alanı dışındaki değerler kontrol edilerek işlem yapılır\n",
    "    if aranan > sıralıListe[len(sıralıListe) - 1] or sıralıListe[0] > aranan:\n",
    "        print(\"Aranan eleman dizide bulunamadı\")\n",
    "        return\n",
    "\n",
    "    ilkTerim = 0\n",
    "    sonTerim = len(sıralıListe) - 1\n",
    "\n",
    "    while ilkTerim <= sonTerim:\n",
    "        ortalama = (ilkTerim + sonTerim) // 2  # Orta elemanı doğru şekilde bulma\n",
    "        if aranan > sıralıListe[ortalama]:\n",
    "            ilkTerim = ortalama + 1  # Orta terimi güncelle\n",
    "        elif aranan < sıralıListe[ortalama]:\n",
    "            sonTerim = ortalama - 1  # Orta terimi güncelle\n",
    "        else:\n",
    "            print(f\"Aranan eleman dizinin {ortalama} indexinde bulundu\")\n",
    "            return \n",
    "\n",
    "    print(\"Aranan eleman dizide bulunamadı\")  # Eğer değer bulunamazsa"
   ]
  },
  {
   "cell_type": "code",
   "execution_count": 15,
   "id": "ddc872d1-4615-4cd0-8bfd-9e3e07175a42",
   "metadata": {},
   "outputs": [
    {
     "name": "stdin",
     "output_type": "stream",
     "text": [
      "Dizide aramak istediğiniz elemanın değerini giriniz:  8\n"
     ]
    }
   ],
   "source": [
    "# Kullanıcıdan aranan eleman değerini al\n",
    "aranan = int(input(\"Dizide aramak istediğiniz elemanın değerini giriniz: \"))"
   ]
  },
  {
   "cell_type": "code",
   "execution_count": 16,
   "id": "0447572f-59b9-447f-970e-94ea7437e80d",
   "metadata": {},
   "outputs": [
    {
     "name": "stdout",
     "output_type": "stream",
     "text": [
      "Aranan eleman dizide bulunamadı\n"
     ]
    }
   ],
   "source": [
    "binarySearch(sıralı_liste, aranan)"
   ]
  }
 ],
 "metadata": {
  "kernelspec": {
   "display_name": "Python 3 (ipykernel)",
   "language": "python",
   "name": "python3"
  },
  "language_info": {
   "codemirror_mode": {
    "name": "ipython",
    "version": 3
   },
   "file_extension": ".py",
   "mimetype": "text/x-python",
   "name": "python",
   "nbconvert_exporter": "python",
   "pygments_lexer": "ipython3",
   "version": "3.12.7"
  }
 },
 "nbformat": 4,
 "nbformat_minor": 5
}
