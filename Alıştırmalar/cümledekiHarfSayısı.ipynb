{
 "cells": [
  {
   "cell_type": "code",
   "execution_count": 52,
   "id": "062ea5be-daae-44d5-b1f8-4e5b2849426f",
   "metadata": {},
   "outputs": [
    {
     "name": "stdin",
     "output_type": "stream",
     "text": [
      "Cümle giriniz:  rhrewghergb48414115000000ADSJIGVSNIOGSNINSGNIKSNAONO\n"
     ]
    }
   ],
   "source": [
    "# Cümleyi al\n",
    "cümle = input(\"Cümle giriniz: \")"
   ]
  },
  {
   "cell_type": "code",
   "execution_count": 53,
   "id": "b275ef50-f3cb-4368-ab10-aa80f529087b",
   "metadata": {},
   "outputs": [],
   "source": [
    "def harfSayacı(cümle):\n",
    "    \"\"\"\n",
    "    Cümledeki harflerin frekansını sayar, diğer karakterleri atar.\n",
    "    \"\"\"\n",
    "    harfSözlüğü = {}\n",
    "    for a in cümle:\n",
    "        if a.isalpha():  # Harf mi?\n",
    "            if a in harfSözlüğü:\n",
    "                harfSözlüğü[a] = harfSözlüğü[a] + 1 \n",
    "            else: \n",
    "                 harfSözlüğü[a] = 1\n",
    "    return harfSözlüğü"
   ]
  },
  {
   "cell_type": "code",
   "execution_count": 54,
   "id": "a56cc42c-0ea0-4456-9cde-5241ce64864c",
   "metadata": {},
   "outputs": [
    {
     "name": "stdout",
     "output_type": "stream",
     "text": [
      "Keliminizde bulunan karakterler ve kaç kez kullanıldığı aşağıda verilmiştir\n"
     ]
    }
   ],
   "source": [
    "print(\"Keliminizde bulunan karakterler ve kaç kez kullanıldığı aşağıda verilmiştir\")"
   ]
  },
  {
   "cell_type": "code",
   "execution_count": 56,
   "id": "cff5fcc6-7769-4649-be91-13a6479e3756",
   "metadata": {},
   "outputs": [
    {
     "name": "stdout",
     "output_type": "stream",
     "text": [
      "r harfinden : 3 kez kullanıldı.\n",
      "h harfinden : 2 kez kullanıldı.\n",
      "e harfinden : 2 kez kullanıldı.\n",
      "w harfinden : 1 kez kullanıldı.\n",
      "g harfinden : 2 kez kullanıldı.\n",
      "b harfinden : 1 kez kullanıldı.\n",
      "A harfinden : 2 kez kullanıldı.\n",
      "D harfinden : 1 kez kullanıldı.\n",
      "S harfinden : 5 kez kullanıldı.\n",
      "J harfinden : 1 kez kullanıldı.\n",
      "I harfinden : 4 kez kullanıldı.\n",
      "G harfinden : 3 kez kullanıldı.\n",
      "V harfinden : 1 kez kullanıldı.\n",
      "N harfinden : 6 kez kullanıldı.\n",
      "O harfinden : 3 kez kullanıldı.\n",
      "K harfinden : 1 kez kullanıldı.\n",
      "Harf dışındaki tüm karakterlerin elemsi yapılmıştır :)\n"
     ]
    }
   ],
   "source": [
    "# Harf frekanslarını al\n",
    "dictionary = harfSayacı(cümle)\n",
    "for a in dictionary:\n",
    "    print(a+\" harfinden : \"+str(dictionary[a])+\" kez kullanıldı.\" )\n",
    "print(\"Harf dışındaki tüm karakterlerin elemsi yapılmıştır :)\")"
   ]
  },
  {
   "cell_type": "code",
   "execution_count": null,
   "id": "c7c53ecc-ae78-4433-b8c8-b3b67548ed9b",
   "metadata": {},
   "outputs": [],
   "source": []
  }
 ],
 "metadata": {
  "kernelspec": {
   "display_name": "Python 3 (ipykernel)",
   "language": "python",
   "name": "python3"
  },
  "language_info": {
   "codemirror_mode": {
    "name": "ipython",
    "version": 3
   },
   "file_extension": ".py",
   "mimetype": "text/x-python",
   "name": "python",
   "nbconvert_exporter": "python",
   "pygments_lexer": "ipython3",
   "version": "3.12.7"
  }
 },
 "nbformat": 4,
 "nbformat_minor": 5
}
