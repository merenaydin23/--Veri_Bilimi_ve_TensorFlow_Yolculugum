{
 "cells": [
  {
   "cell_type": "code",
   "execution_count": 35,
   "id": "062ea5be-daae-44d5-b1f8-4e5b2849426f",
   "metadata": {},
   "outputs": [
    {
     "name": "stdin",
     "output_type": "stream",
     "text": [
      "Lütfen üzerinde işlem yapılacak cümleyi giriniz asfbbıqwegvjbew  6+55f65 nr53e3erw123gwe4340,0,+*-//*/----/3259065()=\n"
     ]
    }
   ],
   "source": [
    "# Cümleyi al\n",
    "cümle = input(\"Cümle giriniz: \")"
   ]
  },
  {
   "cell_type": "code",
   "execution_count": 36,
   "id": "b275ef50-f3cb-4368-ab10-aa80f529087b",
   "metadata": {},
   "outputs": [],
   "source": [
    "def harfSayacı(cümle):\n",
    "    \"\"\"\n",
    "    Cümledeki harflerin frekansını sayar, diğer karakterleri atar.\n",
    "    \"\"\"\n",
    "    harfSözlüğü = {}\n",
    "    for a in cümle:\n",
    "        if a.isalpha():  # Harf mi?\n",
    "            harfSözlüğü[a] = harfSözlüğü.get(a, 0) + 1  # Saymayı başlat\n",
    "    return harfSözlüğü"
   ]
  },
  {
   "cell_type": "code",
   "execution_count": 37,
   "id": "a56cc42c-0ea0-4456-9cde-5241ce64864c",
   "metadata": {},
   "outputs": [
    {
     "name": "stdout",
     "output_type": "stream",
     "text": [
      "Keliminizde bulunan karakterler ve kaç kez kullanıldığı aşağıda verilmiştir\n"
     ]
    }
   ],
   "source": [
    "print(\"Keliminizde bulunan karakterler ve kaç kez kullanıldığı aşağıda verilmiştir\")"
   ]
  },
  {
   "cell_type": "code",
   "execution_count": 38,
   "id": "cff5fcc6-7769-4649-be91-13a6479e3756",
   "metadata": {},
   "outputs": [
    {
     "name": "stdout",
     "output_type": "stream",
     "text": [
      "a harfinden : 1 kez kullanıldı.\n",
      "s harfinden : 1 kez kullanıldı.\n",
      "f harfinden : 2 kez kullanıldı.\n",
      "b harfinden : 3 kez kullanıldı.\n",
      "ı harfinden : 1 kez kullanıldı.\n",
      "q harfinden : 1 kez kullanıldı.\n",
      "w harfinden : 4 kez kullanıldı.\n",
      "e harfinden : 5 kez kullanıldı.\n",
      "g harfinden : 2 kez kullanıldı.\n",
      "v harfinden : 1 kez kullanıldı.\n",
      "j harfinden : 1 kez kullanıldı.\n",
      "n harfinden : 1 kez kullanıldı.\n",
      "r harfinden : 2 kez kullanıldı.\n",
      "Harf dışındaki tüm karakterlerin elemsi yapılmıştır :)\n"
     ]
    }
   ],
   "source": [
    "# Harf frekanslarını al\n",
    "dictionary = harfSayacı(cümle)\n",
    "for a in dictionary:\n",
    "    print(a+\" harfinden : \"+str(dictionary[a])+\" kez kullanıldı.\" )\n",
    "print(\"Harf dışındaki tüm karakterlerin elemsi yapılmıştır :)\")"
   ]
  },
  {
   "cell_type": "code",
   "execution_count": null,
   "id": "c7c53ecc-ae78-4433-b8c8-b3b67548ed9b",
   "metadata": {},
   "outputs": [],
   "source": []
  }
 ],
 "metadata": {
  "kernelspec": {
   "display_name": "Python 3 (ipykernel)",
   "language": "python",
   "name": "python3"
  },
  "language_info": {
   "codemirror_mode": {
    "name": "ipython",
    "version": 3
   },
   "file_extension": ".py",
   "mimetype": "text/x-python",
   "name": "python",
   "nbconvert_exporter": "python",
   "pygments_lexer": "ipython3",
   "version": "3.12.7"
  }
 },
 "nbformat": 4,
 "nbformat_minor": 5
}
