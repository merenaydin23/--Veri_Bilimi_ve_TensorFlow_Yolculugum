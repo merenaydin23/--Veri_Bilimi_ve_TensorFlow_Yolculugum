{
 "cells": [
  {
   "cell_type": "code",
   "execution_count": null,
   "id": "38f656f8-cd09-4e1b-bc68-c120e2f13dfe",
   "metadata": {},
   "outputs": [],
   "source": [
    "# Sayı pzoitif olana kadar tekrar tekrar sorar\n",
    "while True:\n",
    "    sayi = int(input(\"Lütfen 1'den büyük bir sayı giriniz: \"))\n",
    "    if sayi >= 1:\n",
    "        break\n",
    "    else:\n",
    "        print(\"Girilen sayı 1'den küçük! Tekrar deneyin.\")"
   ]
  },
  {
   "cell_type": "code",
   "execution_count": null,
   "id": "f2140867-6f03-4a1c-bb87-40f46dae84c6",
   "metadata": {},
   "outputs": [],
   "source": [
    "# Palindrom kontrol fonksiyonu\n",
    "def palindromMi(sayi):\n",
    "    copySayi = sayi  # Sayı kopyalanıyor\n",
    "    yeniSayi = 0  # Ters sayıyı tutacağız\n",
    "    \n",
    "    # Sayıyı tersine çeviriyoruz\n",
    "    while copySayi != 0:\n",
    "        yeniSayi = yeniSayi * 10 + (copySayi % 10)  # Son basamağı ekle\n",
    "        copySayi = copySayi // 10  # Son basamağı çıkar\n",
    "    \n",
    "    # Palindrom mu?\n",
    "    return yeniSayi == sayi"
   ]
  },
  {
   "cell_type": "code",
   "execution_count": null,
   "id": "c5d0a635-399a-4084-9a2c-d3c7921bdac2",
   "metadata": {},
   "outputs": [],
   "source": [
    "# Fonksiyonu çağırıyoruz ve sonucu yazdırıyoruz\n",
    "if palindromMi(sayi):  # Palindrom mu kontrolü yapıyoruz\n",
    "    print(\"PALİNDROM\")  # Eğer palindromsa\n",
    "else:\n",
    "    print(\"PALİNDROM DEĞİL\")  # Palindrom değilse"
   ]
  }
 ],
 "metadata": {
  "kernelspec": {
   "display_name": "Python 3 (ipykernel)",
   "language": "python",
   "name": "python3"
  },
  "language_info": {
   "codemirror_mode": {
    "name": "ipython",
    "version": 3
   },
   "file_extension": ".py",
   "mimetype": "text/x-python",
   "name": "python",
   "nbconvert_exporter": "python",
   "pygments_lexer": "ipython3",
   "version": "3.12.7"
  }
 },
 "nbformat": 4,
 "nbformat_minor": 5
}
