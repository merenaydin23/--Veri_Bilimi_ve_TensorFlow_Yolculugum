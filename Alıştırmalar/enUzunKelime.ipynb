{
 "cells": [
  {
   "cell_type": "code",
   "execution_count": null,
   "id": "1eb8e53e-fa27-4706-b8de-14b11dbcfc1b",
   "metadata": {},
   "outputs": [],
   "source": [
    "cümle = input(\"Bir cümle giriniz\")  # Kullanıcıdan cümleyi al"
   ]
  },
  {
   "cell_type": "code",
   "execution_count": 5,
   "id": "e977fbc4-61ac-4e4f-8082-76380dfeaa1b",
   "metadata": {},
   "outputs": [],
   "source": [
    "kelimeListesi = cümle.split()  # Cümleyi kelimelere ayır"
   ]
  },
  {
   "cell_type": "code",
   "execution_count": 12,
   "id": "47d81e1f-836b-4811-95d8-b50e60998e73",
   "metadata": {},
   "outputs": [
    {
     "ename": "NameError",
     "evalue": "name 'Liste' is not defined",
     "output_type": "error",
     "traceback": [
      "\u001b[1;31m---------------------------------------------------------------------------\u001b[0m",
      "\u001b[1;31mNameError\u001b[0m                                 Traceback (most recent call last)",
      "Cell \u001b[1;32mIn[12], line 6\u001b[0m\n\u001b[0;32m      4\u001b[0m         \u001b[38;5;28;01mif\u001b[39;00m \u001b[38;5;28mlen\u001b[39m(i) \u001b[38;5;241m>\u001b[39m \u001b[38;5;28mlen\u001b[39m(enMaxUzunlukİndexi):\n\u001b[0;32m      5\u001b[0m             enMaxUzunlukİndexi \u001b[38;5;241m=\u001b[39m i\n\u001b[1;32m----> 6\u001b[0m \u001b[38;5;28mprint\u001b[39m(\u001b[38;5;124m\"\u001b[39m\u001b[38;5;124mBu cümlenin en uzun kelimesi\u001b[39m\u001b[38;5;124m\"\u001b[39m\u001b[38;5;241m+\u001b[39mListe[enMaxUzunlukİndex])\n",
      "\u001b[1;31mNameError\u001b[0m: name 'Liste' is not defined"
     ]
    }
   ],
   "source": [
    "def enUzunKelime(Liste):\n",
    "    enMaxUzunlukİndexi = 0  # Başlangıçta ilk kelimeyi en uzun kabul ediyoruz\n",
    "    for i in range(1, len(Liste)):  # 1'den başlatıyoruz çünkü 0'ı başlangıç kabul ediyoruz\n",
    "        if len(Liste[i]) > len(Liste[enMaxUzunlukİndexi]):  # Eğer şu anki kelime daha uzun mu?\n",
    "            enMaxUzunlukİndexi = i  # En uzun kelimenin indeksini güncelle\n",
    "    return enMaxUzunlukİndexi  # En uzun kelimenin indeksini döndür"
   ]
  },
  {
   "cell_type": "code",
   "execution_count": 14,
   "id": "b3c1a920-7058-44fd-81d2-84b355ea421a",
   "metadata": {},
   "outputs": [
    {
     "ename": "TypeError",
     "evalue": "object of type 'int' has no len()",
     "output_type": "error",
     "traceback": [
      "\u001b[1;31m---------------------------------------------------------------------------\u001b[0m",
      "\u001b[1;31mTypeError\u001b[0m                                 Traceback (most recent call last)",
      "Cell \u001b[1;32mIn[14], line 1\u001b[0m\n\u001b[1;32m----> 1\u001b[0m enUzunKelime(kelimeListesi)\n",
      "Cell \u001b[1;32mIn[12], line 4\u001b[0m, in \u001b[0;36menUzunKelime\u001b[1;34m(Liste)\u001b[0m\n\u001b[0;32m      2\u001b[0m enMaxUzunlukİndexi \u001b[38;5;241m=\u001b[39m \u001b[38;5;241m0\u001b[39m\n\u001b[0;32m      3\u001b[0m \u001b[38;5;28;01mfor\u001b[39;00m i \u001b[38;5;129;01min\u001b[39;00m \u001b[38;5;28mrange\u001b[39m(\u001b[38;5;241m1\u001b[39m, \u001b[38;5;28mlen\u001b[39m(Liste)):\n\u001b[1;32m----> 4\u001b[0m     \u001b[38;5;28;01mif\u001b[39;00m \u001b[38;5;28mlen\u001b[39m(i) \u001b[38;5;241m>\u001b[39m \u001b[38;5;28mlen\u001b[39m(enMaxUzunlukİndexi):\n\u001b[0;32m      5\u001b[0m         enMaxUzunlukİndexi \u001b[38;5;241m=\u001b[39m i\n",
      "\u001b[1;31mTypeError\u001b[0m: object of type 'int' has no len()"
     ]
    }
   ],
   "source": [
    "enMaxUzunlukİndexi = enUzunKelime(kelimeListesi)"
   ]
  },
  {
   "cell_type": "code",
   "execution_count": null,
   "id": "a4c92f75-e87c-437b-a866-07acb47acd38",
   "metadata": {},
   "outputs": [],
   "source": [
    "# Sonuç olarak en uzun kelimeyi yazdır\n",
    "print(\"Bu cümlenin en uzun kelimesi: \" + kelimeListesi[enMaxUzunlukİndexi])"
   ]
  }
 ],
 "metadata": {
  "kernelspec": {
   "display_name": "Python 3 (ipykernel)",
   "language": "python",
   "name": "python3"
  },
  "language_info": {
   "codemirror_mode": {
    "name": "ipython",
    "version": 3
   },
   "file_extension": ".py",
   "mimetype": "text/x-python",
   "name": "python",
   "nbconvert_exporter": "python",
   "pygments_lexer": "ipython3",
   "version": "3.12.7"
  }
 },
 "nbformat": 4,
 "nbformat_minor": 5
}
