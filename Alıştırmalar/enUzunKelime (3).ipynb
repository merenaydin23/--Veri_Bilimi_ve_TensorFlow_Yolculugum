{
 "cells": [
  {
   "cell_type": "code",
   "execution_count": 5,
   "id": "1eb8e53e-fa27-4706-b8de-14b11dbcfc1b",
   "metadata": {},
   "outputs": [
    {
     "name": "stdin",
     "output_type": "stream",
     "text": [
      "Bir cümle giriniz eren yazılım dünyası aydın\n"
     ]
    }
   ],
   "source": [
    "cümle = input(\"Bir cümle giriniz\")  # Kullanıcıdan cümleyi al"
   ]
  },
  {
   "cell_type": "code",
   "execution_count": 6,
   "id": "e977fbc4-61ac-4e4f-8082-76380dfeaa1b",
   "metadata": {},
   "outputs": [],
   "source": [
    "kelimeListesi = cümle.split()  # Cümleyi kelimelere ayı"
   ]
  },
  {
   "cell_type": "code",
   "execution_count": 7,
   "id": "47d81e1f-836b-4811-95d8-b50e60998e73",
   "metadata": {},
   "outputs": [],
   "source": [
    "def enUzunKelime(Liste):\n",
    "    enMaxUzunlukİndexi = 0  # Başlangıçta ilk kelimeyi en uzun kabul ediyoruz\n",
    "    for i in range(1, len(Liste)):  # 1'den başlatıyoruz çünkü 0'ı başlangıç kabul ediyoruz\n",
    "        if len(Liste[i]) > len(Liste[enMaxUzunlukİndexi]):  # Eğer şu anki kelime daha uzun mu?\n",
    "            enMaxUzunlukİndexi = i  # En uzun kelimenin indeksini güncelle\n",
    "    return enMaxUzunlukİndexi  # En uzun kelimenin indeksini döndür"
   ]
  },
  {
   "cell_type": "code",
   "execution_count": 8,
   "id": "b3c1a920-7058-44fd-81d2-84b355ea421a",
   "metadata": {},
   "outputs": [],
   "source": [
    "enMaxUzunlukİndexi = enUzunKelime(kelimeListesi)"
   ]
  },
  {
   "cell_type": "code",
   "execution_count": 9,
   "id": "a4c92f75-e87c-437b-a866-07acb47acd38",
   "metadata": {},
   "outputs": [
    {
     "name": "stdout",
     "output_type": "stream",
     "text": [
      "Bu cümlenin en uzun kelimesi: yazılım\n"
     ]
    }
   ],
   "source": [
    "# Sonuç olarak en uzun kelimeyi yazdır\n",
    "print(\"Bu cümlenin en uzun kelimesi: \" + kelimeListesi[enMaxUzunlukİndexi])"
   ]
  },
  {
   "cell_type": "code",
   "execution_count": null,
   "id": "89ad6f0a-0304-47d2-aab4-4711f2fb610c",
   "metadata": {},
   "outputs": [],
   "source": []
  }
 ],
 "metadata": {
  "kernelspec": {
   "display_name": "Python 3 (ipykernel)",
   "language": "python",
   "name": "python3"
  },
  "language_info": {
   "codemirror_mode": {
    "name": "ipython",
    "version": 3
   },
   "file_extension": ".py",
   "mimetype": "text/x-python",
   "name": "python",
   "nbconvert_exporter": "python",
   "pygments_lexer": "ipython3",
   "version": "3.12.7"
  }
 },
 "nbformat": 4,
 "nbformat_minor": 5
}
