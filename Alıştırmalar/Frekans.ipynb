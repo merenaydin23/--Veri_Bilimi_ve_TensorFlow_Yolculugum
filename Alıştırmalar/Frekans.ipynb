{
 "cells": [
  {
   "cell_type": "code",
   "execution_count": 103,
   "id": "26420e0d-1df8-45e7-9bfd-2eee397d6516",
   "metadata": {},
   "outputs": [
    {
     "name": "stdin",
     "output_type": "stream",
     "text": [
      "Random oluşaçak listenin uzunluğunu giriniz :  120\n"
     ]
    }
   ],
   "source": [
    "import random #randint fonksiyonunu kullanmak için random modülünü ekledik\n",
    "\n",
    "uzunluk = int(input(\"Random oluşaçak listenin uzunluğunu giriniz : \")) # Kullanıcıdan liste uzunluğunu alıyoruz"
   ]
  },
  {
   "cell_type": "code",
   "execution_count": 104,
   "id": "349352b0-c120-4b6a-93ee-57d5849ea828",
   "metadata": {},
   "outputs": [],
   "source": [
    "liste = []\n",
    "i = 0\n",
    "while i != uzunluk:\n",
    "    liste.append(random.randint(0, 20) )\n",
    "    i += 1  \n",
    "# Randdom 0 ile 20 arası sayılardan oluşan liste random oluşuyor."
   ]
  },
  {
   "cell_type": "code",
   "execution_count": 105,
   "id": "695033b3-8150-4229-aa6d-ceb49997e768",
   "metadata": {},
   "outputs": [
    {
     "name": "stdout",
     "output_type": "stream",
     "text": [
      "Oluşan liste: [0, 0, 0, 0, 0, 0, 0, 1, 1, 1, 1, 1, 1, 1, 1, 1, 2, 2, 2, 2, 3, 3, 3, 3, 3, 3, 3, 4, 4, 4, 5, 5, 5, 6, 6, 6, 6, 7, 7, 7, 7, 7, 7, 8, 8, 8, 8, 8, 9, 9, 9, 9, 9, 9, 9, 10, 10, 10, 10, 10, 10, 11, 11, 11, 11, 11, 11, 11, 11, 12, 12, 12, 12, 12, 12, 12, 13, 13, 13, 13, 13, 13, 14, 14, 14, 15, 15, 15, 15, 15, 15, 15, 15, 16, 16, 16, 16, 17, 17, 17, 17, 17, 17, 17, 17, 17, 18, 18, 18, 18, 18, 19, 19, 20, 20, 20, 20, 20, 20, 20]\n"
     ]
    }
   ],
   "source": [
    "liste.sort()  # Listeyi sıralar\n",
    "print(\"Oluşan liste:\", liste)  # Sıralı listeyi yazdırır"
   ]
  },
  {
   "cell_type": "code",
   "execution_count": 106,
   "id": "147a37c7-545a-48ce-966a-eb759ab33572",
   "metadata": {},
   "outputs": [],
   "source": [
    "def Frekans(liste):\n",
    "    # Frekansları saklamak için boş bir sözlük\n",
    "    frekans = {}\n",
    "\n",
    "    # Listeyi döngüyle gezip her elemanın frekansını artırıyoruz\n",
    "    for a in liste:\n",
    "        if a in frekans:\n",
    "            frekans[a] += 1  # Mevcutsa sayısını artırıyoruz\n",
    "        else:\n",
    "            frekans[a] = 1  # Yoksa yeni anahtar ekliyoruz\n",
    "\n",
    "    return frekans  # Frekans sözlüğünü döndürüyoruz"
   ]
  },
  {
   "cell_type": "code",
   "execution_count": 107,
   "id": "adf83e34-9bfd-4670-83b1-4fbcea0e9b83",
   "metadata": {},
   "outputs": [
    {
     "name": "stdout",
     "output_type": "stream",
     "text": [
      "Frekanslar: {0: 7, 1: 9, 2: 4, 3: 7, 4: 3, 5: 3, 6: 4, 7: 6, 8: 5, 9: 7, 10: 6, 11: 8, 12: 7, 13: 6, 14: 3, 15: 8, 16: 4, 17: 9, 18: 5, 19: 2, 20: 7}\n"
     ]
    }
   ],
   "source": [
    "# Oluşan frekans sözlüğünü \n",
    "frekans = Frekans(liste)\n",
    "print(\"Frekanslar:\", frekans)\n"
   ]
  },
  {
   "cell_type": "code",
   "execution_count": 108,
   "id": "8169feab-f61f-4ba0-8701-fe61b68a812d",
   "metadata": {},
   "outputs": [
    {
     "name": "stdout",
     "output_type": "stream",
     "text": [
      "0 nin sayısı : 7\n",
      "1 nin sayısı : 9\n",
      "2 nin sayısı : 4\n",
      "3 nin sayısı : 7\n",
      "4 nin sayısı : 3\n",
      "5 nin sayısı : 3\n",
      "6 nin sayısı : 4\n",
      "7 nin sayısı : 6\n",
      "8 nin sayısı : 5\n",
      "9 nin sayısı : 7\n",
      "10 nin sayısı : 6\n",
      "11 nin sayısı : 8\n",
      "12 nin sayısı : 7\n",
      "13 nin sayısı : 6\n",
      "14 nin sayısı : 3\n",
      "15 nin sayısı : 8\n",
      "16 nin sayısı : 4\n",
      "17 nin sayısı : 9\n",
      "18 nin sayısı : 5\n",
      "19 nin sayısı : 2\n",
      "20 nin sayısı : 7\n"
     ]
    }
   ],
   "source": [
    "for b in frekans:\n",
    "    print(str(b) + \" nin sayısı : \"+ str(frekans[b]))"
   ]
  },
  {
   "cell_type": "code",
   "execution_count": null,
   "id": "907c58f6-0b55-4969-9c21-aef78b35a3e9",
   "metadata": {},
   "outputs": [],
   "source": [
    "\n"
   ]
  }
 ],
 "metadata": {
  "kernelspec": {
   "display_name": "Python 3 (ipykernel)",
   "language": "python",
   "name": "python3"
  },
  "language_info": {
   "codemirror_mode": {
    "name": "ipython",
    "version": 3
   },
   "file_extension": ".py",
   "mimetype": "text/x-python",
   "name": "python",
   "nbconvert_exporter": "python",
   "pygments_lexer": "ipython3",
   "version": "3.12.7"
  }
 },
 "nbformat": 4,
 "nbformat_minor": 5
}
