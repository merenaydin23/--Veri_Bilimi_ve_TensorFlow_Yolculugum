{
 "cells": [
  {
   "cell_type": "code",
   "execution_count": 12,
   "id": "36d0277c-7ab5-470c-a2e2-f2919239de00",
   "metadata": {},
   "outputs": [
    {
     "name": "stdin",
     "output_type": "stream",
     "text": [
      "Lütfen palindrom kontrölü yapılacak string ifadeyi giriniz edgölerwmögpğawe\n"
     ]
    }
   ],
   "source": [
    "# Kullanıcıdan bir metin girişi al\n",
    "metin = input(\"Lütfen palindrom kontrolü yapılacak metni giriniz: \")"
   ]
  },
  {
   "cell_type": "code",
   "execution_count": 13,
   "id": "14460d56-e057-492e-84d8-ff45bfecbe88",
   "metadata": {},
   "outputs": [],
   "source": [
    "def palindromMi(metin):\n",
    "    i = 0 \n",
    "    while ((len(metin) / 2) + 1 > i):\n",
    "        if metin[i] != metin[len(metin) - i - 1]:\n",
    "            return False\n",
    "        i += 1\n",
    "    return True\n"
   ]
  },
  {
   "cell_type": "code",
   "execution_count": 14,
   "id": "57414482-d3e7-4409-b0a0-b31b2615fe03",
   "metadata": {},
   "outputs": [
    {
     "name": "stdout",
     "output_type": "stream",
     "text": [
      "Girilen ifade palindrom değildir\n"
     ]
    }
   ],
   "source": [
    "if palindromMi(metin):\n",
    "               print(\"Girilen ifade palindromdur.\")\n",
    "else : \n",
    "    print(\"Girilen ifade palindrom değildir\")"
   ]
  },
  {
   "cell_type": "code",
   "execution_count": null,
   "id": "fce77588-9311-40e2-a10f-047258b43df5",
   "metadata": {},
   "outputs": [],
   "source": []
  },
  {
   "cell_type": "code",
   "execution_count": null,
   "id": "7ab81017-fa6d-4771-a61d-9b16783d6660",
   "metadata": {},
   "outputs": [],
   "source": []
  }
 ],
 "metadata": {
  "kernelspec": {
   "display_name": "Python 3 (ipykernel)",
   "language": "python",
   "name": "python3"
  },
  "language_info": {
   "codemirror_mode": {
    "name": "ipython",
    "version": 3
   },
   "file_extension": ".py",
   "mimetype": "text/x-python",
   "name": "python",
   "nbconvert_exporter": "python",
   "pygments_lexer": "ipython3",
   "version": "3.12.7"
  }
 },
 "nbformat": 4,
 "nbformat_minor": 5
}
