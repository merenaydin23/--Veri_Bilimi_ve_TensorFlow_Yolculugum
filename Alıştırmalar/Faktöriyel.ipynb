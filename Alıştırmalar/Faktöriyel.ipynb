{
 "cells": [
  {
   "cell_type": "code",
   "execution_count": 2,
   "id": "1c3c672a-a22e-47e6-a447-94b39efa91cc",
   "metadata": {},
   "outputs": [
    {
     "name": "stdin",
     "output_type": "stream",
     "text": [
      "Faktöriyeli hesaplanacak sayıyı giriniz 10\n"
     ]
    }
   ],
   "source": [
    "sayi = int(input(\"Faktöriyeli hesaplanacak sayıyı giriniz\"))"
   ]
  },
  {
   "cell_type": "code",
   "execution_count": 3,
   "id": "99a48578-056c-41a5-b7df-17a7c7da2f2e",
   "metadata": {},
   "outputs": [],
   "source": [
    "# Bu fonksiyon, verilen sayının faktöriyelini hesaplar.\n",
    "def Faktoriyel(sayi):\n",
    "    sonuc = 1  # Hesaplamaya 1 değeriyle başlıyoruz.\n",
    "    # Sayı 0 olana kadar her adımda sonucu sayıya çarpıp, sayıyı 1 azaltıyoruz.\n",
    "    while sayi != 0:\n",
    "        sonuc *= sayi\n",
    "        sayi = sayi - 1\n",
    "    return sonuc  # Hesaplanan faktöriyel değeri geri döndürülür."
   ]
  },
  {
   "cell_type": "code",
   "execution_count": 4,
   "id": "208b9bbe-edea-416d-9661-8090da79ebac",
   "metadata": {},
   "outputs": [
    {
     "data": {
      "text/plain": [
       "3628800"
      ]
     },
     "execution_count": 4,
     "metadata": {},
     "output_type": "execute_result"
    }
   ],
   "source": [
    "Faktoriyel(sayi)"
   ]
  },
  {
   "cell_type": "code",
   "execution_count": null,
   "id": "176faeb9-87cd-4bdc-92c1-a9f4b2f9fedb",
   "metadata": {},
   "outputs": [],
   "source": []
  }
 ],
 "metadata": {
  "kernelspec": {
   "display_name": "Python 3 (ipykernel)",
   "language": "python",
   "name": "python3"
  },
  "language_info": {
   "codemirror_mode": {
    "name": "ipython",
    "version": 3
   },
   "file_extension": ".py",
   "mimetype": "text/x-python",
   "name": "python",
   "nbconvert_exporter": "python",
   "pygments_lexer": "ipython3",
   "version": "3.12.7"
  }
 },
 "nbformat": 4,
 "nbformat_minor": 5
}
