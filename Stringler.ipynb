{
 "cells": [
  {
   "cell_type": "markdown",
   "id": "504aea53-3004-47c1-b9cf-21faf941b90a",
   "metadata": {},
   "source": [
    "## String Metodlar "
   ]
  },
  {
   "cell_type": "code",
   "execution_count": 1,
   "id": "b7923c1b-4509-4ee5-bacb-80def08e0279",
   "metadata": {},
   "outputs": [],
   "source": [
    "# 1 . ) Lower() , bu metod string'i küçük harflere dönüştürür\n",
    "a = \"Hello World\""
   ]
  },
  {
   "cell_type": "code",
   "execution_count": 2,
   "id": "2bc10acb-0e09-444a-bb2d-403714a00067",
   "metadata": {},
   "outputs": [
    {
     "data": {
      "text/plain": [
       "'hello world'"
      ]
     },
     "execution_count": 2,
     "metadata": {},
     "output_type": "execute_result"
    }
   ],
   "source": [
    "a.lower()"
   ]
  },
  {
   "cell_type": "code",
   "execution_count": 3,
   "id": "11f3a79a-553c-4893-9f88-6720962f87f2",
   "metadata": {},
   "outputs": [],
   "source": [
    "b = \"HELLO WORLD \""
   ]
  },
  {
   "cell_type": "code",
   "execution_count": 4,
   "id": "026877ca-25ed-4a1f-8fcb-35d13b2f8c70",
   "metadata": {},
   "outputs": [
    {
     "data": {
      "text/plain": [
       "'hello world '"
      ]
     },
     "execution_count": 4,
     "metadata": {},
     "output_type": "execute_result"
    }
   ],
   "source": [
    "b.lower()"
   ]
  },
  {
   "cell_type": "code",
   "execution_count": null,
   "id": "01a5581f-01a8-49bd-8115-be8f05a6cd9b",
   "metadata": {},
   "outputs": [],
   "source": [
    "# 2. ) upper , bu metod string'i büyük harflere dönüştürür"
   ]
  },
  {
   "cell_type": "code",
   "execution_count": 5,
   "id": "d99130a5-53ff-448d-b4b6-61b7123256b6",
   "metadata": {},
   "outputs": [
    {
     "data": {
      "text/plain": [
       "'HELLO WORLD'"
      ]
     },
     "execution_count": 5,
     "metadata": {},
     "output_type": "execute_result"
    }
   ],
   "source": [
    "a.upper()"
   ]
  },
  {
   "cell_type": "code",
   "execution_count": 6,
   "id": "004121c8-51a7-4623-8adb-3053ac561a4d",
   "metadata": {},
   "outputs": [
    {
     "data": {
      "text/plain": [
       "'HELLO WORLD '"
      ]
     },
     "execution_count": 6,
     "metadata": {},
     "output_type": "execute_result"
    }
   ],
   "source": [
    "b.upper()"
   ]
  },
  {
   "cell_type": "code",
   "execution_count": null,
   "id": "6c95a920-dd85-4cae-81ca-4f6c5c49a5e9",
   "metadata": {},
   "outputs": [],
   "source": [
    "# 3. ) capitialize() , bu metod string ifadenin ilk  karakterini büyük yapar"
   ]
  },
  {
   "cell_type": "code",
   "execution_count": 9,
   "id": "a8f8fa53-de5c-47f3-9434-ec90b3b2f92f",
   "metadata": {},
   "outputs": [
    {
     "data": {
      "text/plain": [
       "'Software'"
      ]
     },
     "execution_count": 9,
     "metadata": {},
     "output_type": "execute_result"
    }
   ],
   "source": [
    "c = \"software\"\n",
    "c.capitalize()"
   ]
  },
  {
   "cell_type": "code",
   "execution_count": null,
   "id": "7e8e28b7-3c77-41c4-88c7-941af4767ed8",
   "metadata": {},
   "outputs": [],
   "source": [
    "# 4. ) split() , bu metod  String'i bir ayırıcıya göre böler ve bir liste döner. Eğer parantezin içi boşsa boşluk karakterini ayrım olarak kabul eder "
   ]
  },
  {
   "cell_type": "code",
   "execution_count": 14,
   "id": "9eaf7924-22b1-428b-b90e-71ccf7d5d2ca",
   "metadata": {},
   "outputs": [
    {
     "name": "stdout",
     "output_type": "stream",
     "text": [
      "['hello', 'world', 'how', 'are', 'you']\n",
      "['apple', 'banana', 'orange']\n"
     ]
    }
   ],
   "source": [
    "text = \"hello world how are you\"\n",
    "print(text.split())  \n",
    "text = \"apple,banana,orange\"\n",
    "print(text.split(\",\"))  # ['apple', 'banana', 'orange']"
   ]
  },
  {
   "cell_type": "code",
   "execution_count": null,
   "id": "9c276ded-4ad1-4671-b940-adbf1fb6dad5",
   "metadata": {},
   "outputs": [],
   "source": [
    "# 5.) replace() metodu, bir string içindeki belirli bir kelimeyi veya karakteri başka bir kelimeyle değiştirir."
   ]
  },
  {
   "cell_type": "code",
   "execution_count": 15,
   "id": "820f69f3-f48c-438d-afab-6827fd844672",
   "metadata": {},
   "outputs": [
    {
     "name": "stdout",
     "output_type": "stream",
     "text": [
      "orange banana orange\n"
     ]
    }
   ],
   "source": [
    "text = \"apple banana apple\"\n",
    "# Parantezin içine ilk yazılan değeri (eğer varsa) ikinci yazılan değerle değiştireceğiz\n",
    "print(text.replace(\"apple\", \"orange\"))  # \"orange banana orange\""
   ]
  },
  {
   "cell_type": "code",
   "execution_count": null,
   "id": "840363c4-b519-41fe-8fc1-0db7f8c67396",
   "metadata": {},
   "outputs": [],
   "source": [
    "# 6.) strip() , bu metod String'in başındaki ve sonundaki boşlukları veya belirli karakterleri kaldırır"
   ]
  },
  {
   "cell_type": "code",
   "execution_count": 18,
   "id": "3583bc38-88eb-4da1-8b30-6a5e1e17ee0f",
   "metadata": {},
   "outputs": [
    {
     "name": "stdout",
     "output_type": "stream",
     "text": [
      "Hello World\n"
     ]
    }
   ],
   "source": [
    "text = \"  Hello World     \"\n",
    "print(text.strip())  # \"Hello World\""
   ]
  },
  {
   "cell_type": "code",
   "execution_count": null,
   "id": "2d1aafbe-50fd-4ea5-9a08-6973c550527e",
   "metadata": {},
   "outputs": [],
   "source": [
    "# 7.) find() , bu metod  Bir alt string'in string içinde nerede bulunduğunu döner. Eğer alt string bulunmazsa, -1 döner"
   ]
  },
  {
   "cell_type": "code",
   "execution_count": 21,
   "id": "25502313-e3e0-49c1-ac49-68ae8c30cecd",
   "metadata": {},
   "outputs": [
    {
     "name": "stdout",
     "output_type": "stream",
     "text": [
      "-1\n",
      "6\n"
     ]
    }
   ],
   "source": [
    "text = \"apple banana orange\"\n",
    "print(text.find(\"banada\"))  \n",
    "print(text.find(\"banana\"))  \n"
   ]
  },
  {
   "cell_type": "code",
   "execution_count": null,
   "id": "822b9159-bcd7-4959-9f4e-2b1f5e9d68ed",
   "metadata": {},
   "outputs": [],
   "source": [
    "# 8. ) isalnum() , bu metod String'in tüm karakterlerinin alfanümerik olup olmadığını kontrol eder."
   ]
  },
  {
   "cell_type": "code",
   "execution_count": 22,
   "id": "4e4dd37f-42b6-4438-a874-6be216e5632a",
   "metadata": {},
   "outputs": [
    {
     "name": "stdout",
     "output_type": "stream",
     "text": [
      "True\n",
      "False\n"
     ]
    }
   ],
   "source": [
    "text = \"apple123\"\n",
    "print(text.isalnum())  \n",
    "text = \"@12344fwaf.3^^\"\n",
    "print(text.isalnum())  \n"
   ]
  },
  {
   "cell_type": "code",
   "execution_count": null,
   "id": "4f8a8620-0f25-4074-a6f1-d282a5d21030",
   "metadata": {},
   "outputs": [],
   "source": [
    "# 9. ) isdigit() , bu metod  String'intüm karakterlerinin rakam olup olmadığını kontrol eder"
   ]
  },
  {
   "cell_type": "code",
   "execution_count": 24,
   "id": "6106e0f6-fa20-41ad-98ea-5d6e40b19d87",
   "metadata": {},
   "outputs": [
    {
     "name": "stdout",
     "output_type": "stream",
     "text": [
      "True\n",
      "False\n"
     ]
    }
   ],
   "source": [
    "text = \"12345\"\n",
    "print(text.isdigit())\n",
    "text = \"123g\"\n",
    "print(text.isdigit())"
   ]
  },
  {
   "cell_type": "code",
   "execution_count": null,
   "id": "40061fe6-8f00-412e-a178-5960103b9259",
   "metadata": {},
   "outputs": [],
   "source": [
    "# 10.) startswith() , bu metod String'in belirli bir değerle başlayıp başlamadığını kontrol eder"
   ]
  },
  {
   "cell_type": "code",
   "execution_count": null,
   "id": "d08ec080-bdd6-4fe7-af7b-8c00abebe96a",
   "metadata": {},
   "outputs": [],
   "source": [
    "text = \"Hello World\"\n",
    "print(text.startswith(\"Hello\")\n",
    "print(text.startswith(\"Hel\")\n"
   ]
  }
 ],
 "metadata": {
  "kernelspec": {
   "display_name": "Python 3 (ipykernel)",
   "language": "python",
   "name": "python3"
  },
  "language_info": {
   "codemirror_mode": {
    "name": "ipython",
    "version": 3
   },
   "file_extension": ".py",
   "mimetype": "text/x-python",
   "name": "python",
   "nbconvert_exporter": "python",
   "pygments_lexer": "ipython3",
   "version": "3.12.7"
  }
 },
 "nbformat": 4,
 "nbformat_minor": 5
}
