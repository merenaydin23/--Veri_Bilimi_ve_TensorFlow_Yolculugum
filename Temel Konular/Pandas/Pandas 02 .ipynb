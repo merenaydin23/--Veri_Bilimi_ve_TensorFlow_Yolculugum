{
 "cells": [
  {
   "cell_type": "code",
   "execution_count": 62,
   "id": "99d3b9b0-4215-4c7b-b650-2129113282c6",
   "metadata": {},
   "outputs": [],
   "source": [
    "import pandas as pd"
   ]
  },
  {
   "cell_type": "code",
   "execution_count": 63,
   "id": "7617bad2-5683-4070-8532-5cec25d11162",
   "metadata": {},
   "outputs": [],
   "source": [
    "# Öğrencilerin sınav sonuçlarını içeren daha büyük bir Series\n",
    "sinav_sonuclari = pd.Series([85, 90, 78, 92, 88, 77, 95, 91, 89, 84, 70, 80, 93, 65, 79, 86, 91, 94, 83, 82, \n",
    "                             71, 87, 79, 91, 85, 72, 76, 97, 90, 84, 88], \n",
    "                            index=['Ali', 'Ayşe', 'Ahmet', 'Zeynep', 'Murat', 'Mehmet', 'Fatma', 'Hakan', 'Selin', 'Emre', \n",
    "                                    'Can', 'Cem', 'Burak', 'Derya', 'Emine', 'Gökhan', 'Lina', 'Merve', 'Deniz', 'Seda',\n",
    "                                    'Arda', 'Sinem', 'Kaan', 'Berk', 'İrem', 'Rana', 'Cansu', 'Emir', 'Ozan', 'Melis', 'Baran'])"
   ]
  },
  {
   "cell_type": "code",
   "execution_count": 64,
   "id": "86c9325d-c7bd-44e3-a14b-c7602cc9d187",
   "metadata": {},
   "outputs": [
    {
     "name": "stdout",
     "output_type": "stream",
     "text": [
      "Ali       85\n",
      "Ayşe      90\n",
      "Ahmet     78\n",
      "Zeynep    92\n",
      "Murat     88\n",
      "Mehmet    77\n",
      "Fatma     95\n",
      "Hakan     91\n",
      "Selin     89\n",
      "Emre      84\n",
      "Can       70\n",
      "Cem       80\n",
      "Burak     93\n",
      "Derya     65\n",
      "Emine     79\n",
      "Gökhan    86\n",
      "Lina      91\n",
      "Merve     94\n",
      "Deniz     83\n",
      "Seda      82\n",
      "Arda      71\n",
      "Sinem     87\n",
      "Kaan      79\n",
      "Berk      91\n",
      "İrem      85\n",
      "Rana      72\n",
      "Cansu     76\n",
      "Emir      97\n",
      "Ozan      90\n",
      "Melis     84\n",
      "Baran     88\n",
      "dtype: int64\n"
     ]
    }
   ],
   "source": [
    "print(sinav_sonuclari)"
   ]
  },
  {
   "cell_type": "code",
   "execution_count": 65,
   "id": "e019ab84-e05e-4800-95fe-c14955750545",
   "metadata": {},
   "outputs": [
    {
     "name": "stdout",
     "output_type": "stream",
     "text": [
      "Serinin max değeri = 97\n"
     ]
    }
   ],
   "source": [
    "print(\"Serinin max değeri = \"+str(max(sinav_sonuclari)))"
   ]
  },
  {
   "cell_type": "code",
   "execution_count": 66,
   "id": "a4c683e2-68e0-4aba-a6b0-3d35b8e057db",
   "metadata": {},
   "outputs": [
    {
     "name": "stdout",
     "output_type": "stream",
     "text": [
      "Serinin min değeri = 65\n"
     ]
    }
   ],
   "source": [
    "print(\"Serinin min değeri = \"+str(min(sinav_sonuclari)))"
   ]
  },
  {
   "cell_type": "code",
   "execution_count": 67,
   "id": "d24bfbd9-2ede-4bf5-acf6-736822fe5f81",
   "metadata": {},
   "outputs": [],
   "source": [
    "en_yuksek_ogrenci = sinav_sonuclari.idxmax()"
   ]
  },
  {
   "cell_type": "code",
   "execution_count": 68,
   "id": "5609b4fe-5b9b-4e81-89be-a77452e65007",
   "metadata": {},
   "outputs": [
    {
     "name": "stdout",
     "output_type": "stream",
     "text": [
      "Sınavın en yüksek puanını alan kişi Emir\n"
     ]
    }
   ],
   "source": [
    "print(\"Sınavın en yüksek puanını alan kişi \"+en_yuksek_ogrenci)"
   ]
  },
  {
   "cell_type": "code",
   "execution_count": 69,
   "id": "7a616b5e-ac18-428e-84b2-d399f9efc7fd",
   "metadata": {},
   "outputs": [],
   "source": [
    "en_dusuk_ogrenci = sinav_sonuclari.idxmin()"
   ]
  },
  {
   "cell_type": "code",
   "execution_count": 70,
   "id": "8316c287-6ccf-4328-b693-3c620bc7dbce",
   "metadata": {},
   "outputs": [
    {
     "name": "stdout",
     "output_type": "stream",
     "text": [
      "Sınavın en düşük puanını alan kişi Derya\n"
     ]
    }
   ],
   "source": [
    "print(\"Sınavın en düşük puanını alan kişi \"+en_dusuk_ogrenci)"
   ]
  },
  {
   "cell_type": "code",
   "execution_count": 71,
   "id": "fc7e1308-b05c-44d9-8bed-96a51b8e8982",
   "metadata": {},
   "outputs": [
    {
     "name": "stdout",
     "output_type": "stream",
     "text": [
      "Sınavda 60 üzeri alan kişiler ve notları : \n",
      "Ali : 85\n",
      "Ayşe : 90\n",
      "Ahmet : 78\n",
      "Zeynep : 92\n",
      "Murat : 88\n",
      "Mehmet : 77\n",
      "Fatma : 95\n",
      "Hakan : 91\n",
      "Selin : 89\n",
      "Emre : 84\n",
      "Can : 70\n",
      "Cem : 80\n",
      "Burak : 93\n",
      "Derya : 65\n",
      "Emine : 79\n",
      "Gökhan : 86\n",
      "Lina : 91\n",
      "Merve : 94\n",
      "Deniz : 83\n",
      "Seda : 82\n",
      "Arda : 71\n",
      "Sinem : 87\n",
      "Kaan : 79\n",
      "Berk : 91\n",
      "İrem : 85\n",
      "Rana : 72\n",
      "Cansu : 76\n",
      "Emir : 97\n",
      "Ozan : 90\n",
      "Melis : 84\n",
      "Baran : 88\n"
     ]
    }
   ],
   "source": [
    "print(\"Sınavda 60 üzeri alan kişiler ve notları : \")\n",
    "for ogrenci, puan in sinav_sonuclari.items():\n",
    "    if puan > 60:\n",
    "        print(ogrenci + \" : \" + str(puan))"
   ]
  },
  {
   "cell_type": "code",
   "execution_count": 72,
   "id": "c4852a6b-852d-471e-abb2-04a2349b828c",
   "metadata": {},
   "outputs": [
    {
     "name": "stdout",
     "output_type": "stream",
     "text": [
      "Her öğrenciye 5 puan ekleniyor \n",
      "Ali        90\n",
      "Ayşe       95\n",
      "Ahmet      83\n",
      "Zeynep     97\n",
      "Murat      93\n",
      "Mehmet     82\n",
      "Fatma     100\n",
      "Hakan      96\n",
      "Selin      94\n",
      "Emre       89\n",
      "Can        75\n",
      "Cem        85\n",
      "Burak      98\n",
      "Derya      70\n",
      "Emine      84\n",
      "Gökhan     91\n",
      "Lina       96\n",
      "Merve      99\n",
      "Deniz      88\n",
      "Seda       87\n",
      "Arda       76\n",
      "Sinem      92\n",
      "Kaan       84\n",
      "Berk       96\n",
      "İrem       90\n",
      "Rana       77\n",
      "Cansu      81\n",
      "Emir      102\n",
      "Ozan       95\n",
      "Melis      89\n",
      "Baran      93\n",
      "dtype: int64\n"
     ]
    }
   ],
   "source": [
    "print(\"Her öğrenciye 5 puan ekleniyor \" )\n",
    "sinav_sonuclari1 = sinav_sonuclari + 5 \n",
    "print(sinav_sonuclari1)"
   ]
  },
  {
   "cell_type": "code",
   "execution_count": 73,
   "id": "bd6fd903-ef53-44ce-83a6-7fa90aa612d5",
   "metadata": {},
   "outputs": [
    {
     "name": "stdout",
     "output_type": "stream",
     "text": [
      "Sınavda 85 üzeri alan kişiler ve notları : \n",
      "Ayşe : 90\n",
      "Zeynep : 92\n",
      "Murat : 88\n",
      "Fatma : 95\n",
      "Hakan : 91\n",
      "Selin : 89\n",
      "Burak : 93\n",
      "Gökhan : 86\n",
      "Lina : 91\n",
      "Merve : 94\n",
      "Sinem : 87\n",
      "Berk : 91\n",
      "Emir : 97\n",
      "Ozan : 90\n",
      "Baran : 88\n"
     ]
    }
   ],
   "source": [
    "print(\"Sınavda 85 üzeri alan kişiler ve notları : \")\n",
    "for ogrenci, puan in sinav_sonuclari.items():\n",
    "    if puan > 85:\n",
    "        print(ogrenci + \" : \" + str(puan))"
   ]
  },
  {
   "cell_type": "code",
   "execution_count": 74,
   "id": "06184de5-aefc-4bef-a851-6f1a0afc99fd",
   "metadata": {},
   "outputs": [
    {
     "name": "stdout",
     "output_type": "stream",
     "text": [
      "Elimizdeki verilerin ortalaması : 84.25806451612904\n"
     ]
    }
   ],
   "source": [
    "toplam = 0 \n",
    "for ogrenci, puan in sinav_sonuclari.items():\n",
    "    toplam = toplam + puan\n",
    "ortalama = toplam / len(sinav_sonuclari)\n",
    "print(\"Elimizdeki verilerin ortalaması : \"+str(ortalama)) "
   ]
  },
  {
   "cell_type": "code",
   "execution_count": 75,
   "id": "58ff7b4f-4043-43e5-ad4f-f0a64bbe78be",
   "metadata": {},
   "outputs": [
    {
     "name": "stdout",
     "output_type": "stream",
     "text": [
      "Tüm Notlar Toplamı : 2612\n"
     ]
    }
   ],
   "source": [
    "print(\"Tüm Notlar Toplamı : \"+str(toplam))"
   ]
  },
  {
   "cell_type": "code",
   "execution_count": null,
   "id": "389abc6a-8353-4e87-8d03-4cc20b81509a",
   "metadata": {},
   "outputs": [],
   "source": []
  }
 ],
 "metadata": {
  "kernelspec": {
   "display_name": "Python 3 (ipykernel)",
   "language": "python",
   "name": "python3"
  },
  "language_info": {
   "codemirror_mode": {
    "name": "ipython",
    "version": 3
   },
   "file_extension": ".py",
   "mimetype": "text/x-python",
   "name": "python",
   "nbconvert_exporter": "python",
   "pygments_lexer": "ipython3",
   "version": "3.12.7"
  }
 },
 "nbformat": 4,
 "nbformat_minor": 5
}
