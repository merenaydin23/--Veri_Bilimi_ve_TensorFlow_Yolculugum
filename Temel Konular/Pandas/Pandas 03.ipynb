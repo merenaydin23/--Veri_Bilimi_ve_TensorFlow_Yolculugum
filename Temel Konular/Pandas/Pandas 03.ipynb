{
 "cells": [
  {
   "cell_type": "code",
   "execution_count": 112,
   "id": "c90a8303-fbfb-4794-8723-b3ef1775045c",
   "metadata": {},
   "outputs": [],
   "source": [
    "import pandas as pd"
   ]
  },
  {
   "cell_type": "code",
   "execution_count": 113,
   "id": "4e512cd0-eba6-4c80-9de8-f9f71851a289",
   "metadata": {},
   "outputs": [],
   "source": [
    "# Ürünlerin satış verilerini içeren bir Series\n",
    "urun_satislari = pd.Series([450, 520, 390, 600, 700, 450, 670, 530, 420, 690, \n",
    "                           750, 800, 580, 720, 670, 600, 490, 510, 580, 700], \n",
    "                          index=['Laptop', 'Telefon', 'Tablet', 'Televizyon', 'Kulaklık', 'Kamera', \n",
    "                                 'Monitör', 'Hoparlör', 'Fare', 'Klavyeler', 'Yazıcı', 'Kasa', \n",
    "                                 'USB Bellek', 'Harici Disk', 'Ekran Kartı', 'Ses Kartı', 'Wi-Fi Kartı', \n",
    "                                 'Mouse Pad', 'Taşınabilir Şarj', 'Webcam'])"
   ]
  },
  {
   "cell_type": "code",
   "execution_count": 114,
   "id": "bdfd8639-2dd9-4907-85ab-f63e2526c12c",
   "metadata": {},
   "outputs": [
    {
     "name": "stdout",
     "output_type": "stream",
     "text": [
      "Laptop              450\n",
      "Telefon             520\n",
      "Tablet              390\n",
      "Televizyon          600\n",
      "Kulaklık            700\n",
      "Kamera              450\n",
      "Monitör             670\n",
      "Hoparlör            530\n",
      "Fare                420\n",
      "Klavyeler           690\n",
      "Yazıcı              750\n",
      "Kasa                800\n",
      "USB Bellek          580\n",
      "Harici Disk         720\n",
      "Ekran Kartı         670\n",
      "Ses Kartı           600\n",
      "Wi-Fi Kartı         490\n",
      "Mouse Pad           510\n",
      "Taşınabilir Şarj    580\n",
      "Webcam              700\n",
      "dtype: int64\n"
     ]
    }
   ],
   "source": [
    "print(urun_satislari)"
   ]
  },
  {
   "cell_type": "code",
   "execution_count": 115,
   "id": "75bc5fe7-0cc2-451b-a5ea-871cbd3e73df",
   "metadata": {},
   "outputs": [],
   "source": [
    "# En yüksek ve en düşük satışları bul.\n",
    "enYuksek = urun_satislari.idxmax()\n",
    "enDusuk = urun_satislari.idxmin()"
   ]
  },
  {
   "cell_type": "code",
   "execution_count": 116,
   "id": "a50c46ea-b99e-488b-b861-eef967dbf74f",
   "metadata": {},
   "outputs": [
    {
     "name": "stdout",
     "output_type": "stream",
     "text": [
      "En fazla satılan ürün Kasa'tır.  800 kere satılmıştır.\n",
      "En az satılan ürün Tablet'tir. 390 kere satılmıştır.\n"
     ]
    }
   ],
   "source": [
    "print(\"En fazla satılan ürün \" + enYuksek + \"'tır.  \" + str(urun_satislari[enYuksek]) + \" kere satılmıştır.\")\n",
    "print(\"En az satılan ürün \" + enDusuk + \"'tir. \" + str(urun_satislari[enDusuk]) + \" kere satılmıştır.\")"
   ]
  },
  {
   "cell_type": "code",
   "execution_count": 117,
   "id": "43555bce-abb4-49d4-9688-249ec0ba53e6",
   "metadata": {},
   "outputs": [
    {
     "name": "stdout",
     "output_type": "stream",
     "text": [
      "Satışı 500 ün üzerinde olan ürünler\n",
      "Telefon\n",
      "Televizyon\n",
      "Kulaklık\n",
      "Monitör\n",
      "Hoparlör\n",
      "Klavyeler\n",
      "Yazıcı\n",
      "Kasa\n",
      "USB Bellek\n",
      "Harici Disk\n",
      "Ekran Kartı\n",
      "Ses Kartı\n",
      "Mouse Pad\n",
      "Taşınabilir Şarj\n",
      "Webcam\n"
     ]
    }
   ],
   "source": [
    "print(\"Satışı 500 ün üzerinde olan ürünler\")\n",
    "for ürün,satış in urun_satislari.items():\n",
    "    if satış > 500  : \n",
    "        print(ürün)"
   ]
  },
  {
   "cell_type": "code",
   "execution_count": 118,
   "id": "d66c3d69-3c3d-4a2e-bf4f-32842af49dfb",
   "metadata": {},
   "outputs": [
    {
     "name": "stdout",
     "output_type": "stream",
     "text": [
      "Toplam satış : 11820\n"
     ]
    }
   ],
   "source": [
    "toplam = 0\n",
    "for ürün,satış in urun_satislari.items():\n",
    "    toplam = toplam + satış \n",
    "print(\"Toplam satış : \"+str(toplam)) "
   ]
  },
  {
   "cell_type": "code",
   "execution_count": 119,
   "id": "0f2a575d-678b-4d8c-9c3b-217fe9d825cb",
   "metadata": {},
   "outputs": [
    {
     "name": "stdout",
     "output_type": "stream",
     "text": [
      "Ortalama satış: 591.0\n"
     ]
    }
   ],
   "source": [
    "print(\"Ortalama satış: \" + str(toplam / len(urun_satislari)))"
   ]
  },
  {
   "cell_type": "code",
   "execution_count": 120,
   "id": "cc3dee43-248b-4c5f-8875-26f3ec8b3059",
   "metadata": {},
   "outputs": [
    {
     "name": "stdout",
     "output_type": "stream",
     "text": [
      "Satışı 700 - 500 arası ürünler\n",
      "Telefon\n",
      "Televizyon\n",
      "Monitör\n",
      "Hoparlör\n",
      "Klavyeler\n",
      "USB Bellek\n",
      "Ekran Kartı\n",
      "Ses Kartı\n",
      "Mouse Pad\n",
      "Taşınabilir Şarj\n"
     ]
    }
   ],
   "source": [
    "print(\"Satışı 700 - 500 arası ürünler\")\n",
    "for ürün,satış in urun_satislari.items():\n",
    "    if satış > 500 and 700 > satış  : \n",
    "        print(ürün)"
   ]
  },
  {
   "cell_type": "code",
   "execution_count": 121,
   "id": "68f21cf4-3f3a-48d0-a2f5-5529df68f7b2",
   "metadata": {},
   "outputs": [
    {
     "name": "stdout",
     "output_type": "stream",
     "text": [
      "Satışları azalan sıraya göre sıralanmış ürünler:\n",
      "Tablet              390\n",
      "Fare                420\n",
      "Laptop              450\n",
      "Kamera              450\n",
      "Wi-Fi Kartı         490\n",
      "Mouse Pad           510\n",
      "Telefon             520\n",
      "Hoparlör            530\n",
      "Taşınabilir Şarj    580\n",
      "USB Bellek          580\n",
      "Televizyon          600\n",
      "Ses Kartı           600\n",
      "Monitör             670\n",
      "Ekran Kartı         670\n",
      "Klavyeler           690\n",
      "Kulaklık            700\n",
      "Webcam              700\n",
      "Harici Disk         720\n",
      "Yazıcı              750\n",
      "Kasa                800\n",
      "dtype: int64\n"
     ]
    }
   ],
   "source": [
    "siralama = urun_satislari.sort_values(ascending=True)\n",
    "print(\"Satışları azalan sıraya göre sıralanmış ürünler:\")\n",
    "print(siralama)"
   ]
  },
  {
   "cell_type": "code",
   "execution_count": 122,
   "id": "b4c64624-aba9-4650-9c30-bfca150d8018",
   "metadata": {},
   "outputs": [
    {
     "name": "stdout",
     "output_type": "stream",
     "text": [
      "Tablet : 390\n",
      "Fare : 420\n",
      "Laptop : 450\n"
     ]
    }
   ],
   "source": [
    "# En az satılan 3 ürün \n",
    "for i in range(3):\n",
    "    ürün = siralama.index[i]\n",
    "    print(ürün +\" : \"+str(siralama[ürün]))"
   ]
  },
  {
   "cell_type": "code",
   "execution_count": 123,
   "id": "7c360c8d-8af0-4343-b607-c201c7051c11",
   "metadata": {},
   "outputs": [
    {
     "name": "stdout",
     "output_type": "stream",
     "text": [
      "En çok  satan ürün ile en az satan ürün arası fark : 410\n"
     ]
    }
   ],
   "source": [
    "enAz = siralama.index[0]\n",
    "enÇok = siralama.index[-1]\n",
    "fark = siralama[enÇok]  -  siralama[enAz]\n",
    "print(\"En çok  satan ürün ile en az satan ürün arası fark : \"+str(fark))"
   ]
  },
  {
   "cell_type": "code",
   "execution_count": 126,
   "id": "9f298276-37a4-4804-bc37-a3279b84859e",
   "metadata": {},
   "outputs": [
    {
     "name": "stdout",
     "output_type": "stream",
     "text": [
      "Satışı 700'ün üzerinde olan ürünlere %10 zam yapma\n"
     ]
    }
   ],
   "source": [
    "print(\"Satışı 700'ün üzerinde olan ürünlere %10 zam yapma\")\n",
    "\n",
    "# Satışı 700'ün üzerinde olan ürünleri ve satışlarını %10 artırarak güncelleme\n",
    "for ürün, satış in urun_satislari.items():\n",
    "    if satış > 700:\n",
    "        urun_satislari[ürün] = satış * 1.1  # Satışı %10 artırıyoruz"
   ]
  },
  {
   "cell_type": "code",
   "execution_count": 125,
   "id": "05e419d4-b338-4670-8f9c-53efadaffd7f",
   "metadata": {},
   "outputs": [
    {
     "name": "stdout",
     "output_type": "stream",
     "text": [
      "Laptop              450.0\n",
      "Telefon             520.0\n",
      "Tablet              390.0\n",
      "Televizyon          600.0\n",
      "Kulaklık            700.0\n",
      "Kamera              450.0\n",
      "Monitör             670.0\n",
      "Hoparlör            530.0\n",
      "Fare                420.0\n",
      "Klavyeler           690.0\n",
      "Yazıcı              825.0\n",
      "Kasa                880.0\n",
      "USB Bellek          580.0\n",
      "Harici Disk         792.0\n",
      "Ekran Kartı         670.0\n",
      "Ses Kartı           600.0\n",
      "Wi-Fi Kartı         490.0\n",
      "Mouse Pad           510.0\n",
      "Taşınabilir Şarj    580.0\n",
      "Webcam              700.0\n",
      "dtype: float64\n"
     ]
    }
   ],
   "source": [
    "print(urun_satislari)"
   ]
  },
  {
   "cell_type": "code",
   "execution_count": null,
   "id": "844cbc0e-6658-4ebe-b5df-ea1afa407688",
   "metadata": {},
   "outputs": [],
   "source": []
  },
  {
   "cell_type": "code",
   "execution_count": null,
   "id": "30fb81de-b0a5-46fc-858e-a5a53279ab69",
   "metadata": {},
   "outputs": [],
   "source": []
  }
 ],
 "metadata": {
  "kernelspec": {
   "display_name": "Python 3 (ipykernel)",
   "language": "python",
   "name": "python3"
  },
  "language_info": {
   "codemirror_mode": {
    "name": "ipython",
    "version": 3
   },
   "file_extension": ".py",
   "mimetype": "text/x-python",
   "name": "python",
   "nbconvert_exporter": "python",
   "pygments_lexer": "ipython3",
   "version": "3.12.7"
  }
 },
 "nbformat": 4,
 "nbformat_minor": 5
}
