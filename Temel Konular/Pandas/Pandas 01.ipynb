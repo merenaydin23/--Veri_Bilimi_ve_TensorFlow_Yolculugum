{
 "cells": [
  {
   "cell_type": "code",
   "execution_count": 74,
   "id": "ff728e33-95d1-42d9-a9cd-afb556e8ccf9",
   "metadata": {},
   "outputs": [],
   "source": [
    "import numpy as np\n",
    "import pandas as pd"
   ]
  },
  {
   "cell_type": "markdown",
   "id": "3208182a-0589-489a-8334-ccfa0352ad62",
   "metadata": {},
   "source": [
    "## Series "
   ]
  },
  {
   "cell_type": "code",
   "execution_count": 75,
   "id": "5ea2a934-5783-41c4-85d6-915116c3ac22",
   "metadata": {},
   "outputs": [],
   "source": [
    "benimSozlugum = {\"Atil\":50, \"Zeyenep\" : 40,\"Mehmet\":200,}"
   ]
  },
  {
   "cell_type": "code",
   "execution_count": 76,
   "id": "2c09cbe3-bd63-4cc9-ba36-7b82595a9ced",
   "metadata": {},
   "outputs": [
    {
     "data": {
      "text/plain": [
       "pandas.core.series.Series"
      ]
     },
     "execution_count": 76,
     "metadata": {},
     "output_type": "execute_result"
    }
   ],
   "source": [
    "type(pd.Series(benimSozlugum))"
   ]
  },
  {
   "cell_type": "code",
   "execution_count": 77,
   "id": "a6838d92-cd7e-4fc5-82f3-213b22a4c325",
   "metadata": {},
   "outputs": [
    {
     "data": {
      "text/plain": [
       "Atil        50\n",
       "Zeyenep     40\n",
       "Mehmet     200\n",
       "dtype: int64"
      ]
     },
     "execution_count": 77,
     "metadata": {},
     "output_type": "execute_result"
    }
   ],
   "source": [
    "pd.Series(benimSozlugum)"
   ]
  },
  {
   "cell_type": "code",
   "execution_count": 78,
   "id": "7667e539-ad88-40a6-89a1-924a7015e7ae",
   "metadata": {},
   "outputs": [],
   "source": [
    "benimYaslarım = [50,40,30]\n",
    "benimİsimlerim = [\"Atil\",\"Zeyenep\",\"Mehmet\"]"
   ]
  },
  {
   "cell_type": "code",
   "execution_count": 79,
   "id": "57746eb2-99fb-4525-9031-b0e98bc6b538",
   "metadata": {},
   "outputs": [
    {
     "data": {
      "text/plain": [
       "0    50\n",
       "1    40\n",
       "2    30\n",
       "dtype: int64"
      ]
     },
     "execution_count": 79,
     "metadata": {},
     "output_type": "execute_result"
    }
   ],
   "source": [
    "pd.Series(benimYaslarım)"
   ]
  },
  {
   "cell_type": "code",
   "execution_count": 80,
   "id": "d167208e-3574-42be-8e92-8726b1b804a1",
   "metadata": {},
   "outputs": [
    {
     "data": {
      "text/plain": [
       "0       Atil\n",
       "1    Zeyenep\n",
       "2     Mehmet\n",
       "dtype: object"
      ]
     },
     "execution_count": 80,
     "metadata": {},
     "output_type": "execute_result"
    }
   ],
   "source": [
    "pd.Series(benimİsimlerim)"
   ]
  },
  {
   "cell_type": "code",
   "execution_count": 81,
   "id": "ff9f0c1a-74b7-44a8-9fd7-0a081610aa63",
   "metadata": {},
   "outputs": [
    {
     "data": {
      "text/plain": [
       "Atil       50\n",
       "Zeyenep    40\n",
       "Mehmet     30\n",
       "dtype: int64"
      ]
     },
     "execution_count": 81,
     "metadata": {},
     "output_type": "execute_result"
    }
   ],
   "source": [
    "pd.Series(data = benimYaslarım,index = benimİsimlerim)"
   ]
  },
  {
   "cell_type": "code",
   "execution_count": 82,
   "id": "0f622c14-f2f7-4aea-a511-39e85c55b388",
   "metadata": {},
   "outputs": [],
   "source": [
    "numpayDizisi = np.array([50,40,30])"
   ]
  },
  {
   "cell_type": "code",
   "execution_count": 83,
   "id": "724dcc63-532b-4b6d-ada5-efb3753f08c5",
   "metadata": {},
   "outputs": [
    {
     "data": {
      "text/plain": [
       "array([50, 40, 30])"
      ]
     },
     "execution_count": 83,
     "metadata": {},
     "output_type": "execute_result"
    }
   ],
   "source": [
    "numpayDizisi"
   ]
  },
  {
   "cell_type": "code",
   "execution_count": 84,
   "id": "45841f06-3336-42fa-abe2-cab6e20d875c",
   "metadata": {},
   "outputs": [
    {
     "data": {
      "text/plain": [
       "0    50\n",
       "1    40\n",
       "2    30\n",
       "dtype: int32"
      ]
     },
     "execution_count": 84,
     "metadata": {},
     "output_type": "execute_result"
    }
   ],
   "source": [
    "pd.Series(numpayDizisi)"
   ]
  },
  {
   "cell_type": "code",
   "execution_count": 85,
   "id": "54a36a86-9dd9-4d4c-bd57-adc78f00053d",
   "metadata": {},
   "outputs": [
    {
     "data": {
      "text/plain": [
       "10     Eren\n",
       "22    Aydın\n",
       "33     Emir\n",
       "dtype: object"
      ]
     },
     "execution_count": 85,
     "metadata": {},
     "output_type": "execute_result"
    }
   ],
   "source": [
    "pd.Series([\"Eren\",\"Aydın\",\"Emir\"],[10,22,33])"
   ]
  },
  {
   "cell_type": "code",
   "execution_count": 86,
   "id": "9f5499f4-d2cb-4ab7-96e0-756420245780",
   "metadata": {},
   "outputs": [],
   "source": [
    "yarismaSonucu1 = pd.Series([98,77,44],[\"Eren\",\"Aydın\",\"Emir\"])"
   ]
  },
  {
   "cell_type": "code",
   "execution_count": 87,
   "id": "2ec0eb32-24d0-4b3d-bee5-489846995d64",
   "metadata": {},
   "outputs": [
    {
     "data": {
      "text/plain": [
       "Eren     98\n",
       "Aydın    77\n",
       "Emir     44\n",
       "dtype: int64"
      ]
     },
     "execution_count": 87,
     "metadata": {},
     "output_type": "execute_result"
    }
   ],
   "source": [
    "yarismaSonucu1"
   ]
  },
  {
   "cell_type": "code",
   "execution_count": 88,
   "id": "1a2c4b0f-2dfc-4f67-a0be-671b44cdf5d1",
   "metadata": {},
   "outputs": [],
   "source": [
    "yarismaSonucu2 = pd.Series([20,10,8],[\"Eren\",\"Aydın\",\"Emir\"])"
   ]
  },
  {
   "cell_type": "code",
   "execution_count": 89,
   "id": "3f69a006-bf12-4f64-a117-f65cfa34276d",
   "metadata": {},
   "outputs": [
    {
     "data": {
      "text/plain": [
       "Eren     20\n",
       "Aydın    10\n",
       "Emir      8\n",
       "dtype: int64"
      ]
     },
     "execution_count": 89,
     "metadata": {},
     "output_type": "execute_result"
    }
   ],
   "source": [
    "yarismaSonucu2"
   ]
  },
  {
   "cell_type": "code",
   "execution_count": 90,
   "id": "1e99b398-14ac-4ccb-936f-6fc5876a3788",
   "metadata": {},
   "outputs": [
    {
     "name": "stdout",
     "output_type": "stream",
     "text": [
      "Eren'nin aldığı puan: 20\n"
     ]
    }
   ],
   "source": [
    "print(\"Eren'nin aldığı puan: \" + str(yarismaSonucu2[\"Eren\"]))"
   ]
  },
  {
   "cell_type": "code",
   "execution_count": 91,
   "id": "f271f471-ad79-4b1b-90f5-273a804c1c25",
   "metadata": {},
   "outputs": [],
   "source": [
    "sonSonuc = yarismaSonucu1 + yarismaSonucu2"
   ]
  },
  {
   "cell_type": "code",
   "execution_count": 92,
   "id": "8224a75e-7253-4b9e-9ba4-a8e2e5965fde",
   "metadata": {},
   "outputs": [
    {
     "data": {
      "text/plain": [
       "Eren     118\n",
       "Aydın     87\n",
       "Emir      52\n",
       "dtype: int64"
      ]
     },
     "execution_count": 92,
     "metadata": {},
     "output_type": "execute_result"
    }
   ],
   "source": [
    "sonSonuc"
   ]
  },
  {
   "cell_type": "code",
   "execution_count": 93,
   "id": "554e8243-efa4-4ab5-88a6-0eea2c49307f",
   "metadata": {},
   "outputs": [],
   "source": [
    "farkliSeries1 = pd.Series([20,30,40,50],[\"a\",\"b\",\"c\",\"d\"])"
   ]
  },
  {
   "cell_type": "code",
   "execution_count": 94,
   "id": "dd52c0b3-9b4b-4a3f-b194-522383e12c45",
   "metadata": {},
   "outputs": [],
   "source": [
    "farkliSeries2 = pd.Series([20,30,40,50],[\"a\",\"b\",\"c\",\"t\"])"
   ]
  },
  {
   "cell_type": "code",
   "execution_count": 95,
   "id": "f2eaa6f9-e6a8-4c7c-a21f-dc33190030ae",
   "metadata": {},
   "outputs": [],
   "source": [
    "farklıSeries3 = farkliSeries1 + farkliSeries2"
   ]
  },
  {
   "cell_type": "code",
   "execution_count": 96,
   "id": "33bc397e-8bdd-4084-8136-f76daef23398",
   "metadata": {},
   "outputs": [
    {
     "data": {
      "text/plain": [
       "a    40.0\n",
       "b    60.0\n",
       "c    80.0\n",
       "d     NaN\n",
       "t     NaN\n",
       "dtype: float64"
      ]
     },
     "execution_count": 96,
     "metadata": {},
     "output_type": "execute_result"
    }
   ],
   "source": [
    "farklıSeries3"
   ]
  },
  {
   "cell_type": "code",
   "execution_count": null,
   "id": "188f1422-74e1-45e9-aef0-f27a2ea63cab",
   "metadata": {},
   "outputs": [],
   "source": []
  }
 ],
 "metadata": {
  "kernelspec": {
   "display_name": "Python 3 (ipykernel)",
   "language": "python",
   "name": "python3"
  },
  "language_info": {
   "codemirror_mode": {
    "name": "ipython",
    "version": 3
   },
   "file_extension": ".py",
   "mimetype": "text/x-python",
   "name": "python",
   "nbconvert_exporter": "python",
   "pygments_lexer": "ipython3",
   "version": "3.12.7"
  }
 },
 "nbformat": 4,
 "nbformat_minor": 5
}
