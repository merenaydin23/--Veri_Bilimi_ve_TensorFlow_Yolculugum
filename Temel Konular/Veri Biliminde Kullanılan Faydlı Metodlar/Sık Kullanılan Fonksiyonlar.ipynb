{
 "cells": [
  {
   "cell_type": "code",
   "execution_count": 18,
   "id": "88e489d8-538c-43b0-a24d-0a48a2485cd2",
   "metadata": {},
   "outputs": [],
   "source": [
    "def bolmeİslemi(numara):\n",
    "    return numara /2"
   ]
  },
  {
   "cell_type": "code",
   "execution_count": 19,
   "id": "e8c15fe3-41f6-491f-bfa6-c0dfe026cd8d",
   "metadata": {},
   "outputs": [
    {
     "data": {
      "text/plain": [
       "5.5"
      ]
     },
     "execution_count": 19,
     "metadata": {},
     "output_type": "execute_result"
    }
   ],
   "source": [
    "bolmeİslemi(11)"
   ]
  },
  {
   "cell_type": "code",
   "execution_count": 20,
   "id": "6ed241f2-ebdb-4425-b205-4c29b271638e",
   "metadata": {},
   "outputs": [],
   "source": [
    "benimListem = [10,20,30,40,50,60,70,80,90]"
   ]
  },
  {
   "cell_type": "code",
   "execution_count": 24,
   "id": "b0183f14-a4b5-4dae-99f4-403e8f35c4ef",
   "metadata": {},
   "outputs": [],
   "source": [
    "yeniListe = []\n",
    "for eleman in benimListem:\n",
    "    yeniListe.append(bolmeİslemi(eleman))  "
   ]
  },
  {
   "cell_type": "code",
   "execution_count": 26,
   "id": "14219e7c-8631-40ce-84b8-dffc387fdfdb",
   "metadata": {},
   "outputs": [
    {
     "data": {
      "text/plain": [
       "[5.0, 10.0, 15.0, 20.0, 25.0, 30.0, 35.0, 40.0, 45.0]"
      ]
     },
     "execution_count": 26,
     "metadata": {},
     "output_type": "execute_result"
    }
   ],
   "source": [
    "yeniListe"
   ]
  },
  {
   "cell_type": "markdown",
   "id": "61d96dda-ed06-48f9-8cc5-fa7c75cad4ea",
   "metadata": {},
   "source": [
    "# Map"
   ]
  },
  {
   "cell_type": "code",
   "execution_count": 28,
   "id": "83b53d26-0e84-4e57-9ceb-ef2dd5a9f486",
   "metadata": {},
   "outputs": [
    {
     "data": {
      "text/plain": [
       "[5.0, 10.0, 15.0, 20.0, 25.0, 30.0, 35.0, 40.0, 45.0]"
      ]
     },
     "execution_count": 28,
     "metadata": {},
     "output_type": "execute_result"
    }
   ],
   "source": [
    "list(map(bolmeİslemi,benimListem)) # Map hazır fonksiyonu ile metod ve istenilen girdi bir araya getirilir. "
   ]
  },
  {
   "cell_type": "code",
   "execution_count": 29,
   "id": "00be1246-8fd8-4b1e-8c1d-02f7e75fafa7",
   "metadata": {},
   "outputs": [],
   "source": [
    "def kontrolFonksiyonu(string):\n",
    "    return \"a\" in string "
   ]
  },
  {
   "cell_type": "code",
   "execution_count": 33,
   "id": "77b3aa65-e322-4838-8c8e-8119c5010e76",
   "metadata": {},
   "outputs": [],
   "source": [
    "stringListe = [\"Ahmet\", \"Arda\", \"Canan\", \"Baran\", \"Ayşe\",\"Adnan\",\"Köse\"]"
   ]
  },
  {
   "cell_type": "code",
   "execution_count": 35,
   "id": "cc179ad0-c2f7-4b1d-9195-8bc1e917b60a",
   "metadata": {},
   "outputs": [],
   "source": [
    "sonucListesi = list(map(kontrolFonksiyonu,stringListe))"
   ]
  },
  {
   "cell_type": "code",
   "execution_count": 38,
   "id": "2decfd1d-aa5a-4266-bdd2-7aaa39258a2a",
   "metadata": {},
   "outputs": [
    {
     "data": {
      "text/plain": [
       "3"
      ]
     },
     "execution_count": 38,
     "metadata": {},
     "output_type": "execute_result"
    }
   ],
   "source": [
    "sonucListesi.count(False)"
   ]
  },
  {
   "cell_type": "code",
   "execution_count": 39,
   "id": "11c9aaed-a3a3-458d-9010-c9d837ddc6c8",
   "metadata": {},
   "outputs": [
    {
     "data": {
      "text/plain": [
       "4"
      ]
     },
     "execution_count": 39,
     "metadata": {},
     "output_type": "execute_result"
    }
   ],
   "source": [
    "sonucListesi.count(True)"
   ]
  },
  {
   "cell_type": "markdown",
   "id": "77d2431f-0ee6-4b45-8ca6-cd12a77873e3",
   "metadata": {},
   "source": [
    "## Filter"
   ]
  },
  {
   "cell_type": "code",
   "execution_count": 40,
   "id": "cab88a28-bb85-4b29-a9c0-f822678801ab",
   "metadata": {},
   "outputs": [
    {
     "data": {
      "text/plain": [
       "['Arda', 'Canan', 'Baran', 'Adnan']"
      ]
     },
     "execution_count": 40,
     "metadata": {},
     "output_type": "execute_result"
    }
   ],
   "source": [
    "list(filter(kontrolFonksiyonu,stringListe))  # Filter fonksiyonu sadece true olan değişkenleri filitreler"
   ]
  },
  {
   "cell_type": "markdown",
   "id": "700ccd57-b3d3-45c0-b239-7810d0a402bd",
   "metadata": {},
   "source": [
    "# Lambda"
   ]
  },
  {
   "cell_type": "code",
   "execution_count": 41,
   "id": "260608d6-cd56-4727-a214-009cee4c8e9c",
   "metadata": {},
   "outputs": [],
   "source": [
    "carpma = lambda numara  : numara * 3  # Lambda fonksiyonu tek satır halinde yazar"
   ]
  },
  {
   "cell_type": "code",
   "execution_count": 43,
   "id": "1e215d49-1ca4-48d9-bc24-2f07f7d9f14f",
   "metadata": {},
   "outputs": [
    {
     "data": {
      "text/plain": [
       "30"
      ]
     },
     "execution_count": 43,
     "metadata": {},
     "output_type": "execute_result"
    }
   ],
   "source": [
    "carpma(10)"
   ]
  },
  {
   "cell_type": "code",
   "execution_count": 44,
   "id": "ade9eeee-e41f-4af8-92f9-1a1282e41273",
   "metadata": {},
   "outputs": [],
   "source": [
    "ornekListe = [10,20,30]"
   ]
  },
  {
   "cell_type": "code",
   "execution_count": 47,
   "id": "85767fc7-b64c-4148-b05d-fa2f592b00e8",
   "metadata": {},
   "outputs": [
    {
     "data": {
      "text/plain": [
       "[40, 80, 120]"
      ]
     },
     "execution_count": 47,
     "metadata": {},
     "output_type": "execute_result"
    }
   ],
   "source": [
    "list(map(lambda numara : numara * 4 ,ornekListe))"
   ]
  },
  {
   "cell_type": "code",
   "execution_count": null,
   "id": "6832d68e-9f80-4e6e-bbee-956c8ccc9ffb",
   "metadata": {},
   "outputs": [],
   "source": []
  }
 ],
 "metadata": {
  "kernelspec": {
   "display_name": "Python 3 (ipykernel)",
   "language": "python",
   "name": "python3"
  },
  "language_info": {
   "codemirror_mode": {
    "name": "ipython",
    "version": 3
   },
   "file_extension": ".py",
   "mimetype": "text/x-python",
   "name": "python",
   "nbconvert_exporter": "python",
   "pygments_lexer": "ipython3",
   "version": "3.12.7"
  }
 },
 "nbformat": 4,
 "nbformat_minor": 5
}
