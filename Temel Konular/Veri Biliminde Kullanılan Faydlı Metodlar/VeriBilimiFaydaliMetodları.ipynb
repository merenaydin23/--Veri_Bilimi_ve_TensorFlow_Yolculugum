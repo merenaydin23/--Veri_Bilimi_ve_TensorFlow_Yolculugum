{
 "cells": [
  {
   "cell_type": "markdown",
   "id": "728060b9-3aeb-40e1-add0-bbe9c24c0be5",
   "metadata": {},
   "source": [
    "# Range"
   ]
  },
  {
   "cell_type": "markdown",
   "id": "efaa08cb-fc51-4ca3-bef1-942a996ad8e3",
   "metadata": {},
   "source": [
    "range() fonksiyonu, belirtilen aralıkta sayılar üretir.\n",
    "range(start, stop, step) şeklinde kullanılır.\n",
    "start: Başlangıç değeri \n",
    "stop: Bitiş değeri (bu değer dahil değildir)\n",
    " step: Adım büyüklüğü \n"
   ]
  },
  {
   "cell_type": "code",
   "execution_count": 1,
   "id": "5d31408c-af05-4f28-93bc-7caeaf0946be",
   "metadata": {},
   "outputs": [],
   "source": [
    "benimListem = [0,1,2,3,4,5,6,7,8,9,10 ]"
   ]
  },
  {
   "cell_type": "code",
   "execution_count": 2,
   "id": "5e335c84-57bd-4a64-904c-73dbbb05f640",
   "metadata": {},
   "outputs": [
    {
     "name": "stdout",
     "output_type": "stream",
     "text": [
      "0\n",
      "1\n",
      "2\n",
      "3\n",
      "4\n",
      "5\n",
      "6\n",
      "7\n",
      "8\n",
      "9\n",
      "10\n"
     ]
    }
   ],
   "source": [
    "for numara in benimListem:\n",
    "    print(numara)"
   ]
  },
  {
   "cell_type": "code",
   "execution_count": 5,
   "id": "b221ab66-6f1f-4475-9310-148a163c43fa",
   "metadata": {},
   "outputs": [
    {
     "data": {
      "text/plain": [
       "range(10, 25)"
      ]
     },
     "execution_count": 5,
     "metadata": {},
     "output_type": "execute_result"
    }
   ],
   "source": [
    "range(10,25)"
   ]
  },
  {
   "cell_type": "code",
   "execution_count": 6,
   "id": "9f88ac8e-79be-465a-97c3-82a8e7506dc4",
   "metadata": {},
   "outputs": [
    {
     "data": {
      "text/plain": [
       "[0, 1, 2, 3, 4, 5, 6, 7, 8, 9, 10, 11, 12, 13, 14]"
      ]
     },
     "execution_count": 6,
     "metadata": {},
     "output_type": "execute_result"
    }
   ],
   "source": [
    "list(range(15))"
   ]
  },
  {
   "cell_type": "code",
   "execution_count": 9,
   "id": "7e01aaed-f683-4ae4-9abf-a6d6fd794a95",
   "metadata": {},
   "outputs": [
    {
     "data": {
      "text/plain": [
       "[5, 9, 13, 17]"
      ]
     },
     "execution_count": 9,
     "metadata": {},
     "output_type": "execute_result"
    }
   ],
   "source": [
    "list(range(5,21,4)) # 5 den 21 e kadar adım büyüklüğü 4 olan listeyi oluştur"
   ]
  },
  {
   "cell_type": "markdown",
   "id": "9fb5fe40-c7d6-4660-a98c-949361d17156",
   "metadata": {},
   "source": [
    "# Enumerate"
   ]
  },
  {
   "cell_type": "code",
   "execution_count": 15,
   "id": "d95fdfb8-6ab2-4f27-8025-843d92c5deaa",
   "metadata": {},
   "outputs": [
    {
     "name": "stdout",
     "output_type": "stream",
     "text": [
      "Güncel numara : 5  güncel index : 0\n",
      "Güncel numara : 6  güncel index : 0\n",
      "Güncel numara : 7  güncel index : 0\n",
      "Güncel numara : 8  güncel index : 0\n",
      "Güncel numara : 9  güncel index : 0\n",
      "Güncel numara : 10  güncel index : 0\n",
      "Güncel numara : 11  güncel index : 0\n",
      "Güncel numara : 12  güncel index : 0\n",
      "Güncel numara : 13  güncel index : 0\n",
      "Güncel numara : 14  güncel index : 0\n"
     ]
    }
   ],
   "source": [
    "index = 0 \n",
    "for numara in  list(range(5,15)):\n",
    "    print(f\"Güncel numara : {numara}  güncel index : {index}\")"
   ]
  },
  {
   "cell_type": "code",
   "execution_count": 17,
   "id": "a82721e7-ad90-4103-83e1-a163e83082ea",
   "metadata": {},
   "outputs": [
    {
     "name": "stdout",
     "output_type": "stream",
     "text": [
      "(0, 5)\n",
      "(1, 6)\n",
      "(2, 7)\n",
      "(3, 8)\n",
      "(4, 9)\n",
      "(5, 10)\n",
      "(6, 11)\n",
      "(7, 12)\n",
      "(8, 13)\n",
      "(9, 14)\n"
     ]
    }
   ],
   "source": [
    "for eleman in enumerate(list(range(5,15))):\n",
    "    print(eleman)\n",
    "# Enemurate fonksiyonu değer ile index numarasını verir.\n",
    "# oluşan çıktı tuple şeklindedir"
   ]
  },
  {
   "cell_type": "markdown",
   "id": "0c4b3cfd-8704-4a86-85ec-0c157edd4fe7",
   "metadata": {},
   "source": [
    "# Random"
   ]
  },
  {
   "cell_type": "code",
   "execution_count": 18,
   "id": "66503e6f-a1a2-46a1-a925-d3627dcd0f81",
   "metadata": {},
   "outputs": [],
   "source": [
    "from random import randint  # Random kütüphanesini import ediyoruz"
   ]
  },
  {
   "cell_type": "code",
   "execution_count": 20,
   "id": "9aa7bcfc-56cd-4084-b616-b9f321e46af8",
   "metadata": {},
   "outputs": [
    {
     "data": {
      "text/plain": [
       "22"
      ]
     },
     "execution_count": 20,
     "metadata": {},
     "output_type": "execute_result"
    }
   ],
   "source": [
    "randint(0,100)"
   ]
  },
  {
   "cell_type": "code",
   "execution_count": 23,
   "id": "88c1b77e-17cb-401a-b5a8-ca03459865c8",
   "metadata": {},
   "outputs": [],
   "source": [
    "yeniListe = list(range(0,10))"
   ]
  },
  {
   "cell_type": "code",
   "execution_count": 24,
   "id": "cd12c59b-669d-4c2a-bd82-45db47df5731",
   "metadata": {},
   "outputs": [
    {
     "data": {
      "text/plain": [
       "[0, 1, 2, 3, 4, 5, 6, 7, 8, 9]"
      ]
     },
     "execution_count": 24,
     "metadata": {},
     "output_type": "execute_result"
    }
   ],
   "source": [
    "yeniListe"
   ]
  },
  {
   "cell_type": "code",
   "execution_count": 27,
   "id": "e30d6941-2856-4cb2-ba5f-1586af381d00",
   "metadata": {},
   "outputs": [
    {
     "data": {
      "text/plain": [
       "6"
      ]
     },
     "execution_count": 27,
     "metadata": {},
     "output_type": "execute_result"
    }
   ],
   "source": [
    "yeniListe[randint(0,10)]"
   ]
  },
  {
   "cell_type": "code",
   "execution_count": 29,
   "id": "81d128bd-c1a9-499f-9ac5-bfc1f75ee5ed",
   "metadata": {},
   "outputs": [
    {
     "data": {
      "text/plain": [
       "[6, 9, 1, 2, 3, 4, 8, 7, 0, 5]"
      ]
     },
     "execution_count": 29,
     "metadata": {},
     "output_type": "execute_result"
    }
   ],
   "source": [
    "# Eğer listemizin elemanlarını random olarak yerini değiştirmek istiyorsak shuffle metodunu kullanırız\n",
    "from random import shuffle \n",
    "shuffle(yeniListe)\n",
    "yeniListe"
   ]
  },
  {
   "cell_type": "markdown",
   "id": "2db4d994-750b-4852-9b84-8ac9f619c8c6",
   "metadata": {},
   "source": [
    "# Zip "
   ]
  },
  {
   "cell_type": "markdown",
   "id": "db094e4e-7391-402b-b374-5566ef96bff3",
   "metadata": {},
   "source": [
    "zip fonksiyonu, birden fazla listeyi sırayla birleştirip her öğeyi birer ikili (tuple) halinde döndürür."
   ]
  },
  {
   "cell_type": "code",
   "execution_count": 30,
   "id": "a91965ee-377b-440f-8738-0e75ca0fa121",
   "metadata": {},
   "outputs": [],
   "source": [
    "yemekListesi = [\"Muz\",\"Ananas\",\"Elma\"]\n",
    "kaloriListesi = [100,200,300]\n",
    "günListesi = [\"Pzt\",\"Salı\",\"Çrşmb\"]\n"
   ]
  },
  {
   "cell_type": "code",
   "execution_count": 33,
   "id": "1b2bd47e-7230-40a9-912e-8326ef46155a",
   "metadata": {},
   "outputs": [],
   "source": [
    "ziplenmisListe = list(zip(yemekListesi,kaloriListesi,günListesi))"
   ]
  },
  {
   "cell_type": "code",
   "execution_count": 34,
   "id": "1e593b12-42a1-48f6-b624-6c8dbbce2563",
   "metadata": {},
   "outputs": [
    {
     "name": "stdout",
     "output_type": "stream",
     "text": [
      "<class 'tuple'>\n",
      "<class 'tuple'>\n",
      "<class 'tuple'>\n"
     ]
    }
   ],
   "source": [
    "for eleman in ziplenmisListe:\n",
    "    print(type(eleman))\n",
    "# Ziple sonucu oluşan değişkenin veri türü tuple dır"
   ]
  },
  {
   "cell_type": "markdown",
   "id": "1e73c058-c44e-4932-9d2d-3398447c7e4a",
   "metadata": {},
   "source": [
    "# Listeler İleri Seviye"
   ]
  },
  {
   "cell_type": "code",
   "execution_count": 36,
   "id": "13b6f122-410b-4b78-afdf-95d6e4020614",
   "metadata": {},
   "outputs": [],
   "source": [
    "listeOrnegi = []\n",
    "benimString = \"Eren Aydın\"\n",
    "for harf in benimString:\n",
    "    listeOrnegi.append(harf)"
   ]
  },
  {
   "cell_type": "code",
   "execution_count": 37,
   "id": "07e7d16b-3e96-4936-b8b4-5822a611deaf",
   "metadata": {},
   "outputs": [
    {
     "data": {
      "text/plain": [
       "['E', 'r', 'e', 'n', ' ', 'A', 'y', 'd', 'ı', 'n']"
      ]
     },
     "execution_count": 37,
     "metadata": {},
     "output_type": "execute_result"
    }
   ],
   "source": [
    "listeOrnegi"
   ]
  },
  {
   "cell_type": "code",
   "execution_count": 38,
   "id": "40c60bb4-5885-4178-a567-87aaa48d7df2",
   "metadata": {},
   "outputs": [],
   "source": [
    "listeOrnegi1 = [eleman for eleman in benimString] # Yukarıda yaptığımız işlemin özel bir gösterimi"
   ]
  },
  {
   "cell_type": "code",
   "execution_count": 39,
   "id": "aa741e74-c3c6-48c7-afbe-507b680d84da",
   "metadata": {},
   "outputs": [
    {
     "data": {
      "text/plain": [
       "['E', 'r', 'e', 'n', ' ', 'A', 'y', 'd', 'ı', 'n']"
      ]
     },
     "execution_count": 39,
     "metadata": {},
     "output_type": "execute_result"
    }
   ],
   "source": [
    "listeOrnegi1"
   ]
  },
  {
   "cell_type": "code",
   "execution_count": null,
   "id": "61223513-eaaf-481e-bc2f-c3ba611ffcd3",
   "metadata": {},
   "outputs": [],
   "source": []
  }
 ],
 "metadata": {
  "kernelspec": {
   "display_name": "Python 3 (ipykernel)",
   "language": "python",
   "name": "python3"
  },
  "language_info": {
   "codemirror_mode": {
    "name": "ipython",
    "version": 3
   },
   "file_extension": ".py",
   "mimetype": "text/x-python",
   "name": "python",
   "nbconvert_exporter": "python",
   "pygments_lexer": "ipython3",
   "version": "3.12.7"
  }
 },
 "nbformat": 4,
 "nbformat_minor": 5
}
