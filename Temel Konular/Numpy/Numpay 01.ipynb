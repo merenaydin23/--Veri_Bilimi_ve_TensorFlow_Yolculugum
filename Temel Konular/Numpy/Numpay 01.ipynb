{
 "cells": [
  {
   "cell_type": "code",
   "execution_count": 1,
   "id": "2a700bae-dd7f-48f4-93c0-5018b2536864",
   "metadata": {},
   "outputs": [],
   "source": [
    "import numpy as np"
   ]
  },
  {
   "cell_type": "markdown",
   "id": "4c3a50b2-5930-4f15-8fd9-964634c119e5",
   "metadata": {},
   "source": [
    "## Numpy Array"
   ]
  },
  {
   "cell_type": "code",
   "execution_count": 2,
   "id": "781cc840-f8ce-4e21-ad97-a01fb3fe9819",
   "metadata": {},
   "outputs": [],
   "source": [
    "benimListem = [20,30,40,50]"
   ]
  },
  {
   "cell_type": "code",
   "execution_count": 3,
   "id": "6762053b-56a4-482e-a9c4-c8b8f6b82b54",
   "metadata": {},
   "outputs": [
    {
     "data": {
      "text/plain": [
       "list"
      ]
     },
     "execution_count": 3,
     "metadata": {},
     "output_type": "execute_result"
    }
   ],
   "source": [
    "type(benimListem)"
   ]
  },
  {
   "cell_type": "code",
   "execution_count": 4,
   "id": "49292d2d-27d8-48b6-85b2-09c824164bd3",
   "metadata": {},
   "outputs": [
    {
     "data": {
      "text/plain": [
       "array([20, 30, 40, 50])"
      ]
     },
     "execution_count": 4,
     "metadata": {},
     "output_type": "execute_result"
    }
   ],
   "source": [
    "np.array(benimListem)"
   ]
  },
  {
   "cell_type": "code",
   "execution_count": 5,
   "id": "2d143cf6-23fc-4888-9d45-a6420bcb3281",
   "metadata": {},
   "outputs": [],
   "source": [
    "matrixListesi =[[10,20,30],[40,50,60],[40,78,88]]"
   ]
  },
  {
   "cell_type": "code",
   "execution_count": 6,
   "id": "3d367983-0a92-472d-90e6-333c66e361af",
   "metadata": {},
   "outputs": [
    {
     "data": {
      "text/plain": [
       "40"
      ]
     },
     "execution_count": 6,
     "metadata": {},
     "output_type": "execute_result"
    }
   ],
   "source": [
    "matrixListesi[1][0]"
   ]
  },
  {
   "cell_type": "code",
   "execution_count": 7,
   "id": "5b4e1f9d-6825-47e3-a3d7-d9c5a3fd25a2",
   "metadata": {},
   "outputs": [
    {
     "data": {
      "text/plain": [
       "array([[10, 20, 30],\n",
       "       [40, 50, 60],\n",
       "       [40, 78, 88]])"
      ]
     },
     "execution_count": 7,
     "metadata": {},
     "output_type": "execute_result"
    }
   ],
   "source": [
    "np.array(matrixListesi)"
   ]
  },
  {
   "cell_type": "code",
   "execution_count": 8,
   "id": "caffe264-24e4-4b41-b0f0-6a3191a9c423",
   "metadata": {},
   "outputs": [
    {
     "data": {
      "text/plain": [
       "numpy.ndarray"
      ]
     },
     "execution_count": 8,
     "metadata": {},
     "output_type": "execute_result"
    }
   ],
   "source": [
    "type(np.array(matrixListesi))"
   ]
  },
  {
   "cell_type": "markdown",
   "id": "edb4d824-ee12-4959-ad31-dd803a0727b2",
   "metadata": {},
   "source": [
    "## Arange"
   ]
  },
  {
   "cell_type": "code",
   "execution_count": 9,
   "id": "abbc4a0d-70b2-45a6-9f0d-d3d2479c5264",
   "metadata": {},
   "outputs": [
    {
     "data": {
      "text/plain": [
       "[0, 1, 2, 3, 4, 5, 6, 7, 8, 9]"
      ]
     },
     "execution_count": 9,
     "metadata": {},
     "output_type": "execute_result"
    }
   ],
   "source": [
    "list(range(0,10)) # Liste oluşturur"
   ]
  },
  {
   "cell_type": "code",
   "execution_count": 10,
   "id": "e6a0e391-6886-495c-9d2c-7f3683fc9ed8",
   "metadata": {},
   "outputs": [
    {
     "data": {
      "text/plain": [
       "array([0, 1, 2, 3, 4, 5, 6, 7, 8, 9])"
      ]
     },
     "execution_count": 10,
     "metadata": {},
     "output_type": "execute_result"
    }
   ],
   "source": [
    "np.arange(0,10) # Numpy dizisi oluşturur"
   ]
  },
  {
   "cell_type": "code",
   "execution_count": 11,
   "id": "025b3a4a-8214-4434-99e7-926cc1340795",
   "metadata": {},
   "outputs": [
    {
     "data": {
      "text/plain": [
       "array([ 0,  2,  4,  6,  8, 10, 12, 14])"
      ]
     },
     "execution_count": 11,
     "metadata": {},
     "output_type": "execute_result"
    }
   ],
   "source": [
    "np.arange(0,15,2)"
   ]
  },
  {
   "cell_type": "markdown",
   "id": "5d5aaf5d-849f-4adf-be45-eb85ac5c019f",
   "metadata": {},
   "source": [
    "# Linspace"
   ]
  },
  {
   "cell_type": "code",
   "execution_count": 12,
   "id": "1ced631f-7588-4a12-b582-101a4bfd467a",
   "metadata": {},
   "outputs": [
    {
     "data": {
      "text/plain": [
       "array([  0.        ,   1.01010101,   2.02020202,   3.03030303,\n",
       "         4.04040404,   5.05050505,   6.06060606,   7.07070707,\n",
       "         8.08080808,   9.09090909,  10.1010101 ,  11.11111111,\n",
       "        12.12121212,  13.13131313,  14.14141414,  15.15151515,\n",
       "        16.16161616,  17.17171717,  18.18181818,  19.19191919,\n",
       "        20.2020202 ,  21.21212121,  22.22222222,  23.23232323,\n",
       "        24.24242424,  25.25252525,  26.26262626,  27.27272727,\n",
       "        28.28282828,  29.29292929,  30.3030303 ,  31.31313131,\n",
       "        32.32323232,  33.33333333,  34.34343434,  35.35353535,\n",
       "        36.36363636,  37.37373737,  38.38383838,  39.39393939,\n",
       "        40.4040404 ,  41.41414141,  42.42424242,  43.43434343,\n",
       "        44.44444444,  45.45454545,  46.46464646,  47.47474747,\n",
       "        48.48484848,  49.49494949,  50.50505051,  51.51515152,\n",
       "        52.52525253,  53.53535354,  54.54545455,  55.55555556,\n",
       "        56.56565657,  57.57575758,  58.58585859,  59.5959596 ,\n",
       "        60.60606061,  61.61616162,  62.62626263,  63.63636364,\n",
       "        64.64646465,  65.65656566,  66.66666667,  67.67676768,\n",
       "        68.68686869,  69.6969697 ,  70.70707071,  71.71717172,\n",
       "        72.72727273,  73.73737374,  74.74747475,  75.75757576,\n",
       "        76.76767677,  77.77777778,  78.78787879,  79.7979798 ,\n",
       "        80.80808081,  81.81818182,  82.82828283,  83.83838384,\n",
       "        84.84848485,  85.85858586,  86.86868687,  87.87878788,\n",
       "        88.88888889,  89.8989899 ,  90.90909091,  91.91919192,\n",
       "        92.92929293,  93.93939394,  94.94949495,  95.95959596,\n",
       "        96.96969697,  97.97979798,  98.98989899, 100.        ])"
      ]
     },
     "execution_count": 12,
     "metadata": {},
     "output_type": "execute_result"
    }
   ],
   "source": [
    "np.linspace(0,100,100) # 0 ile 100 arasında 100 eşit aralıklı sayı"
   ]
  },
  {
   "cell_type": "markdown",
   "id": "281b593f-9a85-4504-938b-40f49dc0a30a",
   "metadata": {},
   "source": [
    "## Random"
   ]
  },
  {
   "cell_type": "code",
   "execution_count": 13,
   "id": "da410d77-fb1d-433c-9d64-e3247a98e46c",
   "metadata": {},
   "outputs": [
    {
     "data": {
      "text/plain": [
       "array([-0.85718617, -0.19288182,  2.2578211 ,  1.10672427])"
      ]
     },
     "execution_count": 13,
     "metadata": {},
     "output_type": "execute_result"
    }
   ],
   "source": [
    "np.random.randn(4) # bu fonksiyon bize numoay dizisi dönderir"
   ]
  },
  {
   "cell_type": "code",
   "execution_count": 14,
   "id": "66cab598-aa19-47fa-a735-390d5a9e66b7",
   "metadata": {},
   "outputs": [
    {
     "data": {
      "text/plain": [
       "array([[ 2.51758648, -0.3987873 ,  0.32994824,  1.40029881],\n",
       "       [-2.27757577, -0.13055844,  1.447478  , -0.41624879],\n",
       "       [-2.05756772,  0.38532363,  0.42005956,  0.38183668]])"
      ]
     },
     "execution_count": 14,
     "metadata": {},
     "output_type": "execute_result"
    }
   ],
   "source": [
    "np.random.randn(3,4)# bu fonksiyon bize numoay matrixi dönderir"
   ]
  },
  {
   "cell_type": "code",
   "execution_count": 15,
   "id": "74b9fbd1-739a-4140-9253-3b3b858281d7",
   "metadata": {},
   "outputs": [
    {
     "data": {
      "text/plain": [
       "63"
      ]
     },
     "execution_count": 15,
     "metadata": {},
     "output_type": "execute_result"
    }
   ],
   "source": [
    "np.random.randint(1,100) # 1 dem 100 e kadar tek bir değer dönderir"
   ]
  },
  {
   "cell_type": "code",
   "execution_count": 16,
   "id": "34aac559-cfce-4b88-ac04-18678bd69cda",
   "metadata": {},
   "outputs": [
    {
     "data": {
      "text/plain": [
       "array([ 56, 268, 200, 265, 230])"
      ]
     },
     "execution_count": 16,
     "metadata": {},
     "output_type": "execute_result"
    }
   ],
   "source": [
    "# 1 ile 300 arasında (300 dahil değil) rastgele 5 tam sayı üretir\n",
    "result = np.random.randint(1, 300, 5)\n",
    "result"
   ]
  },
  {
   "cell_type": "code",
   "execution_count": 17,
   "id": "a359214d-bc49-4c4a-8252-20424d3b84fe",
   "metadata": {},
   "outputs": [],
   "source": [
    "numpay = np.arange(0,10)"
   ]
  },
  {
   "cell_type": "code",
   "execution_count": 18,
   "id": "61703772-5fd3-49fd-8b9f-07e84fda39ff",
   "metadata": {},
   "outputs": [
    {
     "data": {
      "text/plain": [
       "array([0, 1, 2, 3, 4, 5, 6, 7, 8, 9])"
      ]
     },
     "execution_count": 18,
     "metadata": {},
     "output_type": "execute_result"
    }
   ],
   "source": [
    "numpay"
   ]
  },
  {
   "cell_type": "code",
   "execution_count": 19,
   "id": "f518f082-8690-49a6-82c6-0177d9f55d6e",
   "metadata": {},
   "outputs": [],
   "source": [
    "numpay = np.random.randint(0,100,12)"
   ]
  },
  {
   "cell_type": "code",
   "execution_count": 20,
   "id": "83b1ab32-3198-4a0c-90be-1c117b2d0213",
   "metadata": {},
   "outputs": [
    {
     "data": {
      "text/plain": [
       "array([75, 86, 32, 46, 10, 98, 45, 91, 48, 53, 19, 83])"
      ]
     },
     "execution_count": 20,
     "metadata": {},
     "output_type": "execute_result"
    }
   ],
   "source": [
    "numpay"
   ]
  },
  {
   "cell_type": "markdown",
   "id": "a97d4865-dfb9-43a8-8a58-c895d695d201",
   "metadata": {},
   "source": [
    "## Numpy Dizi Metodları"
   ]
  },
  {
   "cell_type": "code",
   "execution_count": 21,
   "id": "9ccdd429-0e6f-4477-b6b2-c2a2f3a4e7d2",
   "metadata": {},
   "outputs": [
    {
     "data": {
      "text/plain": [
       "array([[75, 86, 32, 46],\n",
       "       [10, 98, 45, 91],\n",
       "       [48, 53, 19, 83]])"
      ]
     },
     "execution_count": 21,
     "metadata": {},
     "output_type": "execute_result"
    }
   ],
   "source": [
    "# Bu diziyi yeniden şekillendiriyoruz: 3 satır ve 4 sütundan oluşan bir matris\n",
    "numpay1 = numpay.reshape(3, 4)\n",
    "numpay1"
   ]
  },
  {
   "cell_type": "code",
   "execution_count": 22,
   "id": "f856acdc-398e-46df-aba5-08332dc92ce4",
   "metadata": {},
   "outputs": [
    {
     "data": {
      "text/plain": [
       "array([[75, 86, 32],\n",
       "       [46, 10, 98],\n",
       "       [45, 91, 48],\n",
       "       [53, 19, 83]])"
      ]
     },
     "execution_count": 22,
     "metadata": {},
     "output_type": "execute_result"
    }
   ],
   "source": [
    "numpay2 = numpay.reshape(4, 3)\n",
    "numpay2"
   ]
  },
  {
   "cell_type": "code",
   "execution_count": 23,
   "id": "05f87f2f-a1c2-4fa4-aa7f-ac9a3d15626c",
   "metadata": {},
   "outputs": [
    {
     "data": {
      "text/plain": [
       "98"
      ]
     },
     "execution_count": 23,
     "metadata": {},
     "output_type": "execute_result"
    }
   ],
   "source": [
    "numpay.max()"
   ]
  },
  {
   "cell_type": "code",
   "execution_count": 24,
   "id": "7d6b240c-dae6-4ff7-ae19-bbaae3f81af7",
   "metadata": {},
   "outputs": [
    {
     "data": {
      "text/plain": [
       "10"
      ]
     },
     "execution_count": 24,
     "metadata": {},
     "output_type": "execute_result"
    }
   ],
   "source": [
    "numpay.min()"
   ]
  },
  {
   "cell_type": "code",
   "execution_count": 25,
   "id": "6f83afd7-6f00-427c-8bf5-3f23f8b87b6e",
   "metadata": {},
   "outputs": [
    {
     "data": {
      "text/plain": [
       "5"
      ]
     },
     "execution_count": 25,
     "metadata": {},
     "output_type": "execute_result"
    }
   ],
   "source": [
    "numpay.argmax() # max değerinin kaçınçı indexde olduğunu veerir"
   ]
  },
  {
   "cell_type": "code",
   "execution_count": 26,
   "id": "96c12354-0785-4edb-af0c-22df609df3fb",
   "metadata": {},
   "outputs": [
    {
     "data": {
      "text/plain": [
       "4"
      ]
     },
     "execution_count": 26,
     "metadata": {},
     "output_type": "execute_result"
    }
   ],
   "source": [
    "numpay.argmin() # min değerinin kaçınçı indexde olduğunu veerir"
   ]
  },
  {
   "cell_type": "code",
   "execution_count": null,
   "id": "cf1c58d8-f1f1-42e1-b19c-dc56bb4bec99",
   "metadata": {},
   "outputs": [],
   "source": []
  }
 ],
 "metadata": {
  "kernelspec": {
   "display_name": "Python 3 (ipykernel)",
   "language": "python",
   "name": "python3"
  },
  "language_info": {
   "codemirror_mode": {
    "name": "ipython",
    "version": 3
   },
   "file_extension": ".py",
   "mimetype": "text/x-python",
   "name": "python",
   "nbconvert_exporter": "python",
   "pygments_lexer": "ipython3",
   "version": "3.12.7"
  }
 },
 "nbformat": 4,
 "nbformat_minor": 5
}
