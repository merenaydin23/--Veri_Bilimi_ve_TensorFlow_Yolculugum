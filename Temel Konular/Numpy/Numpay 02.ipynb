{
 "cells": [
  {
   "cell_type": "code",
   "execution_count": 46,
   "id": "7da0757f-c6a9-400f-a003-1a1d42d7d5ee",
   "metadata": {},
   "outputs": [],
   "source": [
    "import numpy as np"
   ]
  },
  {
   "cell_type": "code",
   "execution_count": 47,
   "id": "0e68f35a-fe49-4037-9995-bd3c837b96e6",
   "metadata": {},
   "outputs": [
    {
     "data": {
      "text/plain": [
       "array([ 0.2,  2.9,  5.6,  8.3, 11. , 13.7, 16.4, 19.1, 21.8])"
      ]
     },
     "execution_count": 47,
     "metadata": {},
     "output_type": "execute_result"
    }
   ],
   "source": [
    "# 0.2'den başlayıp 23'e kadar, 2.7 artarak bir dizi oluşturuyoruz.\n",
    "benimDizim = np.arange(0.2, 23, 2.7)\n",
    "benimDizim  "
   ]
  },
  {
   "cell_type": "code",
   "execution_count": 48,
   "id": "53aa0988-8fe6-4837-9030-5b1f712a7544",
   "metadata": {},
   "outputs": [
    {
     "data": {
      "text/plain": [
       "13.7"
      ]
     },
     "execution_count": 48,
     "metadata": {},
     "output_type": "execute_result"
    }
   ],
   "source": [
    "# Dizinin 5. indeksindeki değeri alıyoruz\n",
    "benimDizim[5]"
   ]
  },
  {
   "cell_type": "code",
   "execution_count": 49,
   "id": "3b1a898d-0c66-4096-a707-7b5a4ea6642b",
   "metadata": {},
   "outputs": [
    {
     "data": {
      "text/plain": [
       "21.8"
      ]
     },
     "execution_count": 49,
     "metadata": {},
     "output_type": "execute_result"
    }
   ],
   "source": [
    "# Dizinin son elemanını alıyoruz\n",
    "benimDizim[len(benimDizim)-1]"
   ]
  },
  {
   "cell_type": "code",
   "execution_count": 50,
   "id": "576bbce4-7d07-4914-9097-6dfc350ede10",
   "metadata": {},
   "outputs": [
    {
     "data": {
      "text/plain": [
       "array([ 8.3, 11. , 13.7])"
      ]
     },
     "execution_count": 50,
     "metadata": {},
     "output_type": "execute_result"
    }
   ],
   "source": [
    "# 3. ile 6. indeks arasındaki elemanları alıyoruz (6 dahil değil)\n",
    "benimDizim[3:6]"
   ]
  },
  {
   "cell_type": "code",
   "execution_count": 51,
   "id": "6955c0d6-ea2e-4b6e-8a50-be689c857867",
   "metadata": {},
   "outputs": [
    {
     "data": {
      "text/plain": [
       "array([ 8.3, 13.7, 19.1])"
      ]
     },
     "execution_count": 51,
     "metadata": {},
     "output_type": "execute_result"
    }
   ],
   "source": [
    "# 3. ile 8. indeks arasındaki elemanları 2'şer atlayarak alıyoruz\n",
    "benimDizim[3:8:2]"
   ]
  },
  {
   "cell_type": "code",
   "execution_count": 52,
   "id": "10271770-ae11-46b7-808e-da6be2722b63",
   "metadata": {},
   "outputs": [
    {
     "data": {
      "text/plain": [
       "array([ 0.2,  2.9,  5.6,  0. ,  0. ,  0. , 16.4, 19.1, 21.8])"
      ]
     },
     "execution_count": 52,
     "metadata": {},
     "output_type": "execute_result"
    }
   ],
   "source": [
    "# 3. ile 6. indeks arasındaki elemanları 0 yapıyoruz\n",
    "benimDizim[3:6:] = 0  \n",
    "benimDizim "
   ]
  },
  {
   "cell_type": "code",
   "execution_count": 53,
   "id": "3c85daae-88ff-49f8-aaf3-34081154738d",
   "metadata": {},
   "outputs": [
    {
     "data": {
      "text/plain": [
       "array([ 0. ,  0. , 19.1])"
      ]
     },
     "execution_count": 53,
     "metadata": {},
     "output_type": "execute_result"
    }
   ],
   "source": [
    "# 3. ile 8. indeks arasındaki elemanları 2'şer atlayarak alıyoruz\n",
    "benimDizim[3:8:2]"
   ]
  },
  {
   "cell_type": "code",
   "execution_count": 54,
   "id": "7bc7814c-2de1-44c3-b6d4-369c17d39317",
   "metadata": {},
   "outputs": [
    {
     "data": {
      "text/plain": [
       "array([ 0.2,  2.9,  5.6,  0. ,  0. ,  0. , 16.4, 19.1, 21.8])"
      ]
     },
     "execution_count": 54,
     "metadata": {},
     "output_type": "execute_result"
    }
   ],
   "source": [
    "# 3. ile 6. indeks arasındaki elemanları 0 yapıyoruz\n",
    "benimDizim[3:6:] = 0  \n",
    "benimDizim  "
   ]
  },
  {
   "cell_type": "code",
   "execution_count": 55,
   "id": "a8bf0825-0c91-4e9c-af92-ec33063e2270",
   "metadata": {},
   "outputs": [
    {
     "data": {
      "text/plain": [
       "array([ 0,  1,  2,  3,  4,  5,  6,  7,  8,  9, 10, 11, 12, 13, 14, 15, 16,\n",
       "       17, 18, 19, 20, 21, 22, 23])"
      ]
     },
     "execution_count": 55,
     "metadata": {},
     "output_type": "execute_result"
    }
   ],
   "source": [
    "# 0'dan başlayıp 24'e kadar bir dizi oluşturuyoruz\n",
    "dizi2 = np.arange(0, 24)\n",
    "dizi2  # Yeni dizi görüntülenir"
   ]
  },
  {
   "cell_type": "code",
   "execution_count": 56,
   "id": "1b2b8a71-d0f9-4ef2-bef1-8d67c10b3b0c",
   "metadata": {},
   "outputs": [],
   "source": [
    "# 4. ile 14. indeks arasındaki elemanları slicing yapıyoruz\n",
    "slicingDizisi = dizi2[4:14]"
   ]
  },
  {
   "cell_type": "code",
   "execution_count": 57,
   "id": "822dbb1f-93fa-4906-90f1-e3c4ad940fec",
   "metadata": {},
   "outputs": [
    {
     "data": {
      "text/plain": [
       "array([700, 700, 700, 700, 700, 700, 700, 700, 700, 700])"
      ]
     },
     "execution_count": 57,
     "metadata": {},
     "output_type": "execute_result"
    }
   ],
   "source": [
    "# slicingDizisi dizisinin tüm elemanlarını 700 yapıyoruz (Dizi2'yi etkiler) Dizi2' de slicing olan elelmanaların değeride değişir\n",
    "slicingDizisi[:] = 700\n",
    "slicingDizisi  # Slicing dizisi güncellenmiş"
   ]
  },
  {
   "cell_type": "code",
   "execution_count": 58,
   "id": "16c6f961-8f15-4dfe-94aa-4c93260f0785",
   "metadata": {},
   "outputs": [
    {
     "data": {
      "text/plain": [
       "array([  0,   1,   2,   3, 700, 700, 700, 700, 700, 700, 700, 700, 700,\n",
       "       700,  14,  15,  16,  17,  18,  19,  20,  21,  22,  23])"
      ]
     },
     "execution_count": 58,
     "metadata": {},
     "output_type": "execute_result"
    }
   ],
   "source": [
    "# dizi2 üzerinde yapılan değişiklikleri görmek için dizi2'yi kontrol ediyoruz\n",
    "dizi2"
   ]
  }
 ],
 "metadata": {
  "kernelspec": {
   "display_name": "Python 3 (ipykernel)",
   "language": "python",
   "name": "python3"
  },
  "language_info": {
   "codemirror_mode": {
    "name": "ipython",
    "version": 3
   },
   "file_extension": ".py",
   "mimetype": "text/x-python",
   "name": "python",
   "nbconvert_exporter": "python",
   "pygments_lexer": "ipython3",
   "version": "3.12.7"
  }
 },
 "nbformat": 4,
 "nbformat_minor": 5
}
