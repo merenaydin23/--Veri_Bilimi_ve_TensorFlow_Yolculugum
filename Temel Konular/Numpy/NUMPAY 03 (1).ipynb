{
 "cells": [
  {
   "cell_type": "code",
   "execution_count": 55,
   "id": "9709b5a3-a1be-4fe9-9441-8a2ccc2fa181",
   "metadata": {},
   "outputs": [],
   "source": [
    "import numpy as np"
   ]
  },
  {
   "cell_type": "markdown",
   "id": "8ff8ce44-f342-46a8-b620-4feeabb093bf",
   "metadata": {},
   "source": [
    "## Matrix"
   ]
  },
  {
   "cell_type": "code",
   "execution_count": 56,
   "id": "57f92e75-e795-44f4-a0ce-2ad5a3e7c293",
   "metadata": {},
   "outputs": [],
   "source": [
    "benimListem = [[10,20,30],[20,30,40],[40,50,60]]"
   ]
  },
  {
   "cell_type": "code",
   "execution_count": 57,
   "id": "a0031ce1-4c0f-4ff5-8cee-ccef59a4bc8d",
   "metadata": {},
   "outputs": [],
   "source": [
    "# 'benimListem' adlı listeyi numpy array (dizi) formatına dönüştürüyoruz\n",
    "benimMatrixDizim = np.array(benimListem)"
   ]
  },
  {
   "cell_type": "code",
   "execution_count": 58,
   "id": "74575e46-5eca-4a7f-a47b-6dc6e7570af0",
   "metadata": {},
   "outputs": [
    {
     "data": {
      "text/plain": [
       "array([[10, 20, 30],\n",
       "       [20, 30, 40],\n",
       "       [40, 50, 60]])"
      ]
     },
     "execution_count": 58,
     "metadata": {},
     "output_type": "execute_result"
    }
   ],
   "source": [
    "benimMatrixDizim"
   ]
  },
  {
   "cell_type": "code",
   "execution_count": 59,
   "id": "23d62dc3-d04b-4e12-94c7-ce5e6e541238",
   "metadata": {},
   "outputs": [
    {
     "data": {
      "text/plain": [
       "array([10, 20, 30])"
      ]
     },
     "execution_count": 59,
     "metadata": {},
     "output_type": "execute_result"
    }
   ],
   "source": [
    "benimMatrixDizim[0]"
   ]
  },
  {
   "cell_type": "code",
   "execution_count": 60,
   "id": "f9c2041e-abb5-4939-93a6-9d2f00acc159",
   "metadata": {},
   "outputs": [
    {
     "data": {
      "text/plain": [
       "40"
      ]
     },
     "execution_count": 60,
     "metadata": {},
     "output_type": "execute_result"
    }
   ],
   "source": [
    "benimMatrixDizim[1][2]"
   ]
  },
  {
   "cell_type": "code",
   "execution_count": 61,
   "id": "c64be41b-b2d5-413a-ae36-a32d0c1f1e43",
   "metadata": {},
   "outputs": [
    {
     "data": {
      "text/plain": [
       "60"
      ]
     },
     "execution_count": 61,
     "metadata": {},
     "output_type": "execute_result"
    }
   ],
   "source": [
    "benimMatrixDizim[2,2]"
   ]
  },
  {
   "cell_type": "code",
   "execution_count": 62,
   "id": "8d805925-7bbd-4d02-a9bd-9d842913d228",
   "metadata": {},
   "outputs": [
    {
     "data": {
      "text/plain": [
       "array([[20, 30],\n",
       "       [30, 40],\n",
       "       [50, 60]])"
      ]
     },
     "execution_count": 62,
     "metadata": {},
     "output_type": "execute_result"
    }
   ],
   "source": [
    "# Bu komut, tüm satırları alacak ve her satırın ilk sütununu hariç tutarak, geri kalan tüm sütunları seçer.\n",
    "benimMatrixDizim[0:, 1:]"
   ]
  },
  {
   "cell_type": "code",
   "execution_count": 63,
   "id": "83470dd3-1483-43c1-b748-e14176c1a3af",
   "metadata": {},
   "outputs": [],
   "source": [
    "yeniListe = [[10,20,30,70,80,80,80],[20,30,40,70,80,90,44],[40,50,60,44,55,66,11]]"
   ]
  },
  {
   "cell_type": "code",
   "execution_count": 64,
   "id": "ff6c5188-f0bc-4140-9d34-c24f9f675eea",
   "metadata": {},
   "outputs": [],
   "source": [
    "yeniMatrix = np.array(yeniListe)"
   ]
  },
  {
   "cell_type": "code",
   "execution_count": 65,
   "id": "0b0f0774-f3fe-4115-90cf-2fb4a111eeab",
   "metadata": {},
   "outputs": [
    {
     "data": {
      "text/plain": [
       "array([[10, 20, 30, 70, 80, 80, 80],\n",
       "       [20, 30, 40, 70, 80, 90, 44],\n",
       "       [40, 50, 60, 44, 55, 66, 11]])"
      ]
     },
     "execution_count": 65,
     "metadata": {},
     "output_type": "execute_result"
    }
   ],
   "source": [
    "yeniMatrix"
   ]
  },
  {
   "cell_type": "code",
   "execution_count": 66,
   "id": "ab1b9b15-76f3-4c53-8447-b5b765900f11",
   "metadata": {},
   "outputs": [
    {
     "data": {
      "text/plain": [
       "array([[10, 20, 30, 70, 80, 80, 80],\n",
       "       [40, 50, 60, 44, 55, 66, 11]])"
      ]
     },
     "execution_count": 66,
     "metadata": {},
     "output_type": "execute_result"
    }
   ],
   "source": [
    "yeniMatrix[[0,2]]"
   ]
  },
  {
   "cell_type": "code",
   "execution_count": 67,
   "id": "e2f058d6-0103-4748-973b-cc8b0b7102b8",
   "metadata": {},
   "outputs": [
    {
     "data": {
      "text/plain": [
       "array([[30, 70, 80, 80, 80],\n",
       "       [40, 70, 80, 90, 44],\n",
       "       [60, 44, 55, 66, 11]])"
      ]
     },
     "execution_count": 67,
     "metadata": {},
     "output_type": "execute_result"
    }
   ],
   "source": [
    "yeniMatrix[0:,2:]"
   ]
  },
  {
   "cell_type": "code",
   "execution_count": 68,
   "id": "db817e4b-3e02-4177-9982-498b22b49ddc",
   "metadata": {},
   "outputs": [
    {
     "data": {
      "text/plain": [
       "array([50, 60, 44, 55, 66, 11])"
      ]
     },
     "execution_count": 68,
     "metadata": {},
     "output_type": "execute_result"
    }
   ],
   "source": [
    "yeniMatrix[2,1:]"
   ]
  },
  {
   "cell_type": "markdown",
   "id": "cf9d976a-beb1-47a4-a6d3-70ce51bf9387",
   "metadata": {},
   "source": [
    "## Numpayda Operasyonlar"
   ]
  },
  {
   "cell_type": "code",
   "execution_count": 69,
   "id": "bdeae7ca-19e5-432b-b34c-5756a5daa160",
   "metadata": {},
   "outputs": [],
   "source": [
    "dizi1 = np.random.randint(1,99,31)"
   ]
  },
  {
   "cell_type": "code",
   "execution_count": 70,
   "id": "65db6318-0adc-4ef9-b2b5-97c1928b0597",
   "metadata": {},
   "outputs": [
    {
     "data": {
      "text/plain": [
       "array([65, 52, 32, 34, 14,  3, 69, 41, 63, 51, 74,  7, 61, 27, 61, 21, 53,\n",
       "       93, 88, 55, 26, 80,  3, 96, 65, 26, 53, 29, 14, 56, 86])"
      ]
     },
     "execution_count": 70,
     "metadata": {},
     "output_type": "execute_result"
    }
   ],
   "source": [
    "dizi1"
   ]
  },
  {
   "cell_type": "code",
   "execution_count": 71,
   "id": "b53c79de-e8d4-40fb-86d1-d9b4a3e6f140",
   "metadata": {},
   "outputs": [
    {
     "data": {
      "text/plain": [
       "array([ True,  True, False, False, False, False,  True, False,  True,\n",
       "        True,  True, False,  True, False,  True, False,  True,  True,\n",
       "        True,  True, False,  True, False,  True,  True, False,  True,\n",
       "       False, False,  True,  True])"
      ]
     },
     "execution_count": 71,
     "metadata": {},
     "output_type": "execute_result"
    }
   ],
   "source": [
    "dizi1 > 44 # Dizi1 de 22 den büyük rakamların tespitini yapmaya çalışıyoruz"
   ]
  },
  {
   "cell_type": "code",
   "execution_count": 72,
   "id": "8558ad8f-a144-4b38-9fca-9c4187342eb7",
   "metadata": {},
   "outputs": [
    {
     "data": {
      "text/plain": [
       "array([65, 52, 32, 34, 14,  3, 69, 41, 63, 51, 74,  7, 61, 27, 61, 21, 53,\n",
       "       93, 88, 55, 26, 80,  3, 96, 65, 26, 53, 29, 14, 56, 86])"
      ]
     },
     "execution_count": 72,
     "metadata": {},
     "output_type": "execute_result"
    }
   ],
   "source": [
    "dizi1"
   ]
  },
  {
   "cell_type": "code",
   "execution_count": 73,
   "id": "95bfd3db-a6cf-4b57-b2b4-f9f6810e53c2",
   "metadata": {},
   "outputs": [],
   "source": [
    "sonucDizisi = dizi1 > 44"
   ]
  },
  {
   "cell_type": "code",
   "execution_count": 74,
   "id": "14e604ce-20e5-4d15-a1a4-e3f5076a6cc5",
   "metadata": {},
   "outputs": [
    {
     "data": {
      "text/plain": [
       "array([ True,  True, False, False, False, False,  True, False,  True,\n",
       "        True,  True, False,  True, False,  True, False,  True,  True,\n",
       "        True,  True, False,  True, False,  True,  True, False,  True,\n",
       "       False, False,  True,  True])"
      ]
     },
     "execution_count": 74,
     "metadata": {},
     "output_type": "execute_result"
    }
   ],
   "source": [
    "sonucDizisi"
   ]
  },
  {
   "cell_type": "code",
   "execution_count": 75,
   "id": "a7614dcf-d2cc-4040-bd2c-293388301571",
   "metadata": {},
   "outputs": [],
   "source": [
    "sonDizi = np.arange(0,23)"
   ]
  },
  {
   "cell_type": "code",
   "execution_count": 76,
   "id": "7e72f033-7444-40a5-9551-95d512a8cc42",
   "metadata": {},
   "outputs": [
    {
     "data": {
      "text/plain": [
       "array([ 0,  2,  4,  6,  8, 10, 12, 14, 16, 18, 20, 22, 24, 26, 28, 30, 32,\n",
       "       34, 36, 38, 40, 42, 44])"
      ]
     },
     "execution_count": 76,
     "metadata": {},
     "output_type": "execute_result"
    }
   ],
   "source": [
    "sonDizi + sonDizi"
   ]
  },
  {
   "cell_type": "code",
   "execution_count": 77,
   "id": "a5115de7-624b-45fd-ac01-228d963f1500",
   "metadata": {},
   "outputs": [
    {
     "data": {
      "text/plain": [
       "array([  0,   1,   4,   9,  16,  25,  36,  49,  64,  81, 100, 121, 144,\n",
       "       169, 196, 225, 256, 289, 324, 361, 400, 441, 484])"
      ]
     },
     "execution_count": 77,
     "metadata": {},
     "output_type": "execute_result"
    }
   ],
   "source": [
    "sonDizi * sonDizi"
   ]
  },
  {
   "cell_type": "code",
   "execution_count": 78,
   "id": "09fea535-f2e4-47b7-a431-a2458df5fb21",
   "metadata": {},
   "outputs": [
    {
     "data": {
      "text/plain": [
       "array([0, 0, 0, 0, 0, 0, 0, 0, 0, 0, 0, 0, 0, 0, 0, 0, 0, 0, 0, 0, 0, 0,\n",
       "       0])"
      ]
     },
     "execution_count": 78,
     "metadata": {},
     "output_type": "execute_result"
    }
   ],
   "source": [
    "sonDizi - sonDizi"
   ]
  },
  {
   "cell_type": "code",
   "execution_count": 80,
   "id": "bec7befc-04b9-4d93-8ba3-aefcf737eeb1",
   "metadata": {},
   "outputs": [
    {
     "data": {
      "text/plain": [
       "array([0.        , 1.        , 1.41421356, 1.73205081, 2.        ,\n",
       "       2.23606798, 2.44948974, 2.64575131, 2.82842712, 3.        ,\n",
       "       3.16227766, 3.31662479, 3.46410162, 3.60555128, 3.74165739,\n",
       "       3.87298335, 4.        , 4.12310563, 4.24264069, 4.35889894,\n",
       "       4.47213595, 4.58257569, 4.69041576])"
      ]
     },
     "execution_count": 80,
     "metadata": {},
     "output_type": "execute_result"
    }
   ],
   "source": [
    "np.sqrt(sonDizi)"
   ]
  },
  {
   "cell_type": "code",
   "execution_count": 81,
   "id": "86160126-e3a1-4283-99e7-c8c5ddaea49a",
   "metadata": {},
   "outputs": [
    {
     "data": {
      "text/plain": [
       "22"
      ]
     },
     "execution_count": 81,
     "metadata": {},
     "output_type": "execute_result"
    }
   ],
   "source": [
    "np.max(sonDizi)"
   ]
  },
  {
   "cell_type": "code",
   "execution_count": 84,
   "id": "40f2fef5-155b-46c7-b974-ea72c0b80559",
   "metadata": {},
   "outputs": [
    {
     "data": {
      "text/plain": [
       "0"
      ]
     },
     "execution_count": 84,
     "metadata": {},
     "output_type": "execute_result"
    }
   ],
   "source": [
    "np.min(sonDizi)"
   ]
  },
  {
   "cell_type": "code",
   "execution_count": null,
   "id": "50548c6d-88f1-4bf1-90be-bcdc2846f3a1",
   "metadata": {},
   "outputs": [],
   "source": []
  }
 ],
 "metadata": {
  "kernelspec": {
   "display_name": "Python 3 (ipykernel)",
   "language": "python",
   "name": "python3"
  },
  "language_info": {
   "codemirror_mode": {
    "name": "ipython",
    "version": 3
   },
   "file_extension": ".py",
   "mimetype": "text/x-python",
   "name": "python",
   "nbconvert_exporter": "python",
   "pygments_lexer": "ipython3",
   "version": "3.12.7"
  }
 },
 "nbformat": 4,
 "nbformat_minor": 5
}
