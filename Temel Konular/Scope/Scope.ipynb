{
 "cells": [
  {
   "cell_type": "markdown",
   "id": "42d42b59-bd52-4856-b8f6-71631f812775",
   "metadata": {},
   "source": [
    "# Scope"
   ]
  },
  {
   "cell_type": "code",
   "execution_count": 1,
   "id": "9f46e767-bc31-4254-aea9-9dad8a8c1ca6",
   "metadata": {},
   "outputs": [],
   "source": [
    "numara = 20\n",
    "def carpma(rakam):\n",
    "    numara = 10\n",
    "    return numara * rakam "
   ]
  },
  {
   "cell_type": "code",
   "execution_count": 2,
   "id": "83e49e2b-1c7a-41fc-b969-1b99b3f449e7",
   "metadata": {},
   "outputs": [
    {
     "data": {
      "text/plain": [
       "100"
      ]
     },
     "execution_count": 2,
     "metadata": {},
     "output_type": "execute_result"
    }
   ],
   "source": [
    "carpma(10)"
   ]
  },
  {
   "cell_type": "code",
   "execution_count": 3,
   "id": "aaba7f00-f5ba-475e-bdbd-e502d34dc067",
   "metadata": {},
   "outputs": [
    {
     "name": "stdout",
     "output_type": "stream",
     "text": [
      "20\n"
     ]
    }
   ],
   "source": [
    "print(numara)"
   ]
  },
  {
   "cell_type": "markdown",
   "id": "0404331b-1c3a-41d8-a1b0-5a5a87a0f0df",
   "metadata": {},
   "source": [
    "# Local,Enclosing,Global"
   ]
  },
  {
   "cell_type": "code",
   "execution_count": 18,
   "id": "0d9f461f-62bb-4709-930b-6c05a4e56977",
   "metadata": {},
   "outputs": [],
   "source": [
    "benimAdim = \"Muhammed\"\n",
    "# Global: Fonksiyonların dışında tanımlanan değişkenlerdir ve tüm kod boyunca erişilebilirler.\n",
    "\n",
    "def Function():\n",
    "    benimAdim = \"EREN\"\n",
    "    # Enclosing: İç içe fonksiyonlarda, dıştaki fonksiyonun kapsamıdır. İç fonksiyonlar bu değişkenlere erişebilir.\n",
    "    \n",
    "    def icFunction():\n",
    "        benimAdim = \"Aydın\"\n",
    "        # Local: Fonksiyon içinde tanımlanan değişkenlerdir ve sadece o fonksiyon içinde geçerlidir.\n",
    "        print(benimAdim)\n",
    "    icFunction()"
   ]
  },
  {
   "cell_type": "code",
   "execution_count": 19,
   "id": "aa8c457e-dc96-44e3-9f6d-0651bf6f1073",
   "metadata": {},
   "outputs": [
    {
     "name": "stdout",
     "output_type": "stream",
     "text": [
      "Aydın\n"
     ]
    }
   ],
   "source": [
    "Function()"
   ]
  },
  {
   "cell_type": "code",
   "execution_count": 21,
   "id": "c40de2fd-e1ee-400a-a9cd-a70854f17c78",
   "metadata": {},
   "outputs": [
    {
     "name": "stdout",
     "output_type": "stream",
     "text": [
      "Muhammed\n"
     ]
    }
   ],
   "source": [
    "print(benimAdim)"
   ]
  },
  {
   "cell_type": "code",
   "execution_count": 22,
   "id": "ff11b892-f90a-4c7b-8cb8-ef6f7b489f9b",
   "metadata": {},
   "outputs": [],
   "source": [
    "y = 10\n",
    "def yeniFonksiyon(y):\n",
    "    print(y)\n",
    "    y = 5 \n",
    "    print(y)\n",
    "    return y "
   ]
  },
  {
   "cell_type": "code",
   "execution_count": 24,
   "id": "42e5e73a-6212-43d4-a1cd-8403f4729e74",
   "metadata": {},
   "outputs": [
    {
     "name": "stdout",
     "output_type": "stream",
     "text": [
      "3\n",
      "5\n"
     ]
    },
    {
     "data": {
      "text/plain": [
       "5"
      ]
     },
     "execution_count": 24,
     "metadata": {},
     "output_type": "execute_result"
    }
   ],
   "source": [
    "yeniFonksiyon(3)"
   ]
  },
  {
   "cell_type": "code",
   "execution_count": 25,
   "id": "6edcd1e9-f157-4339-9087-3486ca78c2f3",
   "metadata": {},
   "outputs": [
    {
     "data": {
      "text/plain": [
       "10"
      ]
     },
     "execution_count": 25,
     "metadata": {},
     "output_type": "execute_result"
    }
   ],
   "source": [
    "y "
   ]
  },
  {
   "cell_type": "code",
   "execution_count": 26,
   "id": "a243989f-2758-4791-be4b-749303017c63",
   "metadata": {},
   "outputs": [
    {
     "name": "stdout",
     "output_type": "stream",
     "text": [
      "155\n",
      "5\n"
     ]
    }
   ],
   "source": [
    "y = yeniFonksiyon(155)"
   ]
  },
  {
   "cell_type": "code",
   "execution_count": 27,
   "id": "b900ac48-b33c-4206-8f2d-a39a52a882c0",
   "metadata": {},
   "outputs": [
    {
     "data": {
      "text/plain": [
       "5"
      ]
     },
     "execution_count": 27,
     "metadata": {},
     "output_type": "execute_result"
    }
   ],
   "source": [
    "y "
   ]
  }
 ],
 "metadata": {
  "kernelspec": {
   "display_name": "Python 3 (ipykernel)",
   "language": "python",
   "name": "python3"
  },
  "language_info": {
   "codemirror_mode": {
    "name": "ipython",
    "version": 3
   },
   "file_extension": ".py",
   "mimetype": "text/x-python",
   "name": "python",
   "nbconvert_exporter": "python",
   "pygments_lexer": "ipython3",
   "version": "3.12.7"
  }
 },
 "nbformat": 4,
 "nbformat_minor": 5
}
