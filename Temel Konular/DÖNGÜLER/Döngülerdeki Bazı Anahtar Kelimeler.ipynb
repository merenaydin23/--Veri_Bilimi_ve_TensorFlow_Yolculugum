{
 "cells": [
  {
   "cell_type": "markdown",
   "id": "1ba06a2f-ed7a-4828-afee-f9c7f4017aef",
   "metadata": {},
   "source": [
    "# Döngülerdeki Bazı Anahtar Kelimeler"
   ]
  },
  {
   "cell_type": "code",
   "execution_count": 1,
   "id": "a116b9bf-64e1-462c-8789-9918edeffdb5",
   "metadata": {},
   "outputs": [],
   "source": [
    "benimListem = [5,10,15,25,30]"
   ]
  },
  {
   "cell_type": "code",
   "execution_count": 10,
   "id": "ee19e454-ac2d-4397-a2c4-3c804627f92f",
   "metadata": {},
   "outputs": [
    {
     "name": "stdout",
     "output_type": "stream",
     "text": [
      "1.25\n",
      "2.5\n",
      "3.75\n",
      "1.875\n",
      "5.0\n"
     ]
    }
   ],
   "source": [
    "for numaram in benimListem :\n",
    "    print (numaram/8)"
   ]
  },
  {
   "cell_type": "code",
   "execution_count": 11,
   "id": "2655e4cc-1fc4-4161-be81-e9f4ac45c979",
   "metadata": {},
   "outputs": [
    {
     "name": "stdout",
     "output_type": "stream",
     "text": [
      "10\n",
      "20\n",
      "30\n"
     ]
    }
   ],
   "source": [
    "benimListem = [10, 20, 30, 15, 40]\n",
    "\n",
    "for numaram in benimListem:\n",
    "    if numaram == 15:\n",
    "        break\n",
    "    print(numaram)  \n",
    "# Break anahtar kelimesi , döngüyü durdurur"
   ]
  },
  {
   "cell_type": "code",
   "execution_count": 13,
   "id": "7b27f5d1-e5bc-4119-993e-f4238f0f4781",
   "metadata": {},
   "outputs": [
    {
     "name": "stdout",
     "output_type": "stream",
     "text": [
      "10\n",
      "20\n",
      "30\n",
      "40\n"
     ]
    }
   ],
   "source": [
    "for numaram in benimListem:\n",
    "    if numaram == 15:\n",
    "        continue  # 15 olduğunda altındaki kodu atlar ve döngüye devam eder\n",
    "    print(numaram)"
   ]
  },
  {
   "cell_type": "code",
   "execution_count": null,
   "id": "f319f77b-862c-4486-a289-ffee01052ff1",
   "metadata": {},
   "outputs": [],
   "source": [
    "benimListem = [10, 20, 30, 40]\n",
    "for numaram in benimListem:\n",
    "    pass  # Şu anda bu döngüde herhangi bir işlem yapmıyoruz, ama ileride buraya kod ekleyeceğiz"
   ]
  }
 ],
 "metadata": {
  "kernelspec": {
   "display_name": "Python 3 (ipykernel)",
   "language": "python",
   "name": "python3"
  },
  "language_info": {
   "codemirror_mode": {
    "name": "ipython",
    "version": 3
   },
   "file_extension": ".py",
   "mimetype": "text/x-python",
   "name": "python",
   "nbconvert_exporter": "python",
   "pygments_lexer": "ipython3",
   "version": "3.12.7"
  }
 },
 "nbformat": 4,
 "nbformat_minor": 5
}
