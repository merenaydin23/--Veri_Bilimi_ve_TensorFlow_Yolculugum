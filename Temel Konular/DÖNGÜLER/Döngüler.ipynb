{
 "cells": [
  {
   "cell_type": "markdown",
   "id": "4a5e326f-ce24-46fd-a43c-9d8ddc5e4fdc",
   "metadata": {},
   "source": [
    "# Döngüler "
   ]
  },
  {
   "cell_type": "code",
   "execution_count": 1,
   "id": "3bcead80-b116-41bf-b216-5fbb3a0b8125",
   "metadata": {},
   "outputs": [],
   "source": [
    "benimListem = [10,20,30,40,50]"
   ]
  },
  {
   "cell_type": "code",
   "execution_count": 2,
   "id": "c815658c-b030-4be7-a445-94920e3fe290",
   "metadata": {},
   "outputs": [
    {
     "data": {
      "text/plain": [
       "16.666666666666668"
      ]
     },
     "execution_count": 2,
     "metadata": {},
     "output_type": "execute_result"
    }
   ],
   "source": [
    "benimListem[0]*5/3"
   ]
  },
  {
   "cell_type": "code",
   "execution_count": 3,
   "id": "0701edef-8d9c-43dd-b459-3352938d052f",
   "metadata": {},
   "outputs": [
    {
     "data": {
      "text/plain": [
       "33.333333333333336"
      ]
     },
     "execution_count": 3,
     "metadata": {},
     "output_type": "execute_result"
    }
   ],
   "source": [
    "benimListem[1]*5/3"
   ]
  },
  {
   "cell_type": "code",
   "execution_count": 6,
   "id": "3f4465cd-9c0c-47b5-be2b-b33b1342d326",
   "metadata": {},
   "outputs": [
    {
     "name": "stdout",
     "output_type": "stream",
     "text": [
      "Döngü Başladı\n",
      "16.666666666666668\n",
      "33.333333333333336\n",
      "50.0\n",
      "66.66666666666667\n",
      "83.33333333333333\n",
      "Döngü Bitti\n"
     ]
    }
   ],
   "source": [
    "print(\"Döngü Başladı\")\n",
    "for numara in benimListem:\n",
    "    print(numara*5/3)\n",
    "print(\"Döngü Bitti\")"
   ]
  },
  {
   "cell_type": "code",
   "execution_count": 7,
   "id": "39f31cfe-ab56-4777-b2ea-276b035e2b7e",
   "metadata": {},
   "outputs": [
    {
     "name": "stdout",
     "output_type": "stream",
     "text": [
      "16.666666666666668\n",
      "33.333333333333336\n",
      "50.0\n",
      "66.66666666666667\n",
      "83.33333333333333\n"
     ]
    }
   ],
   "source": [
    "for num in benimListem :\n",
    "    yeniNumara = num*5/3\n",
    "    print(yeniNumara)"
   ]
  },
  {
   "cell_type": "code",
   "execution_count": 14,
   "id": "305792cd-17bd-49bc-82dc-0722d21ae0ee",
   "metadata": {},
   "outputs": [
    {
     "name": "stdout",
     "output_type": "stream",
     "text": [
      "0\n",
      "2\n",
      "4\n",
      "6\n"
     ]
    }
   ],
   "source": [
    "yeniListe = [0,1,2,3,4,5,6]\n",
    "for rakam in yeniListe:\n",
    "    if rakam % 2 == 0:\n",
    "        print(rakam)   "
   ]
  },
  {
   "cell_type": "code",
   "execution_count": 15,
   "id": "09ac81c0-2bd7-4a96-ba01-a9afb8488e61",
   "metadata": {},
   "outputs": [
    {
     "name": "stdout",
     "output_type": "stream",
     "text": [
      "E\n",
      "r\n",
      "e\n",
      "n\n",
      " \n",
      "A\n",
      "y\n",
      "d\n",
      "ı\n",
      "n\n"
     ]
    }
   ],
   "source": [
    "yeniString = \"Eren Aydın\"\n",
    "for harf in yeniString:\n",
    "    print(harf)"
   ]
  },
  {
   "cell_type": "code",
   "execution_count": 16,
   "id": "77a44f68-903a-4385-9059-5e73344aff2f",
   "metadata": {},
   "outputs": [],
   "source": [
    "benimTuple = (1,2,3,4,5,)"
   ]
  },
  {
   "cell_type": "code",
   "execution_count": 17,
   "id": "1a87488e-9865-49b0-8125-ad27d6e6464b",
   "metadata": {},
   "outputs": [
    {
     "name": "stdout",
     "output_type": "stream",
     "text": [
      "1\n",
      "2\n",
      "3\n",
      "4\n",
      "5\n"
     ]
    }
   ],
   "source": [
    "for eleman in benimTuple:\n",
    "    print(eleman)"
   ]
  },
  {
   "cell_type": "code",
   "execution_count": 24,
   "id": "a9418b81-e9ac-4b26-b786-e214c47ceefb",
   "metadata": {},
   "outputs": [],
   "source": [
    "koordinatListesi =[(10.2,15.2),(32.4,16.4)]"
   ]
  },
  {
   "cell_type": "code",
   "execution_count": 25,
   "id": "cdf6b3ea-f346-4acd-9dfb-3ae01a8ae43f",
   "metadata": {},
   "outputs": [
    {
     "data": {
      "text/plain": [
       "tuple"
      ]
     },
     "execution_count": 25,
     "metadata": {},
     "output_type": "execute_result"
    }
   ],
   "source": [
    "type(koordinatListesi[0])"
   ]
  },
  {
   "cell_type": "code",
   "execution_count": 26,
   "id": "c1aefd90-7537-4afb-bc03-bdf6465c9d76",
   "metadata": {},
   "outputs": [
    {
     "name": "stdout",
     "output_type": "stream",
     "text": [
      "(10.2, 15.2)\n",
      "(32.4, 16.4)\n"
     ]
    }
   ],
   "source": [
    "for eleman in koordinatListesi:\n",
    "    print(eleman)"
   ]
  },
  {
   "cell_type": "code",
   "execution_count": 27,
   "id": "4a07445f-11b4-4bda-8d84-2fb4656a812f",
   "metadata": {},
   "outputs": [
    {
     "name": "stdout",
     "output_type": "stream",
     "text": [
      "10.2\n",
      "32.4\n"
     ]
    }
   ],
   "source": [
    "for eleman in koordinatListesi:\n",
    "    print(eleman[0])"
   ]
  },
  {
   "cell_type": "code",
   "execution_count": 28,
   "id": "6a976767-026b-433c-81b4-8debddf6d726",
   "metadata": {},
   "outputs": [
    {
     "name": "stdout",
     "output_type": "stream",
     "text": [
      "15.2\n",
      "16.4\n"
     ]
    }
   ],
   "source": [
    "for(x,y) in koordinatListesi:\n",
    "    print(y)"
   ]
  },
  {
   "cell_type": "code",
   "execution_count": 30,
   "id": "fe4b30f1-21b7-41ec-bba6-f48c4b4de6b1",
   "metadata": {},
   "outputs": [],
   "source": [
    "benimListem = [(1,2,3),(4,5,6),(7,8,9)]"
   ]
  },
  {
   "cell_type": "code",
   "execution_count": 31,
   "id": "a2549412-9a41-48d8-8af1-cc5c6c385609",
   "metadata": {},
   "outputs": [
    {
     "name": "stdout",
     "output_type": "stream",
     "text": [
      "3\n",
      "6\n",
      "9\n"
     ]
    }
   ],
   "source": [
    "for (x,y,z) in benimListem:\n",
    "    print(z)"
   ]
  },
  {
   "cell_type": "code",
   "execution_count": 32,
   "id": "0560efd9-4af6-4bea-b6fc-5738e01a412c",
   "metadata": {},
   "outputs": [],
   "source": [
    "benimSozluk = {\"muz\":100,\"portakal\":200,\"ananas\":250}"
   ]
  },
  {
   "cell_type": "code",
   "execution_count": 35,
   "id": "6a6d6614-6e6b-4a9d-996d-9183b7dd42bc",
   "metadata": {},
   "outputs": [
    {
     "data": {
      "text/plain": [
       "dict_items([('muz', 100), ('portakal', 200), ('ananas', 250)])"
      ]
     },
     "execution_count": 35,
     "metadata": {},
     "output_type": "execute_result"
    }
   ],
   "source": [
    "benimSozluk.items()"
   ]
  },
  {
   "cell_type": "code",
   "execution_count": 34,
   "id": "73360794-c847-460d-b767-ff0171fa5818",
   "metadata": {},
   "outputs": [
    {
     "name": "stdout",
     "output_type": "stream",
     "text": [
      "muz\n",
      "portakal\n",
      "ananas\n"
     ]
    }
   ],
   "source": [
    "for(anahtar,deger) in benimSozluk.items():\n",
    "    print(anahtar)"
   ]
  },
  {
   "cell_type": "code",
   "execution_count": null,
   "id": "72d94f37-776e-469a-aeda-e681da0c0282",
   "metadata": {},
   "outputs": [],
   "source": []
  }
 ],
 "metadata": {
  "kernelspec": {
   "display_name": "Python 3 (ipykernel)",
   "language": "python",
   "name": "python3"
  },
  "language_info": {
   "codemirror_mode": {
    "name": "ipython",
    "version": 3
   },
   "file_extension": ".py",
   "mimetype": "text/x-python",
   "name": "python",
   "nbconvert_exporter": "python",
   "pygments_lexer": "ipython3",
   "version": "3.12.7"
  }
 },
 "nbformat": 4,
 "nbformat_minor": 5
}
