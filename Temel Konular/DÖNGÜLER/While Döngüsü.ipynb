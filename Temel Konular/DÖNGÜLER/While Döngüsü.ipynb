{
 "cells": [
  {
   "cell_type": "code",
   "execution_count": 9,
   "id": "a6310c80-e7ee-4278-b796-c430979fa5bd",
   "metadata": {},
   "outputs": [
    {
     "name": "stdout",
     "output_type": "stream",
     "text": [
      "0\n",
      "1\n",
      "2\n",
      "3\n",
      "4\n",
      "5\n",
      "6\n",
      "7\n",
      "8\n",
      "9\n",
      "10\n"
     ]
    }
   ],
   "source": [
    "x = 0\n",
    "while x <= 10 :\n",
    "    print(x)\n",
    "    x = x+1"
   ]
  },
  {
   "cell_type": "code",
   "execution_count": 10,
   "id": "c981bd62-2772-47d4-937a-553f17261c37",
   "metadata": {},
   "outputs": [],
   "source": [
    "benimListem = [1,2,3,4,5]"
   ]
  },
  {
   "cell_type": "code",
   "execution_count": 11,
   "id": "8a782a7b-9e06-4f4b-be64-38782e3c8826",
   "metadata": {},
   "outputs": [
    {
     "data": {
      "text/plain": [
       "5"
      ]
     },
     "execution_count": 11,
     "metadata": {},
     "output_type": "execute_result"
    }
   ],
   "source": [
    "benimListem.pop()"
   ]
  },
  {
   "cell_type": "code",
   "execution_count": 12,
   "id": "3db6beb8-c3d0-4811-89ce-0501659b3029",
   "metadata": {},
   "outputs": [
    {
     "data": {
      "text/plain": [
       "[1, 2, 3, 4]"
      ]
     },
     "execution_count": 12,
     "metadata": {},
     "output_type": "execute_result"
    }
   ],
   "source": [
    "benimListem"
   ]
  },
  {
   "cell_type": "code",
   "execution_count": 13,
   "id": "1d34f5ab-66d8-4d26-bc10-1ae37368c754",
   "metadata": {},
   "outputs": [],
   "source": [
    "benimListem.append(5)"
   ]
  },
  {
   "cell_type": "code",
   "execution_count": 14,
   "id": "e7ae4b5f-efbb-4b26-9491-8628a0bfae09",
   "metadata": {},
   "outputs": [
    {
     "data": {
      "text/plain": [
       "[1, 2, 3, 4, 5]"
      ]
     },
     "execution_count": 14,
     "metadata": {},
     "output_type": "execute_result"
    }
   ],
   "source": [
    "benimListem"
   ]
  },
  {
   "cell_type": "code",
   "execution_count": 15,
   "id": "3d5491ce-7bfb-4d17-b04f-e69c6b18a77d",
   "metadata": {},
   "outputs": [
    {
     "name": "stdout",
     "output_type": "stream",
     "text": [
      "3 listenin içinde\n",
      "3 listenin içinde\n",
      "3 listenin içinde\n"
     ]
    }
   ],
   "source": [
    "while 3 in benimListem :\n",
    "    print(\"3 listenin içinde\")\n",
    "    benimListem.pop()"
   ]
  },
  {
   "cell_type": "code",
   "execution_count": 16,
   "id": "ea784064-1cf1-48b5-b143-3632b213262b",
   "metadata": {},
   "outputs": [],
   "source": [
    "numara = 0"
   ]
  },
  {
   "cell_type": "code",
   "execution_count": 18,
   "id": "3fddb28c-111f-4f62-b542-4d909d54580f",
   "metadata": {},
   "outputs": [
    {
     "name": "stdout",
     "output_type": "stream",
     "text": [
      "0\n",
      "1\n",
      "2\n",
      "3\n"
     ]
    }
   ],
   "source": [
    "while numara < 5 :\n",
    "    if numara == 4 :\n",
    "        break\n",
    "    print(numara)\n",
    "    numara = numara + 1 "
   ]
  },
  {
   "cell_type": "code",
   "execution_count": 29,
   "id": "61a4c7ba-0046-4d66-8e01-e7dcf6a7b823",
   "metadata": {},
   "outputs": [],
   "source": [
    "yeniDeğisken = 0 "
   ]
  },
  {
   "cell_type": "code",
   "execution_count": 30,
   "id": "858388d4-7e44-4bde-854c-9d1e5221d06c",
   "metadata": {},
   "outputs": [
    {
     "name": "stdout",
     "output_type": "stream",
     "text": [
      "Yeni Değisken'nin güncel değeri : 0\n",
      "Yeni Değisken'nin güncel değeri : 1\n",
      "Yeni Değisken'nin güncel değeri : 2\n",
      "Yeni Değisken'nin güncel değeri : 3\n",
      "Yeni Değisken'nin güncel değeri : 4\n"
     ]
    }
   ],
   "source": [
    "while yeniDeğisken < 5:\n",
    "    print(\"Yeni Değisken'nin güncel değeri : \"+str(yeniDeğisken))\n",
    "    yeniDeğisken = yeniDeğisken+1"
   ]
  }
 ],
 "metadata": {
  "kernelspec": {
   "display_name": "Python 3 (ipykernel)",
   "language": "python",
   "name": "python3"
  },
  "language_info": {
   "codemirror_mode": {
    "name": "ipython",
    "version": 3
   },
   "file_extension": ".py",
   "mimetype": "text/x-python",
   "name": "python",
   "nbconvert_exporter": "python",
   "pygments_lexer": "ipython3",
   "version": "3.12.7"
  }
 },
 "nbformat": 4,
 "nbformat_minor": 5
}
