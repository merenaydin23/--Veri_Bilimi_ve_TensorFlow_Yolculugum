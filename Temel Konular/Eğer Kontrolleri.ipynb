{
 "cells": [
  {
   "cell_type": "markdown",
   "id": "926a371b-6ed6-4bbb-9706-a4de41d8533e",
   "metadata": {},
   "source": [
    "# Eğer Kontrolleri"
   ]
  },
  {
   "cell_type": "code",
   "execution_count": 40,
   "id": "1fd9090c-011a-4340-97c9-15f382e177a1",
   "metadata": {},
   "outputs": [
    {
     "name": "stdout",
     "output_type": "stream",
     "text": [
      "Eren Aydın\n"
     ]
    }
   ],
   "source": [
    "if 3 > 1 : \n",
    "    print(\"Eren Aydın\")"
   ]
  },
  {
   "cell_type": "code",
   "execution_count": 41,
   "id": "8063534d-d43d-4d6c-a9df-7660afeeee2a",
   "metadata": {},
   "outputs": [
    {
     "name": "stdout",
     "output_type": "stream",
     "text": [
      "İf koşulunun dışına çıktık\n"
     ]
    }
   ],
   "source": [
    "if -30 > 4 : \n",
    "    print(\"Eren Aydın\")\n",
    "print(\"İf koşulunun dışına çıktık\")"
   ]
  },
  {
   "cell_type": "code",
   "execution_count": 42,
   "id": "49b12d90-1200-421c-b7a8-0a0b87bca320",
   "metadata": {},
   "outputs": [],
   "source": [
    "x = 4\n",
    "y = 4 "
   ]
  },
  {
   "cell_type": "code",
   "execution_count": 43,
   "id": "0fb9f60c-09f7-453e-849c-a53984db3a7a",
   "metadata": {},
   "outputs": [
    {
     "name": "stdout",
     "output_type": "stream",
     "text": [
      "İkiside birbirne eşitmiş\n",
      "Kontrol yapısından çıkıldı\n"
     ]
    }
   ],
   "source": [
    "if x > y : \n",
    "    print(\"x y'den daha büyükmüş\")\n",
    "elif x < y : \n",
    "     print(\"y x'den daha büyükmüş\")\n",
    "else : \n",
    "     print(\"İkiside birbirne eşitmiş\")\n",
    "print(\"Kontrol yapısından çıkıldı\")\n"
   ]
  },
  {
   "cell_type": "code",
   "execution_count": 44,
   "id": "3c87c721-1b7f-43ca-91d9-c6a2e8ecf956",
   "metadata": {},
   "outputs": [],
   "source": [
    "a = 10\n",
    "b = 20\n",
    "c = 30"
   ]
  },
  {
   "cell_type": "code",
   "execution_count": 45,
   "id": "3bc4775e-c82c-4b1a-8a80-b868a1911515",
   "metadata": {},
   "outputs": [
    {
     "name": "stdout",
     "output_type": "stream",
     "text": [
      "a b'den küçük ve b c' den küçüktür\n"
     ]
    }
   ],
   "source": [
    "if a > b and b > c :\n",
    "    print(\"a b'den büyük ve b c' den büyüktür\")\n",
    "elif a < b and b < c :\n",
    "    print(\"a b'den küçük ve b c' den küçüktür\")\n",
    "else : \n",
    "    print (\"Bu koşullar tutmadı\")\n"
   ]
  },
  {
   "cell_type": "code",
   "execution_count": 46,
   "id": "058362fe-26e1-4fbf-8f2a-012cbb3f72a5",
   "metadata": {},
   "outputs": [],
   "source": [
    "a = 10\n",
    "b = 10\n",
    "c = 10"
   ]
  },
  {
   "cell_type": "code",
   "execution_count": 47,
   "id": "15b102f1-240d-48eb-8898-a92f0af0dbb2",
   "metadata": {},
   "outputs": [
    {
     "name": "stdout",
     "output_type": "stream",
     "text": [
      "Bu koşullar tutmadı\n"
     ]
    }
   ],
   "source": [
    "if a > b and b > c :\n",
    "    print(\"a b'den büyük ve b c' den büyüktür\")\n",
    "elif a < b and b < c :\n",
    "    print(\"a b'den küçük ve b c' den küçüktür\")\n",
    "else : \n",
    "    print (\"Bu koşullar tutmadı\")\n"
   ]
  },
  {
   "cell_type": "code",
   "execution_count": 51,
   "id": "c9963a6d-0577-4ff0-aac3-88af69f50719",
   "metadata": {},
   "outputs": [],
   "source": [
    "karakterCanliMi = True"
   ]
  },
  {
   "cell_type": "code",
   "execution_count": 52,
   "id": "df0b6366-7272-4a15-bed6-29d4c45edbef",
   "metadata": {},
   "outputs": [
    {
     "name": "stdout",
     "output_type": "stream",
     "text": [
      "Oyun karakteriniz yaşıyor\n"
     ]
    }
   ],
   "source": [
    "if karakterCanliMi: \n",
    "    print(\"Oyun karakteriniz yaşıyor\")\n",
    "else: \n",
    "    print(\"Oyun karakteriniz yaşamıyor\")"
   ]
  },
  {
   "cell_type": "code",
   "execution_count": 64,
   "id": "825c199f-17c8-48fa-a455-832c26883d89",
   "metadata": {},
   "outputs": [],
   "source": [
    "benimString = \"Eren Aydın\""
   ]
  },
  {
   "cell_type": "code",
   "execution_count": 65,
   "id": "90f54915-0023-4a36-91e5-9b186cc7e7e4",
   "metadata": {},
   "outputs": [
    {
     "name": "stdout",
     "output_type": "stream",
     "text": [
      "Eşit değilmiş\n"
     ]
    }
   ],
   "source": [
    "if benimString == \"eren aydın\" :\n",
    "    print(\"Eşitmiş\")\n",
    "else : \n",
    "    print(\"Eşit değilmiş\")\n",
    "   \n",
    "# Stringlerde kontrol yapılarında birebir eşit olması lazım değişkenin"
   ]
  },
  {
   "cell_type": "code",
   "execution_count": 66,
   "id": "7a707081-158c-4943-96ed-40601d67a49e",
   "metadata": {},
   "outputs": [
    {
     "name": "stdout",
     "output_type": "stream",
     "text": [
      "Varmış\n"
     ]
    }
   ],
   "source": [
    "if \"Aydın\" in benimString : \n",
    "    print(\"Varmış\")\n",
    "else : \n",
    "    print(\"Yokmuş\")"
   ]
  },
  {
   "cell_type": "code",
   "execution_count": 69,
   "id": "adf3bcde-2091-4d88-98f2-6b8eac1897b6",
   "metadata": {},
   "outputs": [
    {
     "name": "stdout",
     "output_type": "stream",
     "text": [
      "Varmış\n"
     ]
    }
   ],
   "source": [
    "if \"dın\" in benimString: \n",
    "    print(\"Varmış\")\n",
    "else : \n",
    "    print(\"Yokmuş\")"
   ]
  },
  {
   "cell_type": "code",
   "execution_count": 78,
   "id": "f4105305-bf76-4b44-8048-3e4427b23f4c",
   "metadata": {},
   "outputs": [],
   "source": [
    "benimListem = [10,20,320,320,242,47227,5]"
   ]
  },
  {
   "cell_type": "code",
   "execution_count": 79,
   "id": "da728b8f-62fb-41e9-8f35-e74d0234df22",
   "metadata": {},
   "outputs": [],
   "source": [
    "if 60 in benimListem:\n",
    "    print (\"60 sayısı bu listede vardır\")"
   ]
  }
 ],
 "metadata": {
  "kernelspec": {
   "display_name": "Python 3 (ipykernel)",
   "language": "python",
   "name": "python3"
  },
  "language_info": {
   "codemirror_mode": {
    "name": "ipython",
    "version": 3
   },
   "file_extension": ".py",
   "mimetype": "text/x-python",
   "name": "python",
   "nbconvert_exporter": "python",
   "pygments_lexer": "ipython3",
   "version": "3.12.7"
  }
 },
 "nbformat": 4,
 "nbformat_minor": 5
}
