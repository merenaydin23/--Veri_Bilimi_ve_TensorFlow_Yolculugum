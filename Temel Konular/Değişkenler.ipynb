{
 "cells": [
  {
   "cell_type": "markdown",
   "id": "23240a79-544b-42e7-9f4d-b555c920b925",
   "metadata": {},
   "source": [
    "## Variables ( Değişkenler )"
   ]
  },
  {
   "cell_type": "code",
   "execution_count": 3,
   "id": "44adf8d4-373f-4678-82be-0188a380b777",
   "metadata": {},
   "outputs": [],
   "source": [
    "x  = 5"
   ]
  },
  {
   "cell_type": "code",
   "execution_count": 4,
   "id": "1ea9b0f7-88ad-4d13-9b2f-58b9aa6ac2e2",
   "metadata": {},
   "outputs": [],
   "source": [
    "y = 4 "
   ]
  },
  {
   "cell_type": "code",
   "execution_count": 5,
   "id": "e3d7c0f8-9f4b-4128-9a7c-cb87bfa4eebb",
   "metadata": {},
   "outputs": [
    {
     "data": {
      "text/plain": [
       "20"
      ]
     },
     "execution_count": 5,
     "metadata": {},
     "output_type": "execute_result"
    }
   ],
   "source": [
    "x*y"
   ]
  },
  {
   "cell_type": "code",
   "execution_count": 6,
   "id": "bc0d69f8-127b-481b-a254-762285b5c0f5",
   "metadata": {},
   "outputs": [
    {
     "data": {
      "text/plain": [
       "5"
      ]
     },
     "execution_count": 6,
     "metadata": {},
     "output_type": "execute_result"
    }
   ],
   "source": [
    "x"
   ]
  },
  {
   "cell_type": "code",
   "execution_count": 7,
   "id": "2577543e-160b-4c62-a6ea-01e0bf75340b",
   "metadata": {},
   "outputs": [],
   "source": [
    "y = 7 "
   ]
  },
  {
   "cell_type": "code",
   "execution_count": 8,
   "id": "59cb9d3c-40c0-4681-829b-782df7df1194",
   "metadata": {},
   "outputs": [
    {
     "data": {
      "text/plain": [
       "35"
      ]
     },
     "execution_count": 8,
     "metadata": {},
     "output_type": "execute_result"
    }
   ],
   "source": [
    "x * y "
   ]
  },
  {
   "cell_type": "markdown",
   "id": "599fb652-40e3-4bb9-ab15-916378777473",
   "metadata": {},
   "source": [
    "## İnteger & Float"
   ]
  },
  {
   "cell_type": "code",
   "execution_count": 9,
   "id": "2d656574-1277-4e53-9b8a-278b78e6cb42",
   "metadata": {},
   "outputs": [],
   "source": [
    "benimDegiskenim = 10\n",
    "benimDigerDegiskenim = 20"
   ]
  },
  {
   "cell_type": "code",
   "execution_count": 10,
   "id": "11aa4542-3d0b-42f7-9292-aadcc83240bb",
   "metadata": {},
   "outputs": [
    {
     "data": {
      "text/plain": [
       "30"
      ]
     },
     "execution_count": 10,
     "metadata": {},
     "output_type": "execute_result"
    }
   ],
   "source": [
    "benimDegiskenim + benimDigerDegiskenim"
   ]
  },
  {
   "cell_type": "code",
   "execution_count": 11,
   "id": "58676155-79ff-4845-9a44-901ba903f4ca",
   "metadata": {},
   "outputs": [
    {
     "data": {
      "text/plain": [
       "int"
      ]
     },
     "execution_count": 11,
     "metadata": {},
     "output_type": "execute_result"
    }
   ],
   "source": [
    "type(benimDegiskenim)"
   ]
  },
  {
   "cell_type": "code",
   "execution_count": 12,
   "id": "e03b512e-2d4b-48cb-a2a8-982a780ef450",
   "metadata": {},
   "outputs": [],
   "source": [
    "sonuc = benimDigerDegiskenim / benimDegiskenim "
   ]
  },
  {
   "cell_type": "code",
   "execution_count": 13,
   "id": "9bdfb437-7da3-4864-8dbc-0d35cb396535",
   "metadata": {},
   "outputs": [
    {
     "data": {
      "text/plain": [
       "float"
      ]
     },
     "execution_count": 13,
     "metadata": {},
     "output_type": "execute_result"
    }
   ],
   "source": [
    "type(sonuc)"
   ]
  },
  {
   "cell_type": "code",
   "execution_count": 14,
   "id": "744e65d4-1c8b-4bc2-85f8-c9108318675a",
   "metadata": {},
   "outputs": [],
   "source": [
    "a = 3 \n",
    "b = 2"
   ]
  },
  {
   "cell_type": "code",
   "execution_count": 15,
   "id": "e885f387-95ef-4b41-9aad-7f80a3aa67e8",
   "metadata": {},
   "outputs": [
    {
     "data": {
      "text/plain": [
       "1.5"
      ]
     },
     "execution_count": 15,
     "metadata": {},
     "output_type": "execute_result"
    }
   ],
   "source": [
    "a / b "
   ]
  },
  {
   "cell_type": "code",
   "execution_count": 16,
   "id": "5112291a-dfe7-4bf3-85a2-e59605a82259",
   "metadata": {},
   "outputs": [
    {
     "data": {
      "text/plain": [
       "float"
      ]
     },
     "execution_count": 16,
     "metadata": {},
     "output_type": "execute_result"
    }
   ],
   "source": [
    "pi = 3.14\n",
    "type(pi)"
   ]
  },
  {
   "cell_type": "code",
   "execution_count": 17,
   "id": "d06a72c1-19c3-478f-9822-5a48f5e0a8c1",
   "metadata": {},
   "outputs": [
    {
     "data": {
      "text/plain": [
       "int"
      ]
     },
     "execution_count": 17,
     "metadata": {},
     "output_type": "execute_result"
    }
   ],
   "source": [
    "a = 4\n",
    "type(a)"
   ]
  },
  {
   "cell_type": "code",
   "execution_count": 18,
   "id": "b3afa66f-ab2f-4090-8998-cb4a49e71a66",
   "metadata": {},
   "outputs": [
    {
     "data": {
      "text/plain": [
       "1.2738853503184713"
      ]
     },
     "execution_count": 18,
     "metadata": {},
     "output_type": "execute_result"
    }
   ],
   "source": [
    "a/pi\n"
   ]
  },
  {
   "cell_type": "code",
   "execution_count": 19,
   "id": "bf4c8692-9939-423a-8a59-7cdb6763e578",
   "metadata": {},
   "outputs": [
    {
     "data": {
      "text/plain": [
       "7.140000000000001"
      ]
     },
     "execution_count": 19,
     "metadata": {},
     "output_type": "execute_result"
    }
   ],
   "source": [
    "a+pi"
   ]
  },
  {
   "cell_type": "code",
   "execution_count": 20,
   "id": "2811a84f-5ab6-4b40-beb3-cb7af0a58c10",
   "metadata": {},
   "outputs": [
    {
     "data": {
      "text/plain": [
       "0.8599999999999999"
      ]
     },
     "execution_count": 20,
     "metadata": {},
     "output_type": "execute_result"
    }
   ],
   "source": [
    "a-pi"
   ]
  },
  {
   "cell_type": "markdown",
   "id": "22a4a66c-876e-4661-8b5b-d592b09899ce",
   "metadata": {},
   "source": [
    "## Matematiksel İşlemler "
   ]
  },
  {
   "cell_type": "code",
   "execution_count": 21,
   "id": "7f32da26-4656-4143-bf3a-bcbb8ad9e760",
   "metadata": {},
   "outputs": [],
   "source": [
    "x = 5 \n",
    "y = 3"
   ]
  },
  {
   "cell_type": "code",
   "execution_count": 22,
   "id": "1fb74ff2-ec9f-45e3-82b0-fbe0de1b4d44",
   "metadata": {},
   "outputs": [
    {
     "data": {
      "text/plain": [
       "150"
      ]
     },
     "execution_count": 22,
     "metadata": {},
     "output_type": "execute_result"
    }
   ],
   "source": [
    "x*y*10"
   ]
  },
  {
   "cell_type": "code",
   "execution_count": 23,
   "id": "f848442b-bd2a-4125-b300-7bb23e880356",
   "metadata": {},
   "outputs": [
    {
     "data": {
      "text/plain": [
       "625"
      ]
     },
     "execution_count": 23,
     "metadata": {},
     "output_type": "execute_result"
    }
   ],
   "source": [
    "x*x*x*x"
   ]
  },
  {
   "cell_type": "markdown",
   "id": "c1fd2766-fa16-4919-b517-cad757180b98",
   "metadata": {},
   "source": [
    "Üş işlemi yapmak için '**' işareti kullanılır"
   ]
  },
  {
   "cell_type": "code",
   "execution_count": 24,
   "id": "02b856e2-1192-4ff2-aa22-aacf78b4c1cb",
   "metadata": {},
   "outputs": [
    {
     "data": {
      "text/plain": [
       "625"
      ]
     },
     "execution_count": 24,
     "metadata": {},
     "output_type": "execute_result"
    }
   ],
   "source": [
    "x**4"
   ]
  },
  {
   "cell_type": "markdown",
   "id": "4fb4cc1c-a11b-4b1c-923e-e606633f4ff1",
   "metadata": {},
   "source": [
    "Kalan bulmak için '%' işareti kullanlır\n"
   ]
  },
  {
   "cell_type": "code",
   "execution_count": 25,
   "id": "e66c3f6f-2e49-4e08-9f75-b6325f40f15d",
   "metadata": {},
   "outputs": [
    {
     "data": {
      "text/plain": [
       "0"
      ]
     },
     "execution_count": 25,
     "metadata": {},
     "output_type": "execute_result"
    }
   ],
   "source": [
    "10 %2"
   ]
  },
  {
   "cell_type": "code",
   "execution_count": 26,
   "id": "6aa1d71d-abc1-42dd-a0af-a91250279aef",
   "metadata": {},
   "outputs": [
    {
     "data": {
      "text/plain": [
       "3"
      ]
     },
     "execution_count": 26,
     "metadata": {},
     "output_type": "execute_result"
    }
   ],
   "source": [
    "10 % 7"
   ]
  },
  {
   "cell_type": "raw",
   "id": "bb2d64d3-c87e-4735-9e45-b64dc45af684",
   "metadata": {},
   "source": [
    "İnput fonksiyonu kullanarak kullanıcıdan girdi alırız"
   ]
  },
  {
   "cell_type": "code",
   "execution_count": 27,
   "id": "f6e04856-b799-41bb-8741-6a0b91cd3c67",
   "metadata": {},
   "outputs": [
    {
     "name": "stdin",
     "output_type": "stream",
     "text": [
      "Yaşınızı Giriniz :  123\n"
     ]
    }
   ],
   "source": [
    "kullaniciYasi = input(\"Yaşınızı Giriniz : \")"
   ]
  },
  {
   "cell_type": "code",
   "execution_count": 28,
   "id": "c21614f5-1650-4b30-9a13-dab7f8e40bd8",
   "metadata": {},
   "outputs": [
    {
     "data": {
      "text/plain": [
       "'123'"
      ]
     },
     "execution_count": 28,
     "metadata": {},
     "output_type": "execute_result"
    }
   ],
   "source": [
    "kullaniciYasi\n"
   ]
  },
  {
   "cell_type": "code",
   "execution_count": 29,
   "id": "d2c00954-5e1d-4724-94e7-0fde0c8609a2",
   "metadata": {},
   "outputs": [
    {
     "data": {
      "text/plain": [
       "str"
      ]
     },
     "execution_count": 29,
     "metadata": {},
     "output_type": "execute_result"
    }
   ],
   "source": [
    "type(kullaniciYasi)  # İnput fonksiyonu her zaman string döner"
   ]
  },
  {
   "cell_type": "code",
   "execution_count": 30,
   "id": "88a0a184-694d-44dd-a564-9247656b4a44",
   "metadata": {
    "jupyter": {
     "source_hidden": true
    }
   },
   "outputs": [
    {
     "data": {
      "text/plain": [
       "'123123123123123123'"
      ]
     },
     "execution_count": 30,
     "metadata": {},
     "output_type": "execute_result"
    }
   ],
   "source": [
    "kullaniciYasi*6   # kullaniciYasi string olduğundan dolayı * 6 işleminde yan yana 6 kez yazdırı"
   ]
  },
  {
   "cell_type": "markdown",
   "id": "d8ea6c03-d099-4531-ac9e-dd94f734f265",
   "metadata": {},
   "source": [
    "## String"
   ]
  },
  {
   "cell_type": "code",
   "execution_count": 31,
   "id": "d41209be-f547-4162-b246-2ed853b10efe",
   "metadata": {},
   "outputs": [
    {
     "data": {
      "text/plain": [
       "'Merhaba Dünya'"
      ]
     },
     "execution_count": 31,
     "metadata": {},
     "output_type": "execute_result"
    }
   ],
   "source": [
    "\"Merhaba Dünya\" "
   ]
  },
  {
   "cell_type": "code",
   "execution_count": 36,
   "id": "6be33334-dd6d-4411-b332-4167e6c6d9d5",
   "metadata": {},
   "outputs": [],
   "source": [
    "x = \"Merhaba Dünya\" "
   ]
  },
  {
   "cell_type": "code",
   "execution_count": 37,
   "id": "a7f87d6b-7d6d-42a2-a119-49232c531573",
   "metadata": {},
   "outputs": [
    {
     "data": {
      "text/plain": [
       "str"
      ]
     },
     "execution_count": 37,
     "metadata": {},
     "output_type": "execute_result"
    }
   ],
   "source": [
    "type(x)"
   ]
  },
  {
   "cell_type": "code",
   "execution_count": 39,
   "id": "acfcd083-7c00-4448-be46-3ca3e7373580",
   "metadata": {},
   "outputs": [
    {
     "name": "stdin",
     "output_type": "stream",
     "text": [
      "Yaşınızı giriniz ? 45\n"
     ]
    }
   ],
   "source": [
    "benimİnput = input(\"Yaşınızı giriniz ?\" ) "
   ]
  },
  {
   "cell_type": "code",
   "execution_count": 40,
   "id": "e6ea018f-2fdb-485e-8571-d1b10e2e844f",
   "metadata": {},
   "outputs": [
    {
     "data": {
      "text/plain": [
       "str"
      ]
     },
     "execution_count": 40,
     "metadata": {},
     "output_type": "execute_result"
    }
   ],
   "source": [
    "type(benimİnput)"
   ]
  },
  {
   "cell_type": "code",
   "execution_count": 43,
   "id": "a0c29d9b-7940-4fcd-963e-16e78e433518",
   "metadata": {},
   "outputs": [],
   "source": [
    "benimİnput = int(benimİnput)"
   ]
  },
  {
   "cell_type": "code",
   "execution_count": 45,
   "id": "d2d50b6e-80e8-4b85-be72-d5cd40b6f7dc",
   "metadata": {},
   "outputs": [
    {
     "data": {
      "text/plain": [
       "int"
      ]
     },
     "execution_count": 45,
     "metadata": {},
     "output_type": "execute_result"
    }
   ],
   "source": [
    "type(benimİnput)"
   ]
  },
  {
   "cell_type": "code",
   "execution_count": 46,
   "id": "93db22df-fe78-4540-9277-421bfa65bab1",
   "metadata": {},
   "outputs": [],
   "source": [
    "k = \"Samancıoğlu\""
   ]
  },
  {
   "cell_type": "code",
   "execution_count": 47,
   "id": "818e9a0c-7c4c-4856-94b2-b2365c4e4e18",
   "metadata": {},
   "outputs": [
    {
     "data": {
      "text/plain": [
       "11"
      ]
     },
     "execution_count": 47,
     "metadata": {},
     "output_type": "execute_result"
    }
   ],
   "source": [
    "len(k)  # String tipindeki değişkenin uzunluğumu len fonksiyonu verir"
   ]
  },
  {
   "cell_type": "code",
   "execution_count": 48,
   "id": "9f202141-a59c-4a31-8c3a-7606320bb3f7",
   "metadata": {},
   "outputs": [],
   "source": [
    "isimStringi = \"Eren Aydın\""
   ]
  },
  {
   "cell_type": "code",
   "execution_count": 49,
   "id": "02df3edd-9820-44e9-9e91-688f31dbfdfc",
   "metadata": {},
   "outputs": [
    {
     "data": {
      "text/plain": [
       "'Eren Aydın'"
      ]
     },
     "execution_count": 49,
     "metadata": {},
     "output_type": "execute_result"
    }
   ],
   "source": [
    "isimStringi"
   ]
  },
  {
   "cell_type": "markdown",
   "id": "0c20f0a9-67f4-43e3-ac2e-74daa7a53606",
   "metadata": {},
   "source": [
    "## Index\n"
   ]
  },
  {
   "cell_type": "code",
   "execution_count": 50,
   "id": "7c67af5d-a1ca-4cbf-802c-b7732d7cc519",
   "metadata": {},
   "outputs": [
    {
     "data": {
      "text/plain": [
       "'E'"
      ]
     },
     "execution_count": 50,
     "metadata": {},
     "output_type": "execute_result"
    }
   ],
   "source": [
    "isimStringi[0]"
   ]
  },
  {
   "cell_type": "code",
   "execution_count": 51,
   "id": "195e8543-9f0d-482e-9cd6-059166bdb8e3",
   "metadata": {},
   "outputs": [
    {
     "data": {
      "text/plain": [
       "'d'"
      ]
     },
     "execution_count": 51,
     "metadata": {},
     "output_type": "execute_result"
    }
   ],
   "source": [
    "isimStringi[7]"
   ]
  },
  {
   "cell_type": "code",
   "execution_count": 53,
   "id": "24dbed1d-3b97-4e14-aef9-0daee96f15fa",
   "metadata": {},
   "outputs": [
    {
     "data": {
      "text/plain": [
       "'n'"
      ]
     },
     "execution_count": 53,
     "metadata": {},
     "output_type": "execute_result"
    }
   ],
   "source": [
    "isimStringi[(len(isimStringi)-1)]"
   ]
  },
  {
   "cell_type": "code",
   "execution_count": 54,
   "id": "6c1847c2-ef60-43f2-92e4-6bbda48cca35",
   "metadata": {},
   "outputs": [
    {
     "data": {
      "text/plain": [
       "'n'"
      ]
     },
     "execution_count": 54,
     "metadata": {},
     "output_type": "execute_result"
    }
   ],
   "source": [
    "isimStringi[(-1)]   # -1 indexli eleman stringin son elemanıdır"
   ]
  },
  {
   "cell_type": "code",
   "execution_count": 56,
   "id": "0d719d23-67fc-4875-a7a8-4854ea3bab68",
   "metadata": {},
   "outputs": [],
   "source": [
    "yeniString = \"0123456789\""
   ]
  },
  {
   "cell_type": "code",
   "execution_count": 57,
   "id": "b99d2315-e621-42ff-a511-221b2336aaf5",
   "metadata": {},
   "outputs": [
    {
     "data": {
      "text/plain": [
       "'23456789'"
      ]
     },
     "execution_count": 57,
     "metadata": {},
     "output_type": "execute_result"
    }
   ],
   "source": [
    "yeniString[2:]  # 2. indexden başlayarak stringin sonun kadar alır "
   ]
  },
  {
   "cell_type": "code",
   "execution_count": 59,
   "id": "69f050c2-24a0-4f1f-a326-1cc27f14deac",
   "metadata": {},
   "outputs": [
    {
     "data": {
      "text/plain": [
       "'01'"
      ]
     },
     "execution_count": 59,
     "metadata": {},
     "output_type": "execute_result"
    }
   ],
   "source": [
    "yeniString[:2] # Eğer iki nokta operatöründen önce başlangıç indexi belirtilmemişse, dizinin en başından belirtilen index'e kadar olan elemanlar alınır."
   ]
  },
  {
   "cell_type": "markdown",
   "id": "44beca88-1293-482d-bf6f-d6efb7a650d6",
   "metadata": {},
   "source": [
    "## Slicling"
   ]
  },
  {
   "cell_type": "code",
   "execution_count": 61,
   "id": "c1145884-a619-4192-b6cb-351310bda47d",
   "metadata": {},
   "outputs": [],
   "source": [
    "gelenveri = \"Ahmetin Yaşi = 65 \""
   ]
  },
  {
   "cell_type": "code",
   "execution_count": 62,
   "id": "21c4828a-33c2-4136-88b8-61afced5725a",
   "metadata": {},
   "outputs": [
    {
     "data": {
      "text/plain": [
       "'Ahmetin Yaşi = 6'"
      ]
     },
     "execution_count": 62,
     "metadata": {},
     "output_type": "execute_result"
    }
   ],
   "source": [
    "gelenveri[:-2]  # Baştan balayıp sondan -2. elemana kadar alır "
   ]
  },
  {
   "cell_type": "code",
   "execution_count": 63,
   "id": "f03349db-db2a-4328-9856-bc15eba0f1d8",
   "metadata": {},
   "outputs": [
    {
     "data": {
      "text/plain": [
       "'5 '"
      ]
     },
     "execution_count": 63,
     "metadata": {},
     "output_type": "execute_result"
    }
   ],
   "source": [
    "gelenveri[-2:]  # sondan 2. indexden sona kadar alır"
   ]
  },
  {
   "cell_type": "markdown",
   "id": "713da53e-2a59-430b-8240-e8d6c23ebb1a",
   "metadata": {},
   "source": [
    "## Step Size"
   ]
  },
  {
   "cell_type": "markdown",
   "id": "cd11088e-9788-45c1-9372-3129d504356a",
   "metadata": {},
   "source": [
    "Belirli bir düzen ile string'in karakterlerini öğrenmek istiyorsak, step size (adım boyutu) kullanırız."
   ]
  },
  {
   "cell_type": "code",
   "execution_count": 67,
   "id": "1b47a682-898c-496c-bef8-4e9979f18fc1",
   "metadata": {},
   "outputs": [
    {
     "data": {
      "text/plain": [
       "'AtY 5'"
      ]
     },
     "execution_count": 67,
     "metadata": {},
     "output_type": "execute_result"
    }
   ],
   "source": [
    "gelenveri[::4]"
   ]
  },
  {
   "cell_type": "code",
   "execution_count": 68,
   "id": "ea7e0d75-c0e7-4488-bc65-f7128913c697",
   "metadata": {},
   "outputs": [
    {
     "data": {
      "text/plain": [
       "'Ahmetin Yaşi = 65 '"
      ]
     },
     "execution_count": 68,
     "metadata": {},
     "output_type": "execute_result"
    }
   ],
   "source": [
    "gelenveri[::1]"
   ]
  },
  {
   "cell_type": "code",
   "execution_count": 69,
   "id": "91e31a2e-13d4-40ab-bc5d-f3ce546d8aa1",
   "metadata": {},
   "outputs": [
    {
     "data": {
      "text/plain": [
       "'Aena'"
      ]
     },
     "execution_count": 69,
     "metadata": {},
     "output_type": "execute_result"
    }
   ],
   "source": [
    "gelenveri[0:10:3] # Bu ifade şu anlama gelir: 0. index'ten başla, 10. index'e kadar git (10 dahil değil), adım boyutunu 3 al."
   ]
  },
  {
   "cell_type": "code",
   "execution_count": 70,
   "id": "73a03781-0566-496f-b0f7-a118bdfa9519",
   "metadata": {},
   "outputs": [
    {
     "data": {
      "text/plain": [
       "' 56 = işaY nitemhA'"
      ]
     },
     "execution_count": 70,
     "metadata": {},
     "output_type": "execute_result"
    }
   ],
   "source": [
    "gelenveri[::-1] # terstern yazdırır"
   ]
  },
  {
   "cell_type": "code",
   "execution_count": 74,
   "id": "cd1ad277-850b-403e-bb64-1c548bafdd14",
   "metadata": {},
   "outputs": [],
   "source": [
    "benimIsmim = \"atıl\""
   ]
  }
 ],
 "metadata": {
  "kernelspec": {
   "display_name": "Python 3 (ipykernel)",
   "language": "python",
   "name": "python3"
  },
  "language_info": {
   "codemirror_mode": {
    "name": "ipython",
    "version": 3
   },
   "file_extension": ".py",
   "mimetype": "text/x-python",
   "name": "python",
   "nbconvert_exporter": "python",
   "pygments_lexer": "ipython3",
   "version": "3.12.7"
  }
 },
 "nbformat": 4,
 "nbformat_minor": 5
}
