{
 "cells": [
  {
   "cell_type": "markdown",
   "id": "6c58a617-b2fa-449f-ac5a-4645c4164953",
   "metadata": {},
   "source": [
    "# Setler"
   ]
  },
  {
   "cell_type": "code",
   "execution_count": 3,
   "id": "b6c4f879-a84f-4c93-a3e1-be0240522985",
   "metadata": {},
   "outputs": [],
   "source": [
    "benimListem = [1,2,3,1,2,3]"
   ]
  },
  {
   "cell_type": "code",
   "execution_count": 5,
   "id": "237a16a6-f1fa-4413-b112-fbadb6947750",
   "metadata": {},
   "outputs": [
    {
     "data": {
      "text/plain": [
       "[1, 2, 3, 1, 2, 3]"
      ]
     },
     "execution_count": 5,
     "metadata": {},
     "output_type": "execute_result"
    }
   ],
   "source": [
    "benimListem"
   ]
  },
  {
   "cell_type": "markdown",
   "id": "d0d1ecda-ff91-4eb2-9bdd-f678e2b1d1f1",
   "metadata": {},
   "source": [
    "Benzersiz elemanlar: Aynı eleman birden fazla eklenemez.\n",
    "Sırasız: Elemanların sırası değişebilir.\n",
    "Değiştirilebilir: Eleman ekleyip çıkarabilirsiniz.\n"
   ]
  },
  {
   "cell_type": "code",
   "execution_count": 6,
   "id": "8400c079-9c97-4eb3-8cfb-74853fe9b1a2",
   "metadata": {},
   "outputs": [],
   "source": [
    "benimListeSetim = set(benimListem) # bu satırda listeyi sete ceviriyoruz"
   ]
  },
  {
   "cell_type": "code",
   "execution_count": 7,
   "id": "2a30eaa9-be43-4005-882c-10d4f15dcd27",
   "metadata": {},
   "outputs": [
    {
     "data": {
      "text/plain": [
       "set"
      ]
     },
     "execution_count": 7,
     "metadata": {},
     "output_type": "execute_result"
    }
   ],
   "source": [
    "type(benimListeSetim)"
   ]
  },
  {
   "cell_type": "code",
   "execution_count": 8,
   "id": "1a773777-ff3c-43f3-9be2-08ab9fcc37e6",
   "metadata": {},
   "outputs": [
    {
     "data": {
      "text/plain": [
       "{1, 2, 3}"
      ]
     },
     "execution_count": 8,
     "metadata": {},
     "output_type": "execute_result"
    }
   ],
   "source": [
    "benimListeSetim      "
   ]
  },
  {
   "cell_type": "code",
   "execution_count": 9,
   "id": "6b455c28-de03-41b0-807a-29b4ca65283a",
   "metadata": {},
   "outputs": [],
   "source": [
    "benimSet = {\"a\",\"b\",\"c\",'a'}"
   ]
  },
  {
   "cell_type": "code",
   "execution_count": 10,
   "id": "27da40ee-979a-4f78-84a7-68f62e1186a8",
   "metadata": {
    "scrolled": true
   },
   "outputs": [
    {
     "data": {
      "text/plain": [
       "set"
      ]
     },
     "execution_count": 10,
     "metadata": {},
     "output_type": "execute_result"
    }
   ],
   "source": [
    "type(benimSet)"
   ]
  },
  {
   "cell_type": "code",
   "execution_count": 11,
   "id": "2de1545d-4427-46b9-987b-7c4279d771ce",
   "metadata": {
    "scrolled": true
   },
   "outputs": [
    {
     "data": {
      "text/plain": [
       "{'a', 'b', 'c'}"
      ]
     },
     "execution_count": 11,
     "metadata": {},
     "output_type": "execute_result"
    }
   ],
   "source": [
    "benimSet"
   ]
  },
  {
   "cell_type": "code",
   "execution_count": 12,
   "id": "5a68d867-3d18-401c-889b-6e45947f7fac",
   "metadata": {},
   "outputs": [],
   "source": [
    "bosSozluk = {}  # bu şekil sözlük oluşturulabilir"
   ]
  },
  {
   "cell_type": "code",
   "execution_count": 15,
   "id": "7bdefc62-8ca5-4edd-9f9d-9422a51bd93d",
   "metadata": {},
   "outputs": [
    {
     "data": {
      "text/plain": [
       "dict"
      ]
     },
     "execution_count": 15,
     "metadata": {},
     "output_type": "execute_result"
    }
   ],
   "source": [
    "type(bosSozluk)  # Süslü parantez boşsa dict olarak algılanır"
   ]
  },
  {
   "cell_type": "code",
   "execution_count": 17,
   "id": "91694e9c-4072-4454-8080-ac2f5dcea6cb",
   "metadata": {},
   "outputs": [],
   "source": [
    "bosSozluk[\"Anahtar1\"] = 10  # sözlükte atama bu şekilde yapılıur "
   ]
  },
  {
   "cell_type": "code",
   "execution_count": 18,
   "id": "05852aad-de9f-4d7e-b6f9-2171c8771230",
   "metadata": {},
   "outputs": [
    {
     "data": {
      "text/plain": [
       "{'Anahtar1': 10}"
      ]
     },
     "execution_count": 18,
     "metadata": {},
     "output_type": "execute_result"
    }
   ],
   "source": [
    "bosSozluk"
   ]
  },
  {
   "cell_type": "code",
   "execution_count": 19,
   "id": "e8dd8641-8761-4371-bec3-5cae06331748",
   "metadata": {},
   "outputs": [],
   "source": [
    "benimBosSetim = set() # Boş bir şekilde set tanımlamak istiyorsak başında belirtmeliyiz"
   ]
  },
  {
   "cell_type": "code",
   "execution_count": 20,
   "id": "06c5dcce-e14c-4c14-97e4-17f535556bce",
   "metadata": {},
   "outputs": [
    {
     "data": {
      "text/plain": [
       "set"
      ]
     },
     "execution_count": 20,
     "metadata": {},
     "output_type": "execute_result"
    }
   ],
   "source": [
    "type(benimBosSetim)"
   ]
  },
  {
   "cell_type": "code",
   "execution_count": 23,
   "id": "7308553c-bec7-48bd-8ffe-25cb03cf3acd",
   "metadata": {},
   "outputs": [],
   "source": [
    "# Setlerde ekleme işlemi add metoduyla yapılır \n",
    "benimBosSetim.add(10)\n",
    "benimBosSetim.add(10)  \n",
    "benimBosSetim.add(20)"
   ]
  },
  {
   "cell_type": "code",
   "execution_count": 24,
   "id": "cfcfeb57-e925-45b1-8767-cafeefdb4a5d",
   "metadata": {},
   "outputs": [
    {
     "data": {
      "text/plain": [
       "{10, 20}"
      ]
     },
     "execution_count": 24,
     "metadata": {},
     "output_type": "execute_result"
    }
   ],
   "source": [
    "benimBosSetim"
   ]
  },
  {
   "cell_type": "code",
   "execution_count": 25,
   "id": "c5ac2945-45ff-4951-8549-d89c2372071d",
   "metadata": {},
   "outputs": [],
   "source": [
    "benimBosListem = list()  # liste tanımlama bu şekil yapılabilir"
   ]
  },
  {
   "cell_type": "code",
   "execution_count": 26,
   "id": "55027808-d9ed-4c5c-af06-266b84fd1cb3",
   "metadata": {},
   "outputs": [
    {
     "data": {
      "text/plain": [
       "list"
      ]
     },
     "execution_count": 26,
     "metadata": {},
     "output_type": "execute_result"
    }
   ],
   "source": [
    "type(benimBosListem)"
   ]
  },
  {
   "cell_type": "code",
   "execution_count": 27,
   "id": "90d93884-c2bd-4204-87d0-c2a95eb03589",
   "metadata": {},
   "outputs": [],
   "source": [
    "benimBosListem.append(10) # listeye eleman ekleme böyle yapılır"
   ]
  },
  {
   "cell_type": "code",
   "execution_count": 28,
   "id": "2af9a6ed-05c8-47ee-9696-8f5803c1ac4c",
   "metadata": {},
   "outputs": [
    {
     "data": {
      "text/plain": [
       "[10]"
      ]
     },
     "execution_count": 28,
     "metadata": {},
     "output_type": "execute_result"
    }
   ],
   "source": [
    "benimBosListem"
   ]
  },
  {
   "cell_type": "code",
   "execution_count": null,
   "id": "f4a819da-9546-4bfd-b327-425e3dad1af6",
   "metadata": {},
   "outputs": [],
   "source": []
  }
 ],
 "metadata": {
  "kernelspec": {
   "display_name": "Python 3 (ipykernel)",
   "language": "python",
   "name": "python3"
  },
  "language_info": {
   "codemirror_mode": {
    "name": "ipython",
    "version": 3
   },
   "file_extension": ".py",
   "mimetype": "text/x-python",
   "name": "python",
   "nbconvert_exporter": "python",
   "pygments_lexer": "ipython3",
   "version": "3.12.7"
  }
 },
 "nbformat": 4,
 "nbformat_minor": 5
}
