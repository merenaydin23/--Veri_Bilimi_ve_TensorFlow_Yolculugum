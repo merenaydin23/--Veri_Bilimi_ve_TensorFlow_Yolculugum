{
 "cells": [
  {
   "cell_type": "code",
   "execution_count": 1,
   "id": "23bb3a99-c3ce-4113-9d9b-96afac5782f0",
   "metadata": {},
   "outputs": [],
   "source": [
    "benimAdım = \"Eren Aydın\""
   ]
  },
  {
   "cell_type": "code",
   "execution_count": 2,
   "id": "788e01c0-b39b-43db-9310-b8cce526755a",
   "metadata": {},
   "outputs": [
    {
     "data": {
      "text/plain": [
       "'EREN AYDIN'"
      ]
     },
     "execution_count": 2,
     "metadata": {},
     "output_type": "execute_result"
    }
   ],
   "source": [
    "benimAdım.upper()"
   ]
  },
  {
   "cell_type": "code",
   "execution_count": 5,
   "id": "f5468fc6-a8e0-43ee-9ace-fa681537c178",
   "metadata": {},
   "outputs": [
    {
     "data": {
      "text/plain": [
       "'Eren Aydın'"
      ]
     },
     "execution_count": 5,
     "metadata": {},
     "output_type": "execute_result"
    }
   ],
   "source": [
    "benimAdım"
   ]
  },
  {
   "cell_type": "code",
   "execution_count": 6,
   "id": "cbf1eac1-4d27-4e46-85bb-469aa0a911b3",
   "metadata": {},
   "outputs": [],
   "source": [
    "def ilkFonksiyonum():\n",
    "    print(\"Bu fonksiyon benim ilk fonksiyonumdur.\")"
   ]
  },
  {
   "cell_type": "code",
   "execution_count": 7,
   "id": "8804fd4c-afd8-4ae4-b568-d09cc3b0a0a4",
   "metadata": {},
   "outputs": [
    {
     "name": "stdout",
     "output_type": "stream",
     "text": [
      "Bu fonksiyon benim ilk fonksiyonumdur.\n"
     ]
    }
   ],
   "source": [
    "ilkFonksiyonum()"
   ]
  },
  {
   "cell_type": "markdown",
   "id": "be09f154-32a1-4f63-858d-00bf3773a0be",
   "metadata": {},
   "source": [
    "# İnput & Return"
   ]
  },
  {
   "cell_type": "code",
   "execution_count": 14,
   "id": "432b676c-8e34-4d3b-9911-9bf4c38a36e2",
   "metadata": {},
   "outputs": [],
   "source": [
    "def merhaba(isim):\n",
    "    print(\"Merhaba \"+str(isim))"
   ]
  },
  {
   "cell_type": "code",
   "execution_count": 15,
   "id": "ab6199e1-63ed-4ac4-875f-0a354603e9f0",
   "metadata": {},
   "outputs": [
    {
     "name": "stdout",
     "output_type": "stream",
     "text": [
      "Merhaba Developer\n"
     ]
    }
   ],
   "source": [
    "merhaba(\"Developer\")"
   ]
  },
  {
   "cell_type": "code",
   "execution_count": 22,
   "id": "7dd5fb58-6be7-4d50-bfe0-ee703c84a32a",
   "metadata": {},
   "outputs": [],
   "source": [
    "def merhaba1(isim = \"Coder\"):\n",
    "    print(\"Merhaba\")\n",
    "    print(isim)"
   ]
  },
  {
   "cell_type": "code",
   "execution_count": 23,
   "id": "b0a6118d-d989-4337-a5db-9dfbe28d0a56",
   "metadata": {},
   "outputs": [
    {
     "name": "stdout",
     "output_type": "stream",
     "text": [
      "Merhaba\n",
      "Engineer\n"
     ]
    }
   ],
   "source": [
    "merhaba1(\"Engineer\")"
   ]
  },
  {
   "cell_type": "code",
   "execution_count": 24,
   "id": "0de49746-eed0-4cf4-a416-d7a5a66f1b2a",
   "metadata": {},
   "outputs": [
    {
     "name": "stdout",
     "output_type": "stream",
     "text": [
      "Merhaba\n",
      "Coder\n"
     ]
    }
   ],
   "source": [
    "merhaba1()"
   ]
  },
  {
   "cell_type": "code",
   "execution_count": 25,
   "id": "50d9de5e-9d7e-4e83-90b1-b104ed91f5b9",
   "metadata": {},
   "outputs": [],
   "source": [
    "def toplama(numara1,numara2):\n",
    "    sonuc = numara1 + numara2\n",
    "    print(sonuc)"
   ]
  },
  {
   "cell_type": "code",
   "execution_count": 26,
   "id": "7c61c81a-dcfb-49ef-a768-3765506c258f",
   "metadata": {},
   "outputs": [
    {
     "name": "stdout",
     "output_type": "stream",
     "text": [
      "0\n"
     ]
    }
   ],
   "source": [
    "toplama(10,-10)"
   ]
  },
  {
   "cell_type": "code",
   "execution_count": 27,
   "id": "52d3676e-a412-4e9a-915e-5e81362476f3",
   "metadata": {},
   "outputs": [
    {
     "name": "stdout",
     "output_type": "stream",
     "text": [
      "-110\n"
     ]
    }
   ],
   "source": [
    "toplama(-100,-10)"
   ]
  },
  {
   "cell_type": "code",
   "execution_count": 30,
   "id": "51ddbea6-949b-48ba-9c41-9cd09326f21a",
   "metadata": {},
   "outputs": [],
   "source": [
    "def superToplama(num1,num2,num3):\n",
    "    print(num1+num2+num3)"
   ]
  },
  {
   "cell_type": "code",
   "execution_count": 31,
   "id": "4211f99f-7aad-46da-83d0-bd735018f5b5",
   "metadata": {},
   "outputs": [
    {
     "name": "stdout",
     "output_type": "stream",
     "text": [
      "-98735\n"
     ]
    }
   ],
   "source": [
    "superToplama(10,20,-98765)"
   ]
  },
  {
   "cell_type": "code",
   "execution_count": 32,
   "id": "18ccaf19-1d9f-4fbc-a321-1c360b495164",
   "metadata": {},
   "outputs": [
    {
     "name": "stdout",
     "output_type": "stream",
     "text": [
      "60\n"
     ]
    }
   ],
   "source": [
    "yeniDegisken = superToplama(10,20,30)"
   ]
  },
  {
   "cell_type": "code",
   "execution_count": 33,
   "id": "6f7238ca-9554-4921-a9b0-c79a493e1b36",
   "metadata": {},
   "outputs": [
    {
     "data": {
      "text/plain": [
       "NoneType"
      ]
     },
     "execution_count": 33,
     "metadata": {},
     "output_type": "execute_result"
    }
   ],
   "source": [
    "type(yeniDegisken)"
   ]
  },
  {
   "cell_type": "code",
   "execution_count": 41,
   "id": "d149ca90-3fa8-493f-9d86-2fcea5f7b910",
   "metadata": {},
   "outputs": [],
   "source": [
    "def dondurmeliToplama(num1,num2):\n",
    "    return num1+num2 "
   ]
  },
  {
   "cell_type": "code",
   "execution_count": 42,
   "id": "99c112a2-ed35-4f79-8d7f-5537cf1e222d",
   "metadata": {},
   "outputs": [],
   "source": [
    "yeniSonuc = dondurmeliToplama(100,98)"
   ]
  },
  {
   "cell_type": "code",
   "execution_count": 43,
   "id": "3b9906ac-214f-47e1-b3c0-22d508e0de38",
   "metadata": {},
   "outputs": [
    {
     "data": {
      "text/plain": [
       "int"
      ]
     },
     "execution_count": 43,
     "metadata": {},
     "output_type": "execute_result"
    }
   ],
   "source": [
    "type(yeniSonuc)"
   ]
  },
  {
   "cell_type": "code",
   "execution_count": 44,
   "id": "b65e3e5a-70ab-4494-8328-ee3d644fef3f",
   "metadata": {},
   "outputs": [
    {
     "data": {
      "text/plain": [
       "198"
      ]
     },
     "execution_count": 44,
     "metadata": {},
     "output_type": "execute_result"
    }
   ],
   "source": [
    "yeniSonuc"
   ]
  },
  {
   "cell_type": "code",
   "execution_count": 48,
   "id": "319a1ca4-c323-48e9-ba80-9c310829cba7",
   "metadata": {},
   "outputs": [],
   "source": [
    "def kontrolFonksiyon(s):\n",
    "    if s == \"eren\":\n",
    "        print(\"Verdiğin string eren\")\n",
    "    else : \n",
    "        print(\"Verdiğin string eren değil\")"
   ]
  },
  {
   "cell_type": "code",
   "execution_count": 49,
   "id": "98df8ac7-6b27-40e0-81a6-938e34d566a3",
   "metadata": {},
   "outputs": [
    {
     "name": "stdout",
     "output_type": "stream",
     "text": [
      "Verdiğin string eren değil\n"
     ]
    }
   ],
   "source": [
    "kontrolFonksiyon(\"REM\")"
   ]
  },
  {
   "cell_type": "code",
   "execution_count": 50,
   "id": "b0cdacbf-f9ee-4a7f-9f88-d7d2957bd2ea",
   "metadata": {},
   "outputs": [
    {
     "name": "stdout",
     "output_type": "stream",
     "text": [
      "Verdiğin string eren\n"
     ]
    }
   ],
   "source": [
    "kontrolFonksiyon(\"eren\")"
   ]
  },
  {
   "cell_type": "markdown",
   "id": "56c59727-01aa-4edf-a708-4eb092d7896e",
   "metadata": {},
   "source": [
    "## Args & Kwargs"
   ]
  },
  {
   "cell_type": "code",
   "execution_count": 58,
   "id": "e3848c53-6ecd-4921-8240-c38d663ff61e",
   "metadata": {},
   "outputs": [],
   "source": [
    "def yeniToplama(*args):\n",
    "    return sum(args)"
   ]
  },
  {
   "cell_type": "code",
   "execution_count": 59,
   "id": "582bac47-d48e-44ca-9d46-956cbff5d921",
   "metadata": {},
   "outputs": [
    {
     "data": {
      "text/plain": [
       "550"
      ]
     },
     "execution_count": 59,
     "metadata": {},
     "output_type": "execute_result"
    }
   ],
   "source": [
    "yeniToplama(10,20,30,40,50,60,70,80,90,100)"
   ]
  },
  {
   "cell_type": "code",
   "execution_count": 60,
   "id": "b0972222-b352-48a0-84a5-9331a32ba8b2",
   "metadata": {},
   "outputs": [
    {
     "data": {
      "text/plain": [
       "450"
      ]
     },
     "execution_count": 60,
     "metadata": {},
     "output_type": "execute_result"
    }
   ],
   "source": [
    "yeniToplama(50,60,70,80,90,100)"
   ]
  },
  {
   "cell_type": "code",
   "execution_count": 65,
   "id": "27b78c8f-5234-4035-87d9-72db07aeae7a",
   "metadata": {},
   "outputs": [],
   "source": [
    "def benimFonksiyonum(*b):\n",
    "   return b"
   ]
  },
  {
   "cell_type": "code",
   "execution_count": 66,
   "id": "b2d45a4e-8a28-41c8-be3e-2e7f2ed049b9",
   "metadata": {},
   "outputs": [
    {
     "data": {
      "text/plain": [
       "tuple"
      ]
     },
     "execution_count": 66,
     "metadata": {},
     "output_type": "execute_result"
    }
   ],
   "source": [
    "type(benimFonksiyonum(20,30,40))"
   ]
  },
  {
   "cell_type": "code",
   "execution_count": 70,
   "id": "ab7c915c-1417-439c-a5ca-d46559e0f5a1",
   "metadata": {},
   "outputs": [],
   "source": [
    "def ornekFonksiyon(**kwargs):\n",
    "    return kwargs"
   ]
  },
  {
   "cell_type": "code",
   "execution_count": 71,
   "id": "6e6ff777-f900-4dee-900f-3c87ede61078",
   "metadata": {},
   "outputs": [
    {
     "data": {
      "text/plain": [
       "dict"
      ]
     },
     "execution_count": 71,
     "metadata": {},
     "output_type": "execute_result"
    }
   ],
   "source": [
    "type(ornekFonksiyon(muz = 100 ,elma= 200 , süt = 300))"
   ]
  },
  {
   "cell_type": "code",
   "execution_count": 72,
   "id": "cedf6965-a6d4-4461-b071-a82bbf9e6d77",
   "metadata": {},
   "outputs": [
    {
     "data": {
      "text/plain": [
       "{'muz': 100, 'elma': 200, 'süt': 300}"
      ]
     },
     "execution_count": 72,
     "metadata": {},
     "output_type": "execute_result"
    }
   ],
   "source": [
    "ornekFonksiyon(muz = 100 ,elma= 200 , süt = 300)"
   ]
  },
  {
   "cell_type": "code",
   "execution_count": null,
   "id": "811a4ce2-5466-41a5-83ca-27ace8a06403",
   "metadata": {},
   "outputs": [],
   "source": []
  },
  {
   "cell_type": "code",
   "execution_count": null,
   "id": "4c955f93-9344-43bc-8488-6e9cdb22f20f",
   "metadata": {},
   "outputs": [],
   "source": []
  }
 ],
 "metadata": {
  "kernelspec": {
   "display_name": "Python 3 (ipykernel)",
   "language": "python",
   "name": "python3"
  },
  "language_info": {
   "codemirror_mode": {
    "name": "ipython",
    "version": 3
   },
   "file_extension": ".py",
   "mimetype": "text/x-python",
   "name": "python",
   "nbconvert_exporter": "python",
   "pygments_lexer": "ipython3",
   "version": "3.12.7"
  }
 },
 "nbformat": 4,
 "nbformat_minor": 5
}
